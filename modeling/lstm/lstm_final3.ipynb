{
 "cells": [
  {
   "cell_type": "code",
   "execution_count": 1,
   "id": "35159985",
   "metadata": {},
   "outputs": [],
   "source": [
    "from sklearn.model_selection import train_test_split\n",
    "from sklearn.preprocessing import StandardScaler\n",
    "from tensorflow.keras.models import Sequential\n",
    "from tensorflow.keras.layers import LSTM, Dense, Dropout\n",
    "from tensorflow.keras.callbacks import Callback\n",
    "import matplotlib.pyplot as plt\n",
    "from tqdm import tqdm\n",
    "import numpy as np\n",
    "import pandas as pd"
   ]
  },
  {
   "cell_type": "code",
   "execution_count": 2,
   "id": "a3b2c512",
   "metadata": {},
   "outputs": [],
   "source": [
    "TIMESTEPS = 10 # 10 or 20\n",
    "EPOCHS = 50\n",
    "BATCH_SIZE = 32 # 8 or 16\n",
    "STEPS = int(TIMESTEPS / 2) # TIMESTEPS or int(TIMESTPES / 2)"
   ]
  },
  {
   "cell_type": "code",
   "execution_count": 8,
   "id": "7a5c0dff",
   "metadata": {},
   "outputs": [
    {
     "name": "stdout",
     "output_type": "stream",
     "text": [
      "Train set: (631062, 10, 18), Test set: (157766, 10, 18)\n"
     ]
    }
   ],
   "source": [
    "# 데이터 로드\n",
    "df_merged = pd.read_csv('../data/final_data.csv')\n",
    "\n",
    "# 데이터 준비\n",
    "df = df_merged.copy()\n",
    "\n",
    "# Feature와 Target 분리\n",
    "X = df.drop(columns=['trade_price_10min_later']).values\n",
    "y = df['trade_price_10min_later'].values\n",
    "\n",
    "# 데이터 스케일링\n",
    "scaler = StandardScaler()\n",
    "X_scaled = scaler.fit_transform(X)\n",
    "\n",
    "# 시계열 데이터 형식으로 변환 (샘플 간 공유 없음)\n",
    "timesteps = TIMESTEPS\n",
    "X_sequences, y_sequences = [], []\n",
    "\n",
    "# i를 timesteps 크기만큼 건너뛰며 샘플 생성\n",
    "for i in range(0, len(X_scaled) - timesteps, STEPS):\n",
    "    X_sequences.append(X_scaled[i:i+timesteps])\n",
    "    y_sequences.append(y[i+timesteps])\n",
    "\n",
    "X_sequences = np.array(X_sequences, dtype=np.float32)\n",
    "y_sequences = np.array(y_sequences)\n",
    "\n",
    "# Train, Test 분할 (80% Train, 20% Test)\n",
    "X_train, X_test, y_train, y_test = train_test_split(X_sequences, y_sequences, test_size=0.2, random_state=1, shuffle=True)\n",
    "\n",
    "# 분할 비율 출력\n",
    "print(f\"Train set: {X_train.shape}, Test set: {X_test.shape}\")"
   ]
  },
  {
   "cell_type": "code",
   "execution_count": 9,
   "id": "6a0013d0",
   "metadata": {},
   "outputs": [
    {
     "name": "stderr",
     "output_type": "stream",
     "text": [
      "Training Progress:   0%|                                                                        | 0/50 [00:00<?, ?it/s]"
     ]
    },
    {
     "name": "stdout",
     "output_type": "stream",
     "text": [
      "Epoch 1/50\n",
      "19719/19721 [============================>.] - ETA: 0s - loss: 0.6879 - accuracy: 0.5229"
     ]
    },
    {
     "name": "stderr",
     "output_type": "stream",
     "text": [
      "Training Progress:   2%|▉                                                | 1/50 [06:21<5:11:38, 381.59s/it, loss=0.688]"
     ]
    },
    {
     "name": "stdout",
     "output_type": "stream",
     "text": [
      "19721/19721 [==============================] - 381s 19ms/step - loss: 0.6879 - accuracy: 0.5229 - val_loss: 0.6861 - val_accuracy: 0.5306\n",
      "Epoch 2/50\n",
      "19719/19721 [============================>.] - ETA: 0s - loss: 0.6862 - accuracy: 0.5296"
     ]
    },
    {
     "name": "stderr",
     "output_type": "stream",
     "text": [
      "Training Progress:   4%|█▉                                               | 2/50 [12:19<4:54:07, 367.65s/it, loss=0.686]"
     ]
    },
    {
     "name": "stdout",
     "output_type": "stream",
     "text": [
      "19721/19721 [==============================] - 358s 18ms/step - loss: 0.6862 - accuracy: 0.5296 - val_loss: 0.6854 - val_accuracy: 0.5339\n",
      "Epoch 3/50\n",
      "19721/19721 [==============================] - ETA: 0s - loss: 0.6846 - accuracy: 0.5358"
     ]
    },
    {
     "name": "stderr",
     "output_type": "stream",
     "text": [
      "Training Progress:   6%|██▉                                              | 3/50 [18:18<4:44:53, 363.68s/it, loss=0.685]"
     ]
    },
    {
     "name": "stdout",
     "output_type": "stream",
     "text": [
      "19721/19721 [==============================] - 359s 18ms/step - loss: 0.6846 - accuracy: 0.5358 - val_loss: 0.6837 - val_accuracy: 0.5365\n",
      "Epoch 4/50\n",
      "19719/19721 [============================>.] - ETA: 0s - loss: 0.6825 - accuracy: 0.5413"
     ]
    },
    {
     "name": "stderr",
     "output_type": "stream",
     "text": [
      "Training Progress:   8%|███▉                                             | 4/50 [24:16<4:36:58, 361.26s/it, loss=0.682]"
     ]
    },
    {
     "name": "stdout",
     "output_type": "stream",
     "text": [
      "19721/19721 [==============================] - 358s 18ms/step - loss: 0.6825 - accuracy: 0.5413 - val_loss: 0.6815 - val_accuracy: 0.5436\n",
      "Epoch 5/50\n",
      "19718/19721 [============================>.] - ETA: 0s - loss: 0.6799 - accuracy: 0.5492"
     ]
    },
    {
     "name": "stderr",
     "output_type": "stream",
     "text": [
      "Training Progress:  10%|█████                                             | 5/50 [30:13<4:30:01, 360.02s/it, loss=0.68]"
     ]
    },
    {
     "name": "stdout",
     "output_type": "stream",
     "text": [
      "19721/19721 [==============================] - 358s 18ms/step - loss: 0.6799 - accuracy: 0.5492 - val_loss: 0.6810 - val_accuracy: 0.5442\n",
      "Epoch 6/50\n",
      "19719/19721 [============================>.] - ETA: 0s - loss: 0.6771 - accuracy: 0.5558"
     ]
    },
    {
     "name": "stderr",
     "output_type": "stream",
     "text": [
      "Training Progress:  12%|█████▉                                           | 6/50 [36:00<4:20:44, 355.55s/it, loss=0.677]"
     ]
    },
    {
     "name": "stdout",
     "output_type": "stream",
     "text": [
      "19721/19721 [==============================] - 347s 18ms/step - loss: 0.6771 - accuracy: 0.5559 - val_loss: 0.6775 - val_accuracy: 0.5568\n",
      "Epoch 7/50\n",
      "19720/19721 [============================>.] - ETA: 0s - loss: 0.6738 - accuracy: 0.5639"
     ]
    },
    {
     "name": "stderr",
     "output_type": "stream",
     "text": [
      "Training Progress:  14%|██████▊                                          | 7/50 [41:50<4:13:22, 353.54s/it, loss=0.674]"
     ]
    },
    {
     "name": "stdout",
     "output_type": "stream",
     "text": [
      "19721/19721 [==============================] - 349s 18ms/step - loss: 0.6738 - accuracy: 0.5639 - val_loss: 0.6755 - val_accuracy: 0.5598\n",
      "Epoch 8/50\n",
      "19720/19721 [============================>.] - ETA: 0s - loss: 0.6703 - accuracy: 0.5700"
     ]
    },
    {
     "name": "stderr",
     "output_type": "stream",
     "text": [
      "Training Progress:  16%|████████                                          | 8/50 [47:37<4:06:11, 351.71s/it, loss=0.67]"
     ]
    },
    {
     "name": "stdout",
     "output_type": "stream",
     "text": [
      "19721/19721 [==============================] - 348s 18ms/step - loss: 0.6703 - accuracy: 0.5700 - val_loss: 0.6724 - val_accuracy: 0.5647\n",
      "Epoch 9/50\n",
      "19720/19721 [============================>.] - ETA: 0s - loss: 0.6669 - accuracy: 0.5748"
     ]
    },
    {
     "name": "stderr",
     "output_type": "stream",
     "text": [
      "Training Progress:  18%|████████▊                                        | 9/50 [53:38<4:02:19, 354.63s/it, loss=0.667]"
     ]
    },
    {
     "name": "stdout",
     "output_type": "stream",
     "text": [
      "19721/19721 [==============================] - 361s 18ms/step - loss: 0.6669 - accuracy: 0.5748 - val_loss: 0.6720 - val_accuracy: 0.5642\n",
      "Epoch 10/50\n",
      "19720/19721 [============================>.] - ETA: 0s - loss: 0.6633 - accuracy: 0.5806"
     ]
    },
    {
     "name": "stderr",
     "output_type": "stream",
     "text": [
      "Training Progress:  20%|█████████▌                                      | 10/50 [59:28<3:55:22, 353.07s/it, loss=0.663]"
     ]
    },
    {
     "name": "stdout",
     "output_type": "stream",
     "text": [
      "19721/19721 [==============================] - 350s 18ms/step - loss: 0.6633 - accuracy: 0.5806 - val_loss: 0.6702 - val_accuracy: 0.5700\n",
      "Epoch 11/50\n",
      "19721/19721 [==============================] - ETA: 0s - loss: 0.6597 - accuracy: 0.5848"
     ]
    },
    {
     "name": "stderr",
     "output_type": "stream",
     "text": [
      "Training Progress:  22%|██████████▎                                    | 11/50 [1:05:16<3:48:26, 351.45s/it, loss=0.66]"
     ]
    },
    {
     "name": "stdout",
     "output_type": "stream",
     "text": [
      "19721/19721 [==============================] - 348s 18ms/step - loss: 0.6597 - accuracy: 0.5848 - val_loss: 0.6704 - val_accuracy: 0.5717\n",
      "Epoch 12/50\n",
      "19721/19721 [==============================] - ETA: 0s - loss: 0.6562 - accuracy: 0.5900"
     ]
    },
    {
     "name": "stderr",
     "output_type": "stream",
     "text": [
      "Training Progress:  24%|███████████                                   | 12/50 [1:11:07<3:42:32, 351.37s/it, loss=0.656]"
     ]
    },
    {
     "name": "stdout",
     "output_type": "stream",
     "text": [
      "19721/19721 [==============================] - 351s 18ms/step - loss: 0.6562 - accuracy: 0.5900 - val_loss: 0.6659 - val_accuracy: 0.5755\n",
      "Epoch 13/50\n",
      "19719/19721 [============================>.] - ETA: 0s - loss: 0.6526 - accuracy: 0.5944"
     ]
    },
    {
     "name": "stderr",
     "output_type": "stream",
     "text": [
      "Training Progress:  26%|███████████▉                                  | 13/50 [1:16:58<3:36:41, 351.38s/it, loss=0.653]"
     ]
    },
    {
     "name": "stdout",
     "output_type": "stream",
     "text": [
      "19721/19721 [==============================] - 351s 18ms/step - loss: 0.6526 - accuracy: 0.5944 - val_loss: 0.6645 - val_accuracy: 0.5791\n",
      "Epoch 14/50\n",
      "19718/19721 [============================>.] - ETA: 0s - loss: 0.6492 - accuracy: 0.5990"
     ]
    },
    {
     "name": "stderr",
     "output_type": "stream",
     "text": [
      "Training Progress:  28%|████████████▉                                 | 14/50 [1:22:47<3:30:24, 350.69s/it, loss=0.649]"
     ]
    },
    {
     "name": "stdout",
     "output_type": "stream",
     "text": [
      "19721/19721 [==============================] - 349s 18ms/step - loss: 0.6492 - accuracy: 0.5991 - val_loss: 0.6642 - val_accuracy: 0.5807\n",
      "Epoch 15/50\n",
      "19719/19721 [============================>.] - ETA: 0s - loss: 0.6455 - accuracy: 0.6028"
     ]
    },
    {
     "name": "stderr",
     "output_type": "stream",
     "text": [
      "Training Progress:  30%|█████████████▊                                | 15/50 [1:28:37<3:24:20, 350.31s/it, loss=0.646]"
     ]
    },
    {
     "name": "stdout",
     "output_type": "stream",
     "text": [
      "19721/19721 [==============================] - 349s 18ms/step - loss: 0.6455 - accuracy: 0.6028 - val_loss: 0.6654 - val_accuracy: 0.5814\n",
      "Epoch 16/50\n",
      "19720/19721 [============================>.] - ETA: 0s - loss: 0.6423 - accuracy: 0.6066"
     ]
    },
    {
     "name": "stderr",
     "output_type": "stream",
     "text": [
      "Training Progress:  32%|██████████████▋                               | 16/50 [1:34:29<3:18:49, 350.88s/it, loss=0.642]"
     ]
    },
    {
     "name": "stdout",
     "output_type": "stream",
     "text": [
      "19721/19721 [==============================] - 352s 18ms/step - loss: 0.6423 - accuracy: 0.6066 - val_loss: 0.6619 - val_accuracy: 0.5850\n",
      "Epoch 17/50\n",
      "19718/19721 [============================>.] - ETA: 0s - loss: 0.6390 - accuracy: 0.6107"
     ]
    },
    {
     "name": "stderr",
     "output_type": "stream",
     "text": [
      "Training Progress:  34%|███████████████▋                              | 17/50 [1:40:21<3:13:04, 351.04s/it, loss=0.639]"
     ]
    },
    {
     "name": "stdout",
     "output_type": "stream",
     "text": [
      "19721/19721 [==============================] - 351s 18ms/step - loss: 0.6390 - accuracy: 0.6108 - val_loss: 0.6611 - val_accuracy: 0.5867\n",
      "Epoch 18/50\n",
      "19721/19721 [==============================] - ETA: 0s - loss: 0.6359 - accuracy: 0.6143"
     ]
    },
    {
     "name": "stderr",
     "output_type": "stream",
     "text": [
      "Training Progress:  36%|████████████████▌                             | 18/50 [1:46:52<3:13:39, 363.11s/it, loss=0.636]"
     ]
    },
    {
     "name": "stdout",
     "output_type": "stream",
     "text": [
      "19721/19721 [==============================] - 391s 20ms/step - loss: 0.6359 - accuracy: 0.6143 - val_loss: 0.6621 - val_accuracy: 0.5862\n",
      "Epoch 19/50\n",
      "19719/19721 [============================>.] - ETA: 0s - loss: 0.6333 - accuracy: 0.6171"
     ]
    },
    {
     "name": "stderr",
     "output_type": "stream",
     "text": [
      "Training Progress:  38%|█████████████████▍                            | 19/50 [1:53:21<3:11:42, 371.05s/it, loss=0.633]"
     ]
    },
    {
     "name": "stdout",
     "output_type": "stream",
     "text": [
      "19721/19721 [==============================] - 390s 20ms/step - loss: 0.6333 - accuracy: 0.6171 - val_loss: 0.6642 - val_accuracy: 0.5870\n",
      "Epoch 20/50\n",
      "19720/19721 [============================>.] - ETA: 0s - loss: 0.6304 - accuracy: 0.6203"
     ]
    },
    {
     "name": "stderr",
     "output_type": "stream",
     "text": [
      "Training Progress:  40%|██████████████████▊                            | 20/50 [1:59:54<3:08:46, 377.56s/it, loss=0.63]"
     ]
    },
    {
     "name": "stdout",
     "output_type": "stream",
     "text": [
      "19721/19721 [==============================] - 393s 20ms/step - loss: 0.6304 - accuracy: 0.6203 - val_loss: 0.6624 - val_accuracy: 0.5904\n",
      "Epoch 21/50\n",
      "19719/19721 [============================>.] - ETA: 0s - loss: 0.6275 - accuracy: 0.6242"
     ]
    },
    {
     "name": "stderr",
     "output_type": "stream",
     "text": [
      "Training Progress:  42%|███████████████████▎                          | 21/50 [2:06:27<3:04:41, 382.11s/it, loss=0.627]"
     ]
    },
    {
     "name": "stdout",
     "output_type": "stream",
     "text": [
      "19721/19721 [==============================] - 393s 20ms/step - loss: 0.6275 - accuracy: 0.6242 - val_loss: 0.6612 - val_accuracy: 0.5911\n",
      "Epoch 22/50\n",
      "19719/19721 [============================>.] - ETA: 0s - loss: 0.6251 - accuracy: 0.6255"
     ]
    },
    {
     "name": "stderr",
     "output_type": "stream",
     "text": [
      "Training Progress:  44%|████████████████████▏                         | 22/50 [2:13:04<3:00:29, 386.77s/it, loss=0.625]"
     ]
    },
    {
     "name": "stdout",
     "output_type": "stream",
     "text": [
      "19721/19721 [==============================] - 398s 20ms/step - loss: 0.6251 - accuracy: 0.6254 - val_loss: 0.6614 - val_accuracy: 0.5921\n",
      "Epoch 23/50\n",
      "19720/19721 [============================>.] - ETA: 0s - loss: 0.6223 - accuracy: 0.6292"
     ]
    },
    {
     "name": "stderr",
     "output_type": "stream",
     "text": [
      "Training Progress:  46%|█████████████████████▏                        | 23/50 [2:20:04<2:58:25, 396.49s/it, loss=0.622]"
     ]
    },
    {
     "name": "stdout",
     "output_type": "stream",
     "text": [
      "19721/19721 [==============================] - 419s 21ms/step - loss: 0.6223 - accuracy: 0.6292 - val_loss: 0.6606 - val_accuracy: 0.5928\n",
      "Epoch 24/50\n",
      "19720/19721 [============================>.] - ETA: 0s - loss: 0.6207 - accuracy: 0.6309"
     ]
    },
    {
     "name": "stderr",
     "output_type": "stream",
     "text": [
      "Training Progress:  48%|██████████████████████                        | 24/50 [2:27:14<2:56:16, 406.80s/it, loss=0.621]"
     ]
    },
    {
     "name": "stdout",
     "output_type": "stream",
     "text": [
      "19721/19721 [==============================] - 431s 22ms/step - loss: 0.6207 - accuracy: 0.6309 - val_loss: 0.6586 - val_accuracy: 0.5933\n",
      "Epoch 25/50\n",
      "19721/19721 [==============================] - ETA: 0s - loss: 0.6184 - accuracy: 0.6331"
     ]
    },
    {
     "name": "stderr",
     "output_type": "stream",
     "text": [
      "Training Progress:  50%|███████████████████████                       | 25/50 [2:34:38<2:54:03, 417.73s/it, loss=0.618]"
     ]
    },
    {
     "name": "stdout",
     "output_type": "stream",
     "text": [
      "19721/19721 [==============================] - 443s 22ms/step - loss: 0.6184 - accuracy: 0.6331 - val_loss: 0.6597 - val_accuracy: 0.5933\n",
      "Epoch 26/50\n",
      "19721/19721 [==============================] - ETA: 0s - loss: 0.6162 - accuracy: 0.6349"
     ]
    },
    {
     "name": "stderr",
     "output_type": "stream",
     "text": [
      "Training Progress:  52%|███████████████████████▉                      | 26/50 [2:42:07<2:50:55, 427.31s/it, loss=0.616]"
     ]
    },
    {
     "name": "stdout",
     "output_type": "stream",
     "text": [
      "19721/19721 [==============================] - 450s 23ms/step - loss: 0.6162 - accuracy: 0.6349 - val_loss: 0.6615 - val_accuracy: 0.5937\n",
      "Epoch 27/50\n",
      "19719/19721 [============================>.] - ETA: 0s - loss: 0.6141 - accuracy: 0.6369"
     ]
    },
    {
     "name": "stderr",
     "output_type": "stream",
     "text": [
      "Training Progress:  54%|████████████████████████▊                     | 27/50 [2:49:47<2:47:31, 437.02s/it, loss=0.614]"
     ]
    },
    {
     "name": "stdout",
     "output_type": "stream",
     "text": [
      "19721/19721 [==============================] - 460s 23ms/step - loss: 0.6141 - accuracy: 0.6369 - val_loss: 0.6626 - val_accuracy: 0.5946\n",
      "Epoch 28/50\n",
      "19719/19721 [============================>.] - ETA: 0s - loss: 0.6123 - accuracy: 0.6399"
     ]
    },
    {
     "name": "stderr",
     "output_type": "stream",
     "text": [
      "Training Progress:  56%|█████████████████████████▊                    | 28/50 [2:57:47<2:45:00, 450.00s/it, loss=0.612]"
     ]
    },
    {
     "name": "stdout",
     "output_type": "stream",
     "text": [
      "19721/19721 [==============================] - 480s 24ms/step - loss: 0.6123 - accuracy: 0.6399 - val_loss: 0.6628 - val_accuracy: 0.5948\n",
      "Epoch 29/50\n",
      "19721/19721 [==============================] - ETA: 0s - loss: 0.6110 - accuracy: 0.6407"
     ]
    },
    {
     "name": "stderr",
     "output_type": "stream",
     "text": [
      "Training Progress:  58%|██████████████████████████▋                   | 29/50 [3:06:01<2:42:04, 463.09s/it, loss=0.611]"
     ]
    },
    {
     "name": "stdout",
     "output_type": "stream",
     "text": [
      "19721/19721 [==============================] - 494s 25ms/step - loss: 0.6110 - accuracy: 0.6407 - val_loss: 0.6610 - val_accuracy: 0.5951\n",
      "Epoch 30/50\n",
      "19721/19721 [==============================] - ETA: 0s - loss: 0.6093 - accuracy: 0.6418"
     ]
    },
    {
     "name": "stderr",
     "output_type": "stream",
     "text": [
      "Training Progress:  60%|███████████████████████████▌                  | 30/50 [3:14:32<2:39:11, 477.57s/it, loss=0.609]"
     ]
    },
    {
     "name": "stdout",
     "output_type": "stream",
     "text": [
      "19721/19721 [==============================] - 511s 26ms/step - loss: 0.6093 - accuracy: 0.6418 - val_loss: 0.6621 - val_accuracy: 0.5959\n",
      "Epoch 31/50\n",
      "19721/19721 [==============================] - ETA: 0s - loss: 0.6079 - accuracy: 0.6434"
     ]
    },
    {
     "name": "stderr",
     "output_type": "stream",
     "text": [
      "Training Progress:  62%|████████████████████████████▌                 | 31/50 [3:23:21<2:36:07, 493.01s/it, loss=0.608]"
     ]
    },
    {
     "name": "stdout",
     "output_type": "stream",
     "text": [
      "19721/19721 [==============================] - 529s 27ms/step - loss: 0.6079 - accuracy: 0.6434 - val_loss: 0.6601 - val_accuracy: 0.5964\n",
      "Epoch 32/50\n",
      "19719/19721 [============================>.] - ETA: 0s - loss: 0.6065 - accuracy: 0.6442"
     ]
    },
    {
     "name": "stderr",
     "output_type": "stream",
     "text": [
      "Training Progress:  64%|█████████████████████████████▍                | 32/50 [3:32:30<2:32:52, 509.60s/it, loss=0.607]"
     ]
    },
    {
     "name": "stdout",
     "output_type": "stream",
     "text": [
      "19721/19721 [==============================] - 548s 28ms/step - loss: 0.6065 - accuracy: 0.6442 - val_loss: 0.6601 - val_accuracy: 0.5963\n",
      "Epoch 33/50\n",
      "19721/19721 [==============================] - ETA: 0s - loss: 0.6052 - accuracy: 0.6465"
     ]
    },
    {
     "name": "stderr",
     "output_type": "stream",
     "text": [
      "Training Progress:  66%|██████████████████████████████▎               | 33/50 [3:41:59<2:29:29, 527.64s/it, loss=0.605]"
     ]
    },
    {
     "name": "stdout",
     "output_type": "stream",
     "text": [
      "19721/19721 [==============================] - 570s 29ms/step - loss: 0.6052 - accuracy: 0.6465 - val_loss: 0.6611 - val_accuracy: 0.5965\n",
      "Epoch 34/50\n",
      "19719/19721 [============================>.] - ETA: 0s - loss: 0.6044 - accuracy: 0.6478"
     ]
    },
    {
     "name": "stderr",
     "output_type": "stream",
     "text": [
      "Training Progress:  68%|███████████████████████████████▎              | 34/50 [3:51:41<2:25:01, 543.84s/it, loss=0.604]"
     ]
    },
    {
     "name": "stdout",
     "output_type": "stream",
     "text": [
      "19721/19721 [==============================] - 582s 29ms/step - loss: 0.6044 - accuracy: 0.6478 - val_loss: 0.6626 - val_accuracy: 0.5976\n",
      "Epoch 35/50\n",
      "19721/19721 [==============================] - ETA: 0s - loss: 0.6030 - accuracy: 0.6480"
     ]
    },
    {
     "name": "stderr",
     "output_type": "stream",
     "text": [
      "Training Progress:  70%|████████████████████████████████▏             | 35/50 [4:01:08<2:17:42, 550.84s/it, loss=0.603]"
     ]
    },
    {
     "name": "stdout",
     "output_type": "stream",
     "text": [
      "19721/19721 [==============================] - 567s 29ms/step - loss: 0.6030 - accuracy: 0.6480 - val_loss: 0.6656 - val_accuracy: 0.5977\n",
      "Epoch 36/50\n",
      "19720/19721 [============================>.] - ETA: 0s - loss: 0.6020 - accuracy: 0.6489"
     ]
    },
    {
     "name": "stderr",
     "output_type": "stream",
     "text": [
      "Training Progress:  72%|█████████████████████████████████             | 36/50 [4:09:55<2:06:51, 543.64s/it, loss=0.602]"
     ]
    },
    {
     "name": "stdout",
     "output_type": "stream",
     "text": [
      "19721/19721 [==============================] - 527s 27ms/step - loss: 0.6020 - accuracy: 0.6489 - val_loss: 0.6626 - val_accuracy: 0.5987\n",
      "Epoch 37/50\n",
      "19721/19721 [==============================] - ETA: 0s - loss: 0.6012 - accuracy: 0.6496"
     ]
    },
    {
     "name": "stderr",
     "output_type": "stream",
     "text": [
      "Training Progress:  74%|██████████████████████████████████            | 37/50 [4:18:14<1:54:53, 530.27s/it, loss=0.601]"
     ]
    },
    {
     "name": "stdout",
     "output_type": "stream",
     "text": [
      "19721/19721 [==============================] - 499s 25ms/step - loss: 0.6012 - accuracy: 0.6496 - val_loss: 0.6622 - val_accuracy: 0.5977\n",
      "Epoch 38/50\n",
      "19719/19721 [============================>.] - ETA: 0s - loss: 0.6005 - accuracy: 0.6510"
     ]
    },
    {
     "name": "stderr",
     "output_type": "stream",
     "text": [
      "Training Progress:  76%|██████████████████████████████████▉           | 38/50 [4:26:15<1:43:05, 515.42s/it, loss=0.601]"
     ]
    },
    {
     "name": "stdout",
     "output_type": "stream",
     "text": [
      "19721/19721 [==============================] - 481s 24ms/step - loss: 0.6005 - accuracy: 0.6510 - val_loss: 0.6587 - val_accuracy: 0.5968\n",
      "Epoch 39/50\n",
      "19720/19721 [============================>.] - ETA: 0s - loss: 0.5997 - accuracy: 0.6523"
     ]
    },
    {
     "name": "stderr",
     "output_type": "stream",
     "text": [
      "Training Progress:  78%|█████████████████████████████████████▍          | 39/50 [4:34:22<1:32:55, 506.86s/it, loss=0.6]"
     ]
    },
    {
     "name": "stdout",
     "output_type": "stream",
     "text": [
      "19721/19721 [==============================] - 487s 25ms/step - loss: 0.5997 - accuracy: 0.6523 - val_loss: 0.6627 - val_accuracy: 0.5989\n",
      "Epoch 40/50\n",
      "19719/19721 [============================>.] - ETA: 0s - loss: 0.5997 - accuracy: 0.6522"
     ]
    },
    {
     "name": "stderr",
     "output_type": "stream",
     "text": [
      "Training Progress:  80%|██████████████████████████████████████▍         | 40/50 [4:40:56<1:18:51, 473.15s/it, loss=0.6]"
     ]
    },
    {
     "name": "stdout",
     "output_type": "stream",
     "text": [
      "19721/19721 [==============================] - 394s 20ms/step - loss: 0.5997 - accuracy: 0.6522 - val_loss: 0.6632 - val_accuracy: 0.5984\n",
      "Epoch 41/50\n",
      "19719/19721 [============================>.] - ETA: 0s - loss: 0.5979 - accuracy: 0.6538"
     ]
    },
    {
     "name": "stderr",
     "output_type": "stream",
     "text": [
      "Training Progress:  82%|█████████████████████████████████████▋        | 41/50 [4:46:47<1:05:28, 436.48s/it, loss=0.598]"
     ]
    },
    {
     "name": "stdout",
     "output_type": "stream",
     "text": [
      "19721/19721 [==============================] - 351s 18ms/step - loss: 0.5979 - accuracy: 0.6538 - val_loss: 0.6607 - val_accuracy: 0.5986\n",
      "Epoch 42/50\n",
      "19721/19721 [==============================] - ETA: 0s - loss: 0.5971 - accuracy: 0.6546"
     ]
    },
    {
     "name": "stderr",
     "output_type": "stream",
     "text": [
      "Training Progress:  84%|████████████████████████████████████████▎       | 42/50 [4:52:57<55:32, 416.50s/it, loss=0.597]"
     ]
    },
    {
     "name": "stdout",
     "output_type": "stream",
     "text": [
      "19721/19721 [==============================] - 370s 19ms/step - loss: 0.5971 - accuracy: 0.6546 - val_loss: 0.6635 - val_accuracy: 0.5988\n",
      "Epoch 43/50\n",
      "19720/19721 [============================>.] - ETA: 0s - loss: 0.5969 - accuracy: 0.6554"
     ]
    },
    {
     "name": "stderr",
     "output_type": "stream",
     "text": [
      "Training Progress:  86%|█████████████████████████████████████████▎      | 43/50 [4:58:54<46:30, 398.69s/it, loss=0.597]"
     ]
    },
    {
     "name": "stdout",
     "output_type": "stream",
     "text": [
      "19721/19721 [==============================] - 357s 18ms/step - loss: 0.5969 - accuracy: 0.6554 - val_loss: 0.6615 - val_accuracy: 0.5981\n",
      "Epoch 44/50\n",
      "19718/19721 [============================>.] - ETA: 0s - loss: 0.5957 - accuracy: 0.6562"
     ]
    },
    {
     "name": "stderr",
     "output_type": "stream",
     "text": [
      "Training Progress:  88%|██████████████████████████████████████████▏     | 44/50 [5:04:50<38:34, 385.71s/it, loss=0.596]"
     ]
    },
    {
     "name": "stdout",
     "output_type": "stream",
     "text": [
      "19721/19721 [==============================] - 355s 18ms/step - loss: 0.5957 - accuracy: 0.6562 - val_loss: 0.6638 - val_accuracy: 0.5986\n",
      "Epoch 45/50\n",
      "19719/19721 [============================>.] - ETA: 0s - loss: 0.5959 - accuracy: 0.6558"
     ]
    },
    {
     "name": "stderr",
     "output_type": "stream",
     "text": [
      "Training Progress:  90%|███████████████████████████████████████████▏    | 45/50 [5:10:45<31:22, 376.55s/it, loss=0.596]"
     ]
    },
    {
     "name": "stdout",
     "output_type": "stream",
     "text": [
      "19721/19721 [==============================] - 355s 18ms/step - loss: 0.5959 - accuracy: 0.6558 - val_loss: 0.6611 - val_accuracy: 0.5984\n",
      "Epoch 46/50\n",
      "19720/19721 [============================>.] - ETA: 0s - loss: 0.5949 - accuracy: 0.6565"
     ]
    },
    {
     "name": "stderr",
     "output_type": "stream",
     "text": [
      "Training Progress:  92%|████████████████████████████████████████████▏   | 46/50 [5:16:38<24:38, 369.65s/it, loss=0.595]"
     ]
    },
    {
     "name": "stdout",
     "output_type": "stream",
     "text": [
      "19721/19721 [==============================] - 354s 18ms/step - loss: 0.5949 - accuracy: 0.6565 - val_loss: 0.6657 - val_accuracy: 0.5976\n",
      "Epoch 47/50\n",
      "19721/19721 [==============================] - ETA: 0s - loss: 0.5949 - accuracy: 0.6570"
     ]
    },
    {
     "name": "stderr",
     "output_type": "stream",
     "text": [
      "Training Progress:  94%|█████████████████████████████████████████████   | 47/50 [5:22:33<18:15, 365.05s/it, loss=0.595]"
     ]
    },
    {
     "name": "stdout",
     "output_type": "stream",
     "text": [
      "19721/19721 [==============================] - 354s 18ms/step - loss: 0.5949 - accuracy: 0.6570 - val_loss: 0.6625 - val_accuracy: 0.5972\n",
      "Epoch 48/50\n",
      "19720/19721 [============================>.] - ETA: 0s - loss: 0.5946 - accuracy: 0.6579"
     ]
    },
    {
     "name": "stderr",
     "output_type": "stream",
     "text": [
      "Training Progress:  96%|██████████████████████████████████████████████  | 48/50 [5:28:29<12:04, 362.31s/it, loss=0.595]"
     ]
    },
    {
     "name": "stdout",
     "output_type": "stream",
     "text": [
      "19721/19721 [==============================] - 356s 18ms/step - loss: 0.5946 - accuracy: 0.6579 - val_loss: 0.6673 - val_accuracy: 0.5981\n",
      "Epoch 49/50\n",
      "19719/19721 [============================>.] - ETA: 0s - loss: 0.5942 - accuracy: 0.6586"
     ]
    },
    {
     "name": "stderr",
     "output_type": "stream",
     "text": [
      "Training Progress:  98%|███████████████████████████████████████████████ | 49/50 [5:34:22<05:59, 359.69s/it, loss=0.594]"
     ]
    },
    {
     "name": "stdout",
     "output_type": "stream",
     "text": [
      "19721/19721 [==============================] - 354s 18ms/step - loss: 0.5942 - accuracy: 0.6586 - val_loss: 0.6631 - val_accuracy: 0.5979\n",
      "Epoch 50/50\n",
      "19718/19721 [============================>.] - ETA: 0s - loss: 0.5938 - accuracy: 0.6588"
     ]
    },
    {
     "name": "stderr",
     "output_type": "stream",
     "text": [
      "Training Progress: 100%|████████████████████████████████████████████████| 50/50 [5:40:15<00:00, 357.69s/it, loss=0.594]"
     ]
    },
    {
     "name": "stdout",
     "output_type": "stream",
     "text": [
      "19721/19721 [==============================] - 353s 18ms/step - loss: 0.5938 - accuracy: 0.6587 - val_loss: 0.6646 - val_accuracy: 0.5987\n"
     ]
    },
    {
     "name": "stderr",
     "output_type": "stream",
     "text": [
      "Training Progress: 100%|████████████████████████████████████████████████| 50/50 [5:40:15<00:00, 408.31s/it, loss=0.594]\n"
     ]
    },
    {
     "data": {
      "image/png": "[encoded data removed]",
      "text/plain": [
       "<Figure size 1000x600 with 1 Axes>"
      ]
     },
     "metadata": {},
     "output_type": "display_data"
    }
   ],
   "source": [
    "# LSTM 모델 구성\n",
    "model = Sequential([\n",
    "    LSTM(128, input_shape=(X_train.shape[1], X_train.shape[2]), return_sequences=True),\n",
    "    Dropout(0.2),\n",
    "    LSTM(32, return_sequences=False),\n",
    "    Dropout(0.2),\n",
    "    Dense(32, activation='relu'),\n",
    "    Dense(1, activation='sigmoid')\n",
    "])\n",
    "\n",
    "# 모델 컴파일\n",
    "model.compile(optimizer='adam', loss='binary_crossentropy', metrics=['accuracy'])\n",
    "\n",
    "# 학습 진행을 표시하기 위한 Callback 설정\n",
    "class TQDMProgressBar(Callback):\n",
    "    def on_train_begin(self, logs=None):\n",
    "        self.epochs = self.params['epochs']\n",
    "        self.tqdm = tqdm(total=self.epochs, desc='Training Progress')\n",
    "\n",
    "    def on_epoch_end(self, epoch, logs=None):\n",
    "        self.tqdm.update(1)\n",
    "        self.tqdm.set_postfix(loss=logs['loss'])\n",
    "\n",
    "    def on_train_end(self, logs=None):\n",
    "        self.tqdm.close()\n",
    "\n",
    "# 학습 과정 시각화 및 히스토리 저장\n",
    "tqdm_callback = TQDMProgressBar()\n",
    "history = model.fit(\n",
    "    X_train, y_train, \n",
    "    validation_data=(X_test, y_test),\n",
    "    epochs=EPOCHS, \n",
    "    batch_size=BATCH_SIZE, \n",
    "    callbacks=[tqdm_callback]\n",
    ")\n",
    "\n",
    "# Loss 및 Accuracy 그래프\n",
    "plt.figure(figsize=(10, 6))\n",
    "\n",
    "# Training 및 Test Loss\n",
    "plt.plot(history.history['loss'], label='Training Loss', linestyle='--')\n",
    "plt.plot(history.history['val_loss'], label='Test Loss', linestyle='-')\n",
    "\n",
    "# Training 및 Test Accuracy\n",
    "plt.plot(history.history['accuracy'], label='Training Accuracy', linestyle='--')\n",
    "plt.plot(history.history['val_accuracy'], label='Test Accuracy', linestyle='-')\n",
    "\n",
    "# 그래프 설정\n",
    "plt.title('Training and Test Loss/Accuracy')\n",
    "plt.xlabel('Epochs')\n",
    "plt.ylabel('Value')\n",
    "plt.legend()\n",
    "plt.grid(True)\n",
    "\n",
    "plt.show()"
   ]
  },
  {
   "cell_type": "code",
   "execution_count": 10,
   "id": "24950484",
   "metadata": {},
   "outputs": [
    {
     "name": "stdout",
     "output_type": "stream",
     "text": [
      "Test Loss: 0.6646, Test Accuracy: 0.5987\n"
     ]
    }
   ],
   "source": [
    "# 최종 평가 (Test Set)\n",
    "test_loss, test_accuracy = model.evaluate(X_test, y_test, verbose=0)\n",
    "print(f\"Test Loss: {test_loss:.4f}, Test Accuracy: {test_accuracy:.4f}\")"
   ]
  },
  {
   "cell_type": "code",
   "execution_count": 11,
   "id": "2f2ebdc2",
   "metadata": {},
   "outputs": [],
   "source": [
    "# Save\n",
    "model.save(f'lstm_seq{TIMESTEPS}_batch{BATCH_SIZE}_steps{STEPS}.h5')"
   ]
  }
 ],
 "metadata": {
  "kernelspec": {
   "display_name": "tensorflow",
   "language": "python",
   "name": "tensorflow"
  },
  "language_info": {
   "codemirror_mode": {
    "name": "ipython",
    "version": 3
   },
   "file_extension": ".py",
   "mimetype": "text/x-python",
   "name": "python",
   "nbconvert_exporter": "python",
   "pygments_lexer": "ipython3",
   "version": "3.9.15"
  }
 },
 "nbformat": 4,
 "nbformat_minor": 5
}
