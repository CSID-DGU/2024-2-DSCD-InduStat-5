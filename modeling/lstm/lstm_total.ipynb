{
 "cells": [
  {
   "cell_type": "code",
   "execution_count": 8,
   "id": "b956d483",
   "metadata": {},
   "outputs": [],
   "source": [
    "import numpy as np\n",
    "import pandas as pd\n",
    "pd.set_option('display.max_rows', 500)\n",
    "pd.set_option('display.max_columns', 50)\n",
    "import seaborn as sns\n",
    "import matplotlib.pyplot as plt"
   ]
  },
  {
   "cell_type": "code",
   "execution_count": null,
   "id": "ed265459",
   "metadata": {},
   "outputs": [],
   "source": [
    "import pandas as pd\n",
    "import glob\n",
    "import os\n",
    "\n",
    "# 경로 설정\n",
    "folder_path = r\"C:\\Users\\sol91\\00_Python_Notebook\\24_2\\dscd\\preprocessing\"\n",
    "file_pattern = os.path.join(folder_path, '*.csv')  # 모든 CSV 파일\n",
    "\n",
    "# glob을 사용하여 모든 CSV 파일을 리스트로 불러오기\n",
    "file_list = glob.glob(file_pattern)\n",
    "\n",
    "# 각 파일을 읽어서 데이터프레임 리스트에 저장\n",
    "df_list = [pd.read_csv(file) for file in file_list]\n",
    "\n",
    "# 데이터프레임을 하나로 합치기\n",
    "combined_df = pd.concat(df_list, ignore_index=True)\n",
    "\n",
    "# 결과 확인\n",
    "print(combined_df.head())\n",
    "print(f\"Total rows: {len(combined_df)}\")"
   ]
  },
  {
   "cell_type": "code",
   "execution_count": null,
   "id": "a48871be",
   "metadata": {},
   "outputs": [],
   "source": [
    "combined_df.drop([f'{i}_ask_price' for i in range(1, 11)] + [f'{i}_bid_price' for i in range(1, 11)], axis = 1, inplace = True)\n",
    "combined_df.columns"
   ]
  },
  {
   "cell_type": "code",
   "execution_count": null,
   "id": "14247c07",
   "metadata": {},
   "outputs": [],
   "source": [
    "combined_df"
   ]
  },
  {
   "cell_type": "code",
   "execution_count": null,
   "id": "fe8181c6",
   "metadata": {},
   "outputs": [],
   "source": [
    "corr_matrix = combined_df.drop(['ask_bid', 'cum_vp'], axis = 1).corr()\n",
    "plt.figure(figsize=(15, 15))\n",
    "sns.heatmap(corr_matrix, cmap = 'coolwarm', annot = True, square = True, fmt=\".1f\")"
   ]
  },
  {
   "cell_type": "code",
   "execution_count": null,
   "id": "970a661e",
   "metadata": {},
   "outputs": [],
   "source": [
    "combined_df.drop(['ask_bid', 'ask_vwap', 'bid_vwap', 'cum_vp'], axis = 1, inplace = True)"
   ]
  },
  {
   "cell_type": "code",
   "execution_count": null,
   "id": "7af8c2cc",
   "metadata": {},
   "outputs": [],
   "source": [
    "combined_df"
   ]
  },
  {
   "cell_type": "code",
   "execution_count": null,
   "id": "adcc8f68",
   "metadata": {},
   "outputs": [],
   "source": [
    "import pandas as pd\n",
    "\n",
    "# 10분 후의 timestamp를 계산하여 새 열 생성\n",
    "combined_df['timestamp_10min_later'] = combined_df['timestamp'] + 600000\n",
    "\n",
    "# 원본 데이터프레임과 10분 후 timestamp 기준으로 가장 가까운 행을 병합\n",
    "df_merged = pd.merge_asof(combined_df,\n",
    "                          combined_df[['timestamp', 'trade_price']].rename(columns={'timestamp': 'nearest_timestamp', 'trade_price': 'trade_price_10min_later'}),\n",
    "                          left_on='timestamp_10min_later',\n",
    "                          right_on='nearest_timestamp',\n",
    "                          direction='forward')\n",
    "\n",
    "# trade_price 비교하여 after_10_min 열 생성\n",
    "df_merged['after_10_min'] = (df_merged['trade_price_10min_later'] > df_merged['trade_price']).astype(int)"
   ]
  },
  {
   "cell_type": "code",
   "execution_count": null,
   "id": "24837a5d",
   "metadata": {},
   "outputs": [],
   "source": [
    "#nearest_timestamp가 NaN인 경우 확인\n",
    "df_merged.nearest_timestamp.isna().sum()"
   ]
  },
  {
   "cell_type": "code",
   "execution_count": null,
   "id": "8ed0716b",
   "metadata": {},
   "outputs": [],
   "source": [
    "df_merged = df_merged.dropna().reset_index(drop=True)\n",
    "df_merged"
   ]
  },
  {
   "cell_type": "code",
   "execution_count": null,
   "id": "cf834a8b",
   "metadata": {},
   "outputs": [],
   "source": [
    "# 필요한 열만 선택\n",
    "df_merged.index = df_merged['timestamp']\n",
    "df_merged.drop(['timestamp', 'timestamp_10min_later', 'nearest_timestamp', 'trade_price_10min_later', 'avgPrice_diff'], axis = 1, inplace = True)\n",
    "df_merged"
   ]
  },
  {
   "cell_type": "code",
   "execution_count": null,
   "id": "4a88e360",
   "metadata": {},
   "outputs": [],
   "source": [
    "df_merged.drop([f'{i}_ask_size' for i in range(6, 11)] + [f'{i}_bid_size' for i in range(6, 11)], axis = 1, inplace = True)\n",
    "df_merged"
   ]
  },
  {
   "cell_type": "code",
   "execution_count": null,
   "id": "ac704d2c",
   "metadata": {},
   "outputs": [],
   "source": [
    "df_merged.to_csv('final_data.csv')"
   ]
  },
  {
   "cell_type": "markdown",
   "id": "51a0ecc4",
   "metadata": {},
   "source": [
    "## RUN"
   ]
  },
  {
   "cell_type": "code",
   "execution_count": 1,
   "id": "0a5e8735",
   "metadata": {},
   "outputs": [],
   "source": [
    "import numpy as np\n",
    "import pandas as pd\n",
    "pd.set_option('display.max_rows', 500)\n",
    "pd.set_option('display.max_columns', 50)\n",
    "import seaborn as sns\n",
    "import matplotlib.pyplot as plt"
   ]
  },
  {
   "cell_type": "code",
   "execution_count": 3,
   "id": "2f5bcf00",
   "metadata": {},
   "outputs": [
    {
     "data": {
      "text/html": [
       "<div>\n",
       "<style scoped>\n",
       "    .dataframe tbody tr th:only-of-type {\n",
       "        vertical-align: middle;\n",
       "    }\n",
       "\n",
       "    .dataframe tbody tr th {\n",
       "        vertical-align: top;\n",
       "    }\n",
       "\n",
       "    .dataframe thead th {\n",
       "        text-align: right;\n",
       "    }\n",
       "</style>\n",
       "<table border=\"1\" class=\"dataframe\">\n",
       "  <thead>\n",
       "    <tr style=\"text-align: right;\">\n",
       "      <th></th>\n",
       "      <th>timestamp</th>\n",
       "      <th>total_ask_size</th>\n",
       "      <th>total_bid_size</th>\n",
       "      <th>1_ask_size</th>\n",
       "      <th>1_bid_size</th>\n",
       "      <th>2_ask_size</th>\n",
       "      <th>2_bid_size</th>\n",
       "      <th>3_ask_size</th>\n",
       "      <th>3_bid_size</th>\n",
       "      <th>4_ask_size</th>\n",
       "      <th>4_bid_size</th>\n",
       "      <th>5_ask_size</th>\n",
       "      <th>5_bid_size</th>\n",
       "      <th>trade_price</th>\n",
       "      <th>trade_volume</th>\n",
       "      <th>spread</th>\n",
       "      <th>imbalance</th>\n",
       "      <th>totalSize_ratio</th>\n",
       "      <th>after_10_min</th>\n",
       "    </tr>\n",
       "  </thead>\n",
       "  <tbody>\n",
       "    <tr>\n",
       "      <th>0</th>\n",
       "      <td>1727004626286</td>\n",
       "      <td>1.604788</td>\n",
       "      <td>0.474972</td>\n",
       "      <td>0.079053</td>\n",
       "      <td>0.083139</td>\n",
       "      <td>0.664712</td>\n",
       "      <td>0.060188</td>\n",
       "      <td>0.001000</td>\n",
       "      <td>0.126477</td>\n",
       "      <td>0.000299</td>\n",
       "      <td>0.002439</td>\n",
       "      <td>0.329725</td>\n",
       "      <td>0.001719</td>\n",
       "      <td>83865000.0</td>\n",
       "      <td>0.003577</td>\n",
       "      <td>2000.0</td>\n",
       "      <td>-0.586424</td>\n",
       "      <td>0.260697</td>\n",
       "      <td>1</td>\n",
       "    </tr>\n",
       "    <tr>\n",
       "      <th>1</th>\n",
       "      <td>1727004626486</td>\n",
       "      <td>1.604788</td>\n",
       "      <td>0.474525</td>\n",
       "      <td>0.079053</td>\n",
       "      <td>0.020246</td>\n",
       "      <td>0.664712</td>\n",
       "      <td>0.083139</td>\n",
       "      <td>0.001000</td>\n",
       "      <td>0.060188</td>\n",
       "      <td>0.000299</td>\n",
       "      <td>0.126477</td>\n",
       "      <td>0.329725</td>\n",
       "      <td>0.002439</td>\n",
       "      <td>83864000.0</td>\n",
       "      <td>0.000179</td>\n",
       "      <td>1000.0</td>\n",
       "      <td>-0.570077</td>\n",
       "      <td>0.273823</td>\n",
       "      <td>1</td>\n",
       "    </tr>\n",
       "    <tr>\n",
       "      <th>2</th>\n",
       "      <td>1727004627086</td>\n",
       "      <td>1.604788</td>\n",
       "      <td>0.474525</td>\n",
       "      <td>0.079053</td>\n",
       "      <td>0.020246</td>\n",
       "      <td>0.664712</td>\n",
       "      <td>0.083139</td>\n",
       "      <td>0.001000</td>\n",
       "      <td>0.060188</td>\n",
       "      <td>0.000299</td>\n",
       "      <td>0.126477</td>\n",
       "      <td>0.329725</td>\n",
       "      <td>0.002439</td>\n",
       "      <td>83864000.0</td>\n",
       "      <td>0.000179</td>\n",
       "      <td>1000.0</td>\n",
       "      <td>-0.570077</td>\n",
       "      <td>0.273823</td>\n",
       "      <td>1</td>\n",
       "    </tr>\n",
       "    <tr>\n",
       "      <th>3</th>\n",
       "      <td>1727004627486</td>\n",
       "      <td>1.604788</td>\n",
       "      <td>0.474525</td>\n",
       "      <td>0.079053</td>\n",
       "      <td>0.020246</td>\n",
       "      <td>0.664712</td>\n",
       "      <td>0.083139</td>\n",
       "      <td>0.001000</td>\n",
       "      <td>0.060188</td>\n",
       "      <td>0.000299</td>\n",
       "      <td>0.126477</td>\n",
       "      <td>0.329725</td>\n",
       "      <td>0.002439</td>\n",
       "      <td>83864000.0</td>\n",
       "      <td>0.000179</td>\n",
       "      <td>1000.0</td>\n",
       "      <td>-0.570077</td>\n",
       "      <td>0.273823</td>\n",
       "      <td>1</td>\n",
       "    </tr>\n",
       "    <tr>\n",
       "      <th>4</th>\n",
       "      <td>1727004627786</td>\n",
       "      <td>1.418733</td>\n",
       "      <td>0.474525</td>\n",
       "      <td>0.543764</td>\n",
       "      <td>0.020246</td>\n",
       "      <td>0.001000</td>\n",
       "      <td>0.083139</td>\n",
       "      <td>0.000299</td>\n",
       "      <td>0.060188</td>\n",
       "      <td>0.329725</td>\n",
       "      <td>0.126477</td>\n",
       "      <td>0.138745</td>\n",
       "      <td>0.002439</td>\n",
       "      <td>83885000.0</td>\n",
       "      <td>0.120947</td>\n",
       "      <td>21000.0</td>\n",
       "      <td>-0.551751</td>\n",
       "      <td>0.288866</td>\n",
       "      <td>1</td>\n",
       "    </tr>\n",
       "    <tr>\n",
       "      <th>...</th>\n",
       "      <td>...</td>\n",
       "      <td>...</td>\n",
       "      <td>...</td>\n",
       "      <td>...</td>\n",
       "      <td>...</td>\n",
       "      <td>...</td>\n",
       "      <td>...</td>\n",
       "      <td>...</td>\n",
       "      <td>...</td>\n",
       "      <td>...</td>\n",
       "      <td>...</td>\n",
       "      <td>...</td>\n",
       "      <td>...</td>\n",
       "      <td>...</td>\n",
       "      <td>...</td>\n",
       "      <td>...</td>\n",
       "      <td>...</td>\n",
       "      <td>...</td>\n",
       "      <td>...</td>\n",
       "    </tr>\n",
       "    <tr>\n",
       "      <th>6012599</th>\n",
       "      <td>1730126996013</td>\n",
       "      <td>2.895852</td>\n",
       "      <td>1.073478</td>\n",
       "      <td>0.042948</td>\n",
       "      <td>0.012691</td>\n",
       "      <td>0.486217</td>\n",
       "      <td>0.024640</td>\n",
       "      <td>0.293135</td>\n",
       "      <td>0.072440</td>\n",
       "      <td>0.659504</td>\n",
       "      <td>0.006471</td>\n",
       "      <td>0.990263</td>\n",
       "      <td>0.148616</td>\n",
       "      <td>96238000.0</td>\n",
       "      <td>0.000829</td>\n",
       "      <td>20000.0</td>\n",
       "      <td>-0.567196</td>\n",
       "      <td>0.276165</td>\n",
       "      <td>0</td>\n",
       "    </tr>\n",
       "    <tr>\n",
       "      <th>6012600</th>\n",
       "      <td>1730126996913</td>\n",
       "      <td>2.894194</td>\n",
       "      <td>1.073478</td>\n",
       "      <td>0.041290</td>\n",
       "      <td>0.012691</td>\n",
       "      <td>0.486217</td>\n",
       "      <td>0.024640</td>\n",
       "      <td>0.293135</td>\n",
       "      <td>0.072440</td>\n",
       "      <td>0.659504</td>\n",
       "      <td>0.006471</td>\n",
       "      <td>0.990263</td>\n",
       "      <td>0.148616</td>\n",
       "      <td>96238000.0</td>\n",
       "      <td>0.001658</td>\n",
       "      <td>20000.0</td>\n",
       "      <td>-0.566991</td>\n",
       "      <td>0.276331</td>\n",
       "      <td>0</td>\n",
       "    </tr>\n",
       "    <tr>\n",
       "      <th>6012601</th>\n",
       "      <td>1730126997613</td>\n",
       "      <td>2.899389</td>\n",
       "      <td>1.068375</td>\n",
       "      <td>0.046486</td>\n",
       "      <td>0.012691</td>\n",
       "      <td>0.486217</td>\n",
       "      <td>0.024640</td>\n",
       "      <td>0.293135</td>\n",
       "      <td>0.000200</td>\n",
       "      <td>0.659504</td>\n",
       "      <td>0.072440</td>\n",
       "      <td>0.990263</td>\n",
       "      <td>0.006471</td>\n",
       "      <td>96238000.0</td>\n",
       "      <td>0.001658</td>\n",
       "      <td>20000.0</td>\n",
       "      <td>-0.701932</td>\n",
       "      <td>0.175135</td>\n",
       "      <td>0</td>\n",
       "    </tr>\n",
       "    <tr>\n",
       "      <th>6012602</th>\n",
       "      <td>1730126997713</td>\n",
       "      <td>2.910013</td>\n",
       "      <td>1.068375</td>\n",
       "      <td>0.057109</td>\n",
       "      <td>0.012691</td>\n",
       "      <td>0.486217</td>\n",
       "      <td>0.024640</td>\n",
       "      <td>0.293135</td>\n",
       "      <td>0.000200</td>\n",
       "      <td>0.659504</td>\n",
       "      <td>0.072440</td>\n",
       "      <td>0.990263</td>\n",
       "      <td>0.006471</td>\n",
       "      <td>96238000.0</td>\n",
       "      <td>0.001658</td>\n",
       "      <td>20000.0</td>\n",
       "      <td>-0.702908</td>\n",
       "      <td>0.174462</td>\n",
       "      <td>0</td>\n",
       "    </tr>\n",
       "    <tr>\n",
       "      <th>6012603</th>\n",
       "      <td>1730126998113</td>\n",
       "      <td>2.899617</td>\n",
       "      <td>1.068375</td>\n",
       "      <td>0.046714</td>\n",
       "      <td>0.012691</td>\n",
       "      <td>0.486217</td>\n",
       "      <td>0.024640</td>\n",
       "      <td>0.293135</td>\n",
       "      <td>0.000200</td>\n",
       "      <td>0.659504</td>\n",
       "      <td>0.072440</td>\n",
       "      <td>0.990263</td>\n",
       "      <td>0.006471</td>\n",
       "      <td>96238000.0</td>\n",
       "      <td>0.010395</td>\n",
       "      <td>20000.0</td>\n",
       "      <td>-0.701953</td>\n",
       "      <td>0.175120</td>\n",
       "      <td>0</td>\n",
       "    </tr>\n",
       "  </tbody>\n",
       "</table>\n",
       "<p>6012604 rows × 19 columns</p>\n",
       "</div>"
      ],
      "text/plain": [
       "             timestamp  total_ask_size  total_bid_size  1_ask_size  \\\n",
       "0        1727004626286        1.604788        0.474972    0.079053   \n",
       "1        1727004626486        1.604788        0.474525    0.079053   \n",
       "2        1727004627086        1.604788        0.474525    0.079053   \n",
       "3        1727004627486        1.604788        0.474525    0.079053   \n",
       "4        1727004627786        1.418733        0.474525    0.543764   \n",
       "...                ...             ...             ...         ...   \n",
       "6012599  1730126996013        2.895852        1.073478    0.042948   \n",
       "6012600  1730126996913        2.894194        1.073478    0.041290   \n",
       "6012601  1730126997613        2.899389        1.068375    0.046486   \n",
       "6012602  1730126997713        2.910013        1.068375    0.057109   \n",
       "6012603  1730126998113        2.899617        1.068375    0.046714   \n",
       "\n",
       "         1_bid_size  2_ask_size  2_bid_size  3_ask_size  3_bid_size  \\\n",
       "0          0.083139    0.664712    0.060188    0.001000    0.126477   \n",
       "1          0.020246    0.664712    0.083139    0.001000    0.060188   \n",
       "2          0.020246    0.664712    0.083139    0.001000    0.060188   \n",
       "3          0.020246    0.664712    0.083139    0.001000    0.060188   \n",
       "4          0.020246    0.001000    0.083139    0.000299    0.060188   \n",
       "...             ...         ...         ...         ...         ...   \n",
       "6012599    0.012691    0.486217    0.024640    0.293135    0.072440   \n",
       "6012600    0.012691    0.486217    0.024640    0.293135    0.072440   \n",
       "6012601    0.012691    0.486217    0.024640    0.293135    0.000200   \n",
       "6012602    0.012691    0.486217    0.024640    0.293135    0.000200   \n",
       "6012603    0.012691    0.486217    0.024640    0.293135    0.000200   \n",
       "\n",
       "         4_ask_size  4_bid_size  5_ask_size  5_bid_size  trade_price  \\\n",
       "0          0.000299    0.002439    0.329725    0.001719   83865000.0   \n",
       "1          0.000299    0.126477    0.329725    0.002439   83864000.0   \n",
       "2          0.000299    0.126477    0.329725    0.002439   83864000.0   \n",
       "3          0.000299    0.126477    0.329725    0.002439   83864000.0   \n",
       "4          0.329725    0.126477    0.138745    0.002439   83885000.0   \n",
       "...             ...         ...         ...         ...          ...   \n",
       "6012599    0.659504    0.006471    0.990263    0.148616   96238000.0   \n",
       "6012600    0.659504    0.006471    0.990263    0.148616   96238000.0   \n",
       "6012601    0.659504    0.072440    0.990263    0.006471   96238000.0   \n",
       "6012602    0.659504    0.072440    0.990263    0.006471   96238000.0   \n",
       "6012603    0.659504    0.072440    0.990263    0.006471   96238000.0   \n",
       "\n",
       "         trade_volume   spread  imbalance  totalSize_ratio  after_10_min  \n",
       "0            0.003577   2000.0  -0.586424         0.260697             1  \n",
       "1            0.000179   1000.0  -0.570077         0.273823             1  \n",
       "2            0.000179   1000.0  -0.570077         0.273823             1  \n",
       "3            0.000179   1000.0  -0.570077         0.273823             1  \n",
       "4            0.120947  21000.0  -0.551751         0.288866             1  \n",
       "...               ...      ...        ...              ...           ...  \n",
       "6012599      0.000829  20000.0  -0.567196         0.276165             0  \n",
       "6012600      0.001658  20000.0  -0.566991         0.276331             0  \n",
       "6012601      0.001658  20000.0  -0.701932         0.175135             0  \n",
       "6012602      0.001658  20000.0  -0.702908         0.174462             0  \n",
       "6012603      0.010395  20000.0  -0.701953         0.175120             0  \n",
       "\n",
       "[6012604 rows x 19 columns]"
      ]
     },
     "execution_count": 3,
     "metadata": {},
     "output_type": "execute_result"
    }
   ],
   "source": [
    "df_merged"
   ]
  },
  {
   "cell_type": "code",
   "execution_count": 5,
   "id": "4f128d33",
   "metadata": {},
   "outputs": [
    {
     "name": "stdout",
     "output_type": "stream",
     "text": [
      "Train set: (4810067, 20, 18), Test set: (1202517, 20, 18)\n"
     ]
    },
    {
     "name": "stderr",
     "output_type": "stream",
     "text": [
      "\r",
      "Training Progress:   0%|                                                                         | 0/5 [00:00<?, ?it/s]"
     ]
    },
    {
     "name": "stdout",
     "output_type": "stream",
     "text": [
      "Epoch 1/5\n",
      "75158/75158 [==============================] - ETA: 0s - loss: 0.6743 - accuracy: 0.5651"
     ]
    },
    {
     "name": "stderr",
     "output_type": "stream",
     "text": [
      "Training Progress:  20%|█████████▊                                       | 1/5 [45:21<3:01:24, 2721.01s/it, loss=0.674]"
     ]
    },
    {
     "name": "stdout",
     "output_type": "stream",
     "text": [
      "75158/75158 [==============================] - 2721s 36ms/step - loss: 0.6743 - accuracy: 0.5651\n",
      "Epoch 2/5\n",
      "75157/75158 [============================>.] - ETA: 0s - loss: 0.6290 - accuracy: 0.6277"
     ]
    },
    {
     "name": "stderr",
     "output_type": "stream",
     "text": [
      "Training Progress:  40%|██████████████████▊                            | 2/5 [1:31:34<2:17:36, 2752.13s/it, loss=0.629]"
     ]
    },
    {
     "name": "stdout",
     "output_type": "stream",
     "text": [
      "75158/75158 [==============================] - 2774s 37ms/step - loss: 0.6290 - accuracy: 0.6277\n",
      "Epoch 3/5\n",
      "75157/75158 [============================>.] - ETA: 0s - loss: 0.5902 - accuracy: 0.6667"
     ]
    },
    {
     "name": "stderr",
     "output_type": "stream",
     "text": [
      "Training Progress:  60%|████████████████████████████▊                   | 3/5 [2:17:48<1:32:03, 2761.93s/it, loss=0.59]"
     ]
    },
    {
     "name": "stdout",
     "output_type": "stream",
     "text": [
      "75158/75158 [==============================] - 2774s 37ms/step - loss: 0.5902 - accuracy: 0.6667\n",
      "Epoch 4/5\n",
      "75157/75158 [============================>.] - ETA: 0s - loss: 0.5619 - accuracy: 0.6916"
     ]
    },
    {
     "name": "stderr",
     "output_type": "stream",
     "text": [
      "Training Progress:  80%|███████████████████████████████████████▏         | 4/5 [3:04:38<46:20, 2780.82s/it, loss=0.562]"
     ]
    },
    {
     "name": "stdout",
     "output_type": "stream",
     "text": [
      "75158/75158 [==============================] - 2810s 37ms/step - loss: 0.5619 - accuracy: 0.6916\n",
      "Epoch 5/5\n",
      "75157/75158 [============================>.] - ETA: 0s - loss: 0.5410 - accuracy: 0.7091"
     ]
    },
    {
     "name": "stderr",
     "output_type": "stream",
     "text": [
      "Training Progress: 100%|█████████████████████████████████████████████████| 5/5 [3:51:23<00:00, 2789.76s/it, loss=0.541]"
     ]
    },
    {
     "name": "stdout",
     "output_type": "stream",
     "text": [
      "\b\b\b\b\b\b\b\b\b\b\b\b\b\b\b\b\b\b\b\b\b\b\b\b\b\b\b\b\b\b\b\b\b\b\b\b\b\b\b\b\b\b\b\b\b\b\b\b\b\b\b\b\b\b\b\b\b\b\b\b\b\b\b\b\b\b\b\b\b\b\b\b\b\b\b\b\b\b\b\b\b\b\b\b\b\b\b\b\r",
      "75158/75158 [==============================] - 2806s 37ms/step - loss: 0.5410 - accuracy: 0.7091\n"
     ]
    },
    {
     "name": "stderr",
     "output_type": "stream",
     "text": [
      "Training Progress: 100%|█████████████████████████████████████████████████| 5/5 [3:51:23<00:00, 2776.78s/it, loss=0.541]\n"
     ]
    },
    {
     "data": {
      "image/png": "[encoded data removed]",
      "text/plain": [
       "<Figure size 640x480 with 1 Axes>"
      ]
     },
     "metadata": {},
     "output_type": "display_data"
    },
    {
     "name": "stdout",
     "output_type": "stream",
     "text": [
      "Test Loss: 0.5297, Test Accuracy: 0.7182\n"
     ]
    }
   ],
   "source": [
    "from sklearn.model_selection import train_test_split\n",
    "from sklearn.preprocessing import StandardScaler\n",
    "from tensorflow.keras.models import Sequential\n",
    "from tensorflow.keras.layers import LSTM, Dense, Dropout\n",
    "from tensorflow.keras.callbacks import Callback\n",
    "import matplotlib.pyplot as plt\n",
    "from tqdm import tqdm\n",
    "import numpy as np\n",
    "import pandas as pd\n",
    "\n",
    "# 데이터 로드\n",
    "df_merged = pd.read_csv('final_data_.csv')\n",
    "\n",
    "# 데이터 준비\n",
    "df = df_merged.copy()\n",
    "\n",
    "# Feature와 Target 분리\n",
    "X = df.drop(columns=['after_10_min']).values\n",
    "y = df['after_10_min'].values\n",
    "\n",
    "# 데이터 스케일링\n",
    "scaler = StandardScaler()\n",
    "X_scaled = scaler.fit_transform(X)\n",
    "\n",
    "# 시계열 데이터 형식으로 변환 >> window = 20\n",
    "timesteps = 20\n",
    "X_sequences, y_sequences = [], []\n",
    "\n",
    "for i in range(len(X_scaled) - timesteps):\n",
    "    X_sequences.append(X_scaled[i:i+timesteps])\n",
    "    y_sequences.append(y[i+timesteps])\n",
    "\n",
    "X_sequences = np.array(X_sequences, dtype=np.float32)\n",
    "y_sequences = np.array(y_sequences)\n",
    "\n",
    "# Train, Test 분할 (80% Train, 20% Test)\n",
    "X_train, X_test, y_train, y_test = train_test_split(X_sequences, y_sequences, test_size=0.2, random_state=1)\n",
    "\n",
    "# 분할 비율 출력\n",
    "print(f\"Train set: {X_train.shape}, Test set: {X_test.shape}\")\n",
    "\n",
    "# LSTM 모델 구성\n",
    "model = Sequential([\n",
    "    LSTM(128, input_shape=(X_train.shape[1], X_train.shape[2]), return_sequences=True),\n",
    "    Dropout(0.2),\n",
    "    LSTM(64, return_sequences=False),\n",
    "    Dropout(0.2),\n",
    "    Dense(32, activation='relu'),\n",
    "    Dense(1, activation='sigmoid')\n",
    "])\n",
    "\n",
    "# 모델 컴파일\n",
    "model.compile(optimizer='adam', loss='binary_crossentropy', metrics=['accuracy'])\n",
    "\n",
    "# 학습 진행을 표시하기 위한 Callback 설정\n",
    "class TQDMProgressBar(Callback):\n",
    "    def on_train_begin(self, logs=None):\n",
    "        self.epochs = self.params['epochs']\n",
    "        self.tqdm = tqdm(total=self.epochs, desc='Training Progress')\n",
    "\n",
    "    def on_epoch_end(self, epoch, logs=None):\n",
    "        self.tqdm.update(1)\n",
    "        self.tqdm.set_postfix(loss=logs['loss'])\n",
    "\n",
    "    def on_train_end(self, logs=None):\n",
    "        self.tqdm.close()\n",
    "\n",
    "# 학습 과정 시각화 및 히스토리 저장\n",
    "tqdm_callback = TQDMProgressBar()\n",
    "history = model.fit(X_train, y_train, \n",
    "                    validation_data=(X_test, y_test),\n",
    "                    epochs=5, \n",
    "                    batch_size=64, \n",
    "                    callbacks=[tqdm_callback])\n",
    "\n",
    "# Epoch-Loss 그래프 시각화\n",
    "plt.plot(history.history['loss'], label='Training Loss')\n",
    "plt.plot(history.history['val_loss'], label='Test Loss')\n",
    "plt.title('Epoch-Loss Graph')\n",
    "plt.xlabel('Epochs')\n",
    "plt.ylabel('Loss')\n",
    "plt.legend()\n",
    "plt.show()\n",
    "\n",
    "# 최종 평가 (Test Set)\n",
    "test_loss, test_accuracy = model.evaluate(X_test, y_test, verbose=0)\n",
    "print(f\"Test Loss: {test_loss:.4f}, Test Accuracy: {test_accuracy:.4f}\")"
   ]
  },
  {
   "cell_type": "code",
   "execution_count": 7,
   "id": "a2b154cf",
   "metadata": {},
   "outputs": [
    {
     "name": "stdout",
     "output_type": "stream",
     "text": [
      "37579/37579 [==============================] - 253s 7ms/step - loss: 0.5297 - accuracy: 0.7182\n",
      "Test Loss: 0.5297, Test Accuracy: 0.7182\n",
      "37579/37579 [==============================] - 311s 8ms/step\n"
     ]
    },
    {
     "data": {
      "image/png": "[encoded data removed]",
      "text/plain": [
       "<Figure size 600x400 with 2 Axes>"
      ]
     },
     "metadata": {},
     "output_type": "display_data"
    },
    {
     "name": "stdout",
     "output_type": "stream",
     "text": [
      "              precision    recall  f1-score   support\n",
      "\n",
      "    Negative       0.73      0.71      0.72    608461\n",
      "    Positive       0.71      0.73      0.72    594056\n",
      "\n",
      "    accuracy                           0.72   1202517\n",
      "   macro avg       0.72      0.72      0.72   1202517\n",
      "weighted avg       0.72      0.72      0.72   1202517\n",
      "\n"
     ]
    }
   ],
   "source": [
    "from sklearn.metrics import confusion_matrix, classification_report\n",
    "import seaborn as sns\n",
    "import matplotlib.pyplot as plt\n",
    "\n",
    "# 테스트 데이터 평가\n",
    "loss, accuracy = model.evaluate(X_test, y_test)\n",
    "print(f\"Test Loss: {loss:.4f}, Test Accuracy: {accuracy:.4f}\")\n",
    "\n",
    "# 예측값 생성\n",
    "y_pred = (model.predict(X_test) > 0.5).astype(int)\n",
    "\n",
    "# 혼동 행렬 시각화\n",
    "conf_matrix = confusion_matrix(y_test, y_pred)\n",
    "plt.figure(figsize=(6, 4))\n",
    "sns.heatmap(conf_matrix, annot=True, fmt='d', cmap='Blues', xticklabels=['Negative', 'Positive'], yticklabels=['Negative', 'Positive'])\n",
    "plt.xlabel('Predicted Label')\n",
    "plt.ylabel('True Label')\n",
    "plt.title('Confusion Matrix')\n",
    "plt.show()\n",
    "\n",
    "# 정밀도, 재현율, F1-스코어 출력\n",
    "print(classification_report(y_test, y_pred, target_names=['Negative', 'Positive']))"
   ]
  },
  {
   "cell_type": "code",
   "execution_count": 5,
   "id": "76b0b9ce",
   "metadata": {},
   "outputs": [
    {
     "name": "stdout",
     "output_type": "stream",
     "text": [
      "37579/37579 [==============================] - 422s 11ms/step\n"
     ]
    },
    {
     "data": {
      "text/plain": [
       "array([[0.79191214],\n",
       "       [0.76651984],\n",
       "       [0.47630504],\n",
       "       ...,\n",
       "       [0.43211117],\n",
       "       [0.8688918 ],\n",
       "       [0.9614371 ]], dtype=float32)"
      ]
     },
     "execution_count": 5,
     "metadata": {},
     "output_type": "execute_result"
    }
   ],
   "source": [
    "y_pred_prob = model.predict(X_test)\n",
    "y_pred_prob"
   ]
  },
  {
   "cell_type": "code",
   "execution_count": 19,
   "id": "35e299dd",
   "metadata": {},
   "outputs": [
    {
     "data": {
      "image/png": "[encoded data removed]",
      "text/plain": [
       "<Figure size 600x400 with 2 Axes>"
      ]
     },
     "metadata": {},
     "output_type": "display_data"
    },
    {
     "name": "stdout",
     "output_type": "stream",
     "text": [
      "              precision    recall  f1-score   support\n",
      "\n",
      "    Negative       0.70      0.76      0.73    608461\n",
      "    Positive       0.73      0.67      0.70    594056\n",
      "\n",
      "    accuracy                           0.72   1202517\n",
      "   macro avg       0.72      0.72      0.72   1202517\n",
      "weighted avg       0.72      0.72      0.72   1202517\n",
      "\n"
     ]
    }
   ],
   "source": [
    "y_pred_by_prob = (y_pred_prob > 0.5).astype(int)\n",
    "\n",
    "# 혼동 행렬 시각화\n",
    "conf_matrix = confusion_matrix(y_test, y_pred_by_prob)\n",
    "plt.figure(figsize=(6, 4))\n",
    "sns.heatmap(conf_matrix, annot=True, fmt='d', cmap='Blues', xticklabels=['Negative', 'Positive'], yticklabels=['Negative', 'Positive'])\n",
    "plt.xlabel('Predicted Label')\n",
    "plt.ylabel('True Label')\n",
    "plt.title('Confusion Matrix')\n",
    "plt.show()\n",
    "\n",
    "# 정밀도, 재현율, F1-스코어 출력\n",
    "print(classification_report(y_test, y_pred_by_prob, target_names=['Negative', 'Positive']))"
   ]
  },
  {
   "cell_type": "code",
   "execution_count": 21,
   "id": "db70f088",
   "metadata": {},
   "outputs": [
    {
     "data": {
      "image/png": "[encoded data removed]",
      "text/plain": [
       "<Figure size 1000x600 with 1 Axes>"
      ]
     },
     "metadata": {},
     "output_type": "display_data"
    }
   ],
   "source": [
    "import numpy as np\n",
    "import matplotlib.pyplot as plt\n",
    "from sklearn.metrics import precision_score\n",
    "\n",
    "# 실제 데이터에 맞게 y_test와 y_pred_prob을 사용하세요\n",
    "# np.random.seed(0)\n",
    "# y_test = np.random.randint(0, 2, 100)  # 실제 레이블\n",
    "# y_pred_prob = np.random.rand(100)      # 예측된 확률\n",
    "\n",
    "# Precision 값들을 저장할 리스트\n",
    "positive_precisions = []\n",
    "negative_precisions = []\n",
    "thresholds = np.arange(0.2, 0.81, 0.1)\n",
    "\n",
    "# 임계값을 변화시키며 Precision 계산\n",
    "for threshold in thresholds:\n",
    "    y_pred_by_threshold = (y_pred_prob > threshold).astype(int)\n",
    "    positive_precision = precision_score(y_test, y_pred_by_threshold, pos_label=1)\n",
    "    negative_precision = precision_score(y_test, y_pred_by_threshold, pos_label=0)\n",
    "    positive_precisions.append(positive_precision)\n",
    "    negative_precisions.append(negative_precision)\n",
    "\n",
    "# 시각화\n",
    "plt.figure(figsize=(10, 6))\n",
    "plt.plot(thresholds, positive_precisions, marker='o', label=\"Positive Precision\")\n",
    "plt.plot(thresholds, negative_precisions, marker='o', label=\"Negative Precision\")\n",
    "plt.xlabel(\"Threshold\")\n",
    "plt.ylabel(\"Precision\")\n",
    "plt.title(\"Positive and Negative Precision with Varying Thresholds\")\n",
    "plt.legend()\n",
    "plt.grid(True)\n",
    "plt.show()"
   ]
  },
  {
   "cell_type": "code",
   "execution_count": 6,
   "id": "63a573f3",
   "metadata": {},
   "outputs": [],
   "source": [
    "# 모델 저장\n",
    "model.save('lstm_s20_e5_b64.h5')"
   ]
  },
  {
   "cell_type": "markdown",
   "id": "b07616c9",
   "metadata": {},
   "source": [
    "## SEED 1"
   ]
  },
  {
   "cell_type": "code",
   "execution_count": 1,
   "id": "d997bf5c",
   "metadata": {},
   "outputs": [
    {
     "name": "stdout",
     "output_type": "stream",
     "text": [
      "Train set: (4810067, 20, 18), Test set: (1202517, 20, 18)\n"
     ]
    },
    {
     "name": "stderr",
     "output_type": "stream",
     "text": [
      "\r",
      "Training Progress:   0%|                                                                         | 0/5 [00:00<?, ?it/s]"
     ]
    },
    {
     "name": "stdout",
     "output_type": "stream",
     "text": [
      "Epoch 1/5\n",
      "75158/75158 [==============================] - ETA: 0s - loss: 0.6731 - accuracy: 0.5663"
     ]
    },
    {
     "name": "stderr",
     "output_type": "stream",
     "text": [
      "Training Progress:  20%|█████████▍                                     | 1/5 [1:40:45<6:43:00, 6045.15s/it, loss=0.673]"
     ]
    },
    {
     "name": "stdout",
     "output_type": "stream",
     "text": [
      "75158/75158 [==============================] - 6045s 80ms/step - loss: 0.6731 - accuracy: 0.5663 - val_loss: 0.6458 - val_accuracy: 0.6079\n",
      "Epoch 2/5\n",
      "75158/75158 [==============================] - ETA: 0s - loss: 0.6245 - accuracy: 0.6317"
     ]
    },
    {
     "name": "stderr",
     "output_type": "stream",
     "text": [
      "Training Progress:  40%|██████████████████▊                            | 2/5 [2:41:52<3:52:19, 4646.38s/it, loss=0.624]"
     ]
    },
    {
     "name": "stdout",
     "output_type": "stream",
     "text": [
      "75158/75158 [==============================] - 3667s 49ms/step - loss: 0.6245 - accuracy: 0.6317 - val_loss: 0.6008 - val_accuracy: 0.6568\n",
      "Epoch 3/5\n",
      "75158/75158 [==============================] - ETA: 0s - loss: 0.5861 - accuracy: 0.6701"
     ]
    },
    {
     "name": "stderr",
     "output_type": "stream",
     "text": [
      "Training Progress:  60%|████████████████████████████▏                  | 3/5 [4:16:03<2:50:09, 5104.92s/it, loss=0.586]"
     ]
    },
    {
     "name": "stdout",
     "output_type": "stream",
     "text": [
      "75158/75158 [==============================] - 5651s 75ms/step - loss: 0.5861 - accuracy: 0.6701 - val_loss: 0.5692 - val_accuracy: 0.6851\n",
      "Epoch 4/5\n",
      "75157/75158 [============================>.] - ETA: 0s - loss: 0.5582 - accuracy: 0.6946"
     ]
    },
    {
     "name": "stderr",
     "output_type": "stream",
     "text": [
      "Training Progress:  80%|█████████████████████████████████████▌         | 4/5 [6:03:03<1:33:44, 5624.30s/it, loss=0.558]"
     ]
    },
    {
     "name": "stdout",
     "output_type": "stream",
     "text": [
      "75158/75158 [==============================] - 6420s 85ms/step - loss: 0.5582 - accuracy: 0.6946 - val_loss: 0.5411 - val_accuracy: 0.7085\n",
      "Epoch 5/5\n",
      "75157/75158 [============================>.] - ETA: 0s - loss: 0.5379 - accuracy: 0.7116"
     ]
    },
    {
     "name": "stderr",
     "output_type": "stream",
     "text": [
      "Training Progress: 100%|█████████████████████████████████████████████████| 5/5 [8:53:01<00:00, 7273.59s/it, loss=0.538]"
     ]
    },
    {
     "name": "stdout",
     "output_type": "stream",
     "text": [
      "\b\b\b\b\b\b\b\b\b\b\b\b\b\b\b\b\b\b\b\b\b\b\b\b\b\b\b\b\b\b\b\b\b\b\b\b\b\b\b\b\b\b\b\b\b\b\b\b\b\b\b\b\b\b\b\b\b\b\b\b\b\b\b\b\b\b\b\b\b\b\b\b\b\b\b\b\b\b\b\b\b\b\b\b\b\b\b\b\r",
      "75158/75158 [==============================] - 10198s 136ms/step - loss: 0.5379 - accuracy: 0.7116 - val_loss: 0.5254 - val_accuracy: 0.7214\n"
     ]
    },
    {
     "name": "stderr",
     "output_type": "stream",
     "text": [
      "Training Progress: 100%|█████████████████████████████████████████████████| 5/5 [8:53:01<00:00, 6396.29s/it, loss=0.538]\n"
     ]
    },
    {
     "data": {
      "image/png": "[encoded data removed]",
      "text/plain": [
       "<Figure size 640x480 with 1 Axes>"
      ]
     },
     "metadata": {},
     "output_type": "display_data"
    },
    {
     "name": "stdout",
     "output_type": "stream",
     "text": [
      "Test Loss: 0.5254, Test Accuracy: 0.7214\n"
     ]
    }
   ],
   "source": [
    "from sklearn.model_selection import train_test_split\n",
    "from sklearn.preprocessing import StandardScaler\n",
    "from tensorflow.keras.models import Sequential\n",
    "from tensorflow.keras.layers import LSTM, Dense, Dropout\n",
    "from tensorflow.keras.callbacks import Callback\n",
    "import matplotlib.pyplot as plt\n",
    "from tqdm import tqdm\n",
    "import numpy as np\n",
    "import pandas as pd\n",
    "\n",
    "# 데이터 로드\n",
    "df_merged = pd.read_csv('final_data_.csv')\n",
    "\n",
    "# 데이터 준비\n",
    "df = df_merged.copy()\n",
    "\n",
    "# Feature와 Target 분리\n",
    "X = df.drop(columns=['after_10_min']).values\n",
    "y = df['after_10_min'].values\n",
    "\n",
    "# 데이터 스케일링\n",
    "scaler = StandardScaler()\n",
    "X_scaled = scaler.fit_transform(X)\n",
    "\n",
    "# 시계열 데이터 형식으로 변환 >> window = 20\n",
    "timesteps = 20\n",
    "X_sequences, y_sequences = [], []\n",
    "\n",
    "for i in range(len(X_scaled) - timesteps):\n",
    "    X_sequences.append(X_scaled[i:i+timesteps])\n",
    "    y_sequences.append(y[i+timesteps])\n",
    "\n",
    "X_sequences = np.array(X_sequences, dtype=np.float32)\n",
    "y_sequences = np.array(y_sequences)\n",
    "\n",
    "# Train, Test 분할 (80% Train, 20% Test)\n",
    "X_train, X_test, y_train, y_test = train_test_split(X_sequences, y_sequences, test_size=0.2, random_state=1)\n",
    "\n",
    "# 분할 비율 출력\n",
    "print(f\"Train set: {X_train.shape}, Test set: {X_test.shape}\")\n",
    "\n",
    "# LSTM 모델 구성\n",
    "model = Sequential([\n",
    "    LSTM(128, input_shape=(X_train.shape[1], X_train.shape[2]), return_sequences=True),\n",
    "    Dropout(0.2),\n",
    "    LSTM(64, return_sequences=False),\n",
    "    Dropout(0.2),\n",
    "    Dense(32, activation='relu'),\n",
    "    Dense(1, activation='sigmoid')\n",
    "])\n",
    "\n",
    "# 모델 컴파일\n",
    "model.compile(optimizer='adam', loss='binary_crossentropy', metrics=['accuracy'])\n",
    "\n",
    "# 학습 진행을 표시하기 위한 Callback 설정\n",
    "class TQDMProgressBar(Callback):\n",
    "    def on_train_begin(self, logs=None):\n",
    "        self.epochs = self.params['epochs']\n",
    "        self.tqdm = tqdm(total=self.epochs, desc='Training Progress')\n",
    "\n",
    "    def on_epoch_end(self, epoch, logs=None):\n",
    "        self.tqdm.update(1)\n",
    "        self.tqdm.set_postfix(loss=logs['loss'])\n",
    "\n",
    "    def on_train_end(self, logs=None):\n",
    "        self.tqdm.close()\n",
    "\n",
    "# 학습 과정 시각화 및 히스토리 저장\n",
    "tqdm_callback = TQDMProgressBar()\n",
    "history = model.fit(X_train, y_train, \n",
    "                    validation_data=(X_test, y_test),\n",
    "                    epochs=5, \n",
    "                    batch_size=64, \n",
    "                    callbacks=[tqdm_callback])\n",
    "\n",
    "# Epoch-Loss 그래프 시각화\n",
    "plt.plot(history.history['loss'], label='Training Loss')\n",
    "plt.plot(history.history['val_loss'], label='Test Loss')\n",
    "plt.title('Epoch-Loss Graph')\n",
    "plt.xlabel('Epochs')\n",
    "plt.ylabel('Loss')\n",
    "plt.legend()\n",
    "plt.show()\n",
    "\n",
    "# 최종 평가 (Test Set)\n",
    "test_loss, test_accuracy = model.evaluate(X_test, y_test, verbose=0)\n",
    "print(f\"Test Loss: {test_loss:.4f}, Test Accuracy: {test_accuracy:.4f}\")"
   ]
  },
  {
   "cell_type": "code",
   "execution_count": 2,
   "id": "fefbe9c5",
   "metadata": {},
   "outputs": [],
   "source": [
    "model.save('lstm_s20_e5_b64_seed1.h5')"
   ]
  },
  {
   "cell_type": "markdown",
   "id": "de323909",
   "metadata": {},
   "source": [
    "## shuffle = False"
   ]
  },
  {
   "cell_type": "code",
   "execution_count": 1,
   "id": "79717b8e",
   "metadata": {},
   "outputs": [
    {
     "name": "stdout",
     "output_type": "stream",
     "text": [
      "Train set: (4810067, 20, 18), Test set: (1202517, 20, 18)\n"
     ]
    },
    {
     "name": "stderr",
     "output_type": "stream",
     "text": [
      "\r",
      "Training Progress:   0%|                                                                         | 0/5 [00:00<?, ?it/s]"
     ]
    },
    {
     "name": "stdout",
     "output_type": "stream",
     "text": [
      "Epoch 1/5\n",
      "75157/75158 [============================>.] - ETA: 0s - loss: 0.6662 - accuracy: 0.5761"
     ]
    },
    {
     "name": "stderr",
     "output_type": "stream",
     "text": [
      "Training Progress:  20%|█████████▊                                       | 1/5 [51:51<3:27:25, 3111.36s/it, loss=0.666]"
     ]
    },
    {
     "name": "stdout",
     "output_type": "stream",
     "text": [
      "75158/75158 [==============================] - 3111s 41ms/step - loss: 0.6662 - accuracy: 0.5761 - val_loss: 0.8716 - val_accuracy: 0.5091\n",
      "Epoch 2/5\n",
      "75158/75158 [==============================] - ETA: 0s - loss: 0.6046 - accuracy: 0.6521"
     ]
    },
    {
     "name": "stderr",
     "output_type": "stream",
     "text": [
      "Training Progress:  40%|██████████████████▊                            | 2/5 [1:42:07<2:32:45, 3055.19s/it, loss=0.605]"
     ]
    },
    {
     "name": "stdout",
     "output_type": "stream",
     "text": [
      "75158/75158 [==============================] - 3016s 40ms/step - loss: 0.6046 - accuracy: 0.6521 - val_loss: 1.0923 - val_accuracy: 0.5077\n",
      "Epoch 3/5\n",
      "75158/75158 [==============================] - ETA: 0s - loss: 0.5568 - accuracy: 0.6953"
     ]
    },
    {
     "name": "stderr",
     "output_type": "stream",
     "text": [
      "Training Progress:  60%|████████████████████████████▏                  | 3/5 [2:33:00<1:41:48, 3054.34s/it, loss=0.557]"
     ]
    },
    {
     "name": "stdout",
     "output_type": "stream",
     "text": [
      "75158/75158 [==============================] - 3053s 41ms/step - loss: 0.5568 - accuracy: 0.6953 - val_loss: 1.3612 - val_accuracy: 0.5073\n",
      "Epoch 4/5\n",
      "75158/75158 [==============================] - ETA: 0s - loss: 0.5249 - accuracy: 0.7210"
     ]
    },
    {
     "name": "stderr",
     "output_type": "stream",
     "text": [
      "Training Progress:  80%|███████████████████████████████████████▏         | 4/5 [3:24:16<51:02, 3062.74s/it, loss=0.525]"
     ]
    },
    {
     "name": "stdout",
     "output_type": "stream",
     "text": [
      "75158/75158 [==============================] - 3076s 41ms/step - loss: 0.5249 - accuracy: 0.7210 - val_loss: 1.5280 - val_accuracy: 0.5086\n",
      "Epoch 5/5\n",
      "75157/75158 [============================>.] - ETA: 0s - loss: 0.5031 - accuracy: 0.7378"
     ]
    },
    {
     "name": "stderr",
     "output_type": "stream",
     "text": [
      "Training Progress: 100%|█████████████████████████████████████████████████| 5/5 [4:15:53<00:00, 3075.12s/it, loss=0.503]"
     ]
    },
    {
     "name": "stdout",
     "output_type": "stream",
     "text": [
      "\b\b\b\b\b\b\b\b\b\b\b\b\b\b\b\b\b\b\b\b\b\b\b\b\b\b\b\b\b\b\b\b\b\b\b\b\b\b\b\b\b\b\b\b\b\b\b\b\b\b\b\b\b\b\b\b\b\b\b\b\b\b\b\b\b\b\b\b\b\b\b\b\b\b\b\b\b\b\b\b\b\b\b\b\b\b\b\b\r",
      "75158/75158 [==============================] - 3097s 41ms/step - loss: 0.5031 - accuracy: 0.7378 - val_loss: 1.4420 - val_accuracy: 0.5087\n"
     ]
    },
    {
     "name": "stderr",
     "output_type": "stream",
     "text": [
      "Training Progress: 100%|█████████████████████████████████████████████████| 5/5 [4:15:53<00:00, 3070.65s/it, loss=0.503]\n"
     ]
    },
    {
     "data": {
      "image/png": "[encoded data removed]",
      "text/plain": [
       "<Figure size 640x480 with 1 Axes>"
      ]
     },
     "metadata": {},
     "output_type": "display_data"
    },
    {
     "name": "stdout",
     "output_type": "stream",
     "text": [
      "Test Loss: 1.4420, Test Accuracy: 0.5087\n"
     ]
    }
   ],
   "source": [
    "from sklearn.model_selection import train_test_split\n",
    "from sklearn.preprocessing import StandardScaler\n",
    "from tensorflow.keras.models import Sequential\n",
    "from tensorflow.keras.layers import LSTM, Dense, Dropout\n",
    "from tensorflow.keras.callbacks import Callback\n",
    "import matplotlib.pyplot as plt\n",
    "from tqdm import tqdm\n",
    "import numpy as np\n",
    "import pandas as pd\n",
    "\n",
    "# 데이터 로드\n",
    "df_merged = pd.read_csv('final_data_.csv')\n",
    "\n",
    "# 데이터 준비\n",
    "df = df_merged.copy()\n",
    "\n",
    "# Feature와 Target 분리\n",
    "X = df.drop(columns=['after_10_min']).values\n",
    "y = df['after_10_min'].values\n",
    "\n",
    "# 데이터 스케일링\n",
    "scaler = StandardScaler()\n",
    "X_scaled = scaler.fit_transform(X)\n",
    "\n",
    "# 시계열 데이터 형식으로 변환 >> window = 20\n",
    "timesteps = 20\n",
    "X_sequences, y_sequences = [], []\n",
    "\n",
    "for i in range(len(X_scaled) - timesteps):\n",
    "    X_sequences.append(X_scaled[i:i+timesteps])\n",
    "    y_sequences.append(y[i+timesteps])\n",
    "\n",
    "X_sequences = np.array(X_sequences, dtype=np.float32)\n",
    "y_sequences = np.array(y_sequences)\n",
    "\n",
    "# Train, Test 분할 (80% Train, 20% Test)\n",
    "X_train, X_test, y_train, y_test = train_test_split(X_sequences, y_sequences, test_size=0.2, random_state=1, shuffle = False)\n",
    "\n",
    "# 분할 비율 출력\n",
    "print(f\"Train set: {X_train.shape}, Test set: {X_test.shape}\")\n",
    "\n",
    "# LSTM 모델 구성\n",
    "model = Sequential([\n",
    "    LSTM(128, input_shape=(X_train.shape[1], X_train.shape[2]), return_sequences=True),\n",
    "    Dropout(0.2),\n",
    "    LSTM(64, return_sequences=False),\n",
    "    Dropout(0.2),\n",
    "    Dense(32, activation='relu'),\n",
    "    Dense(1, activation='sigmoid')\n",
    "])\n",
    "\n",
    "# 모델 컴파일\n",
    "model.compile(optimizer='adam', loss='binary_crossentropy', metrics=['accuracy'])\n",
    "\n",
    "# 학습 진행을 표시하기 위한 Callback 설정\n",
    "class TQDMProgressBar(Callback):\n",
    "    def on_train_begin(self, logs=None):\n",
    "        self.epochs = self.params['epochs']\n",
    "        self.tqdm = tqdm(total=self.epochs, desc='Training Progress')\n",
    "\n",
    "    def on_epoch_end(self, epoch, logs=None):\n",
    "        self.tqdm.update(1)\n",
    "        self.tqdm.set_postfix(loss=logs['loss'])\n",
    "\n",
    "    def on_train_end(self, logs=None):\n",
    "        self.tqdm.close()\n",
    "\n",
    "# 학습 과정 시각화 및 히스토리 저장\n",
    "tqdm_callback = TQDMProgressBar()\n",
    "history = model.fit(X_train, y_train, \n",
    "                    validation_data=(X_test, y_test),\n",
    "                    epochs=5, \n",
    "                    batch_size=64, \n",
    "                    callbacks=[tqdm_callback])\n",
    "\n",
    "# Epoch-Loss 그래프 시각화\n",
    "plt.plot(history.history['loss'], label='Training Loss')\n",
    "plt.plot(history.history['val_loss'], label='Test Loss')\n",
    "plt.title('Epoch-Loss Graph')\n",
    "plt.xlabel('Epochs')\n",
    "plt.ylabel('Loss')\n",
    "plt.legend()\n",
    "plt.show()\n",
    "\n",
    "# 최종 평가 (Test Set)\n",
    "test_loss, test_accuracy = model.evaluate(X_test, y_test, verbose=0)\n",
    "print(f\"Test Loss: {test_loss:.4f}, Test Accuracy: {test_accuracy:.4f}\")"
   ]
  },
  {
   "cell_type": "code",
   "execution_count": null,
   "id": "53e2b667",
   "metadata": {},
   "outputs": [],
   "source": []
  },
  {
   "cell_type": "markdown",
   "id": "9a2889fa",
   "metadata": {},
   "source": [
    "## Seq=30, batch = 32, 겹치는 부분 없음"
   ]
  },
  {
   "cell_type": "code",
   "execution_count": 3,
   "id": "fd81d376",
   "metadata": {},
   "outputs": [],
   "source": [
    "df_merged = pd.read_csv('final_data.csv')"
   ]
  },
  {
   "cell_type": "code",
   "execution_count": 4,
   "id": "bde3d8fa",
   "metadata": {},
   "outputs": [
    {
     "data": {
      "text/html": [
       "<div>\n",
       "<style scoped>\n",
       "    .dataframe tbody tr th:only-of-type {\n",
       "        vertical-align: middle;\n",
       "    }\n",
       "\n",
       "    .dataframe tbody tr th {\n",
       "        vertical-align: top;\n",
       "    }\n",
       "\n",
       "    .dataframe thead th {\n",
       "        text-align: right;\n",
       "    }\n",
       "</style>\n",
       "<table border=\"1\" class=\"dataframe\">\n",
       "  <thead>\n",
       "    <tr style=\"text-align: right;\">\n",
       "      <th></th>\n",
       "      <th>total_ask_size</th>\n",
       "      <th>total_bid_size</th>\n",
       "      <th>1_ask_size</th>\n",
       "      <th>1_bid_size</th>\n",
       "      <th>2_ask_size</th>\n",
       "      <th>2_bid_size</th>\n",
       "      <th>3_ask_size</th>\n",
       "      <th>3_bid_size</th>\n",
       "      <th>4_ask_size</th>\n",
       "      <th>4_bid_size</th>\n",
       "      <th>5_ask_size</th>\n",
       "      <th>5_bid_size</th>\n",
       "      <th>trade_price</th>\n",
       "      <th>trade_volume</th>\n",
       "      <th>spread</th>\n",
       "      <th>imbalance</th>\n",
       "      <th>totalSize_ratio</th>\n",
       "      <th>trade_price_10min_later</th>\n",
       "    </tr>\n",
       "  </thead>\n",
       "  <tbody>\n",
       "    <tr>\n",
       "      <th>0</th>\n",
       "      <td>0.499237</td>\n",
       "      <td>0.925602</td>\n",
       "      <td>0.032215</td>\n",
       "      <td>0.005979</td>\n",
       "      <td>0.006364</td>\n",
       "      <td>0.016141</td>\n",
       "      <td>0.12224</td>\n",
       "      <td>0.063830</td>\n",
       "      <td>0.000120</td>\n",
       "      <td>0.300359</td>\n",
       "      <td>0.00102</td>\n",
       "      <td>0.080266</td>\n",
       "      <td>83658000.0</td>\n",
       "      <td>0.000100</td>\n",
       "      <td>36000.0</td>\n",
       "      <td>0.299237</td>\n",
       "      <td>1.854033</td>\n",
       "      <td>1</td>\n",
       "    </tr>\n",
       "    <tr>\n",
       "      <th>1</th>\n",
       "      <td>0.501627</td>\n",
       "      <td>0.896695</td>\n",
       "      <td>0.032215</td>\n",
       "      <td>0.005979</td>\n",
       "      <td>0.006364</td>\n",
       "      <td>0.016141</td>\n",
       "      <td>0.12224</td>\n",
       "      <td>0.300359</td>\n",
       "      <td>0.000120</td>\n",
       "      <td>0.080266</td>\n",
       "      <td>0.00102</td>\n",
       "      <td>0.142020</td>\n",
       "      <td>83658000.0</td>\n",
       "      <td>0.000100</td>\n",
       "      <td>36000.0</td>\n",
       "      <td>0.282530</td>\n",
       "      <td>1.787573</td>\n",
       "      <td>1</td>\n",
       "    </tr>\n",
       "    <tr>\n",
       "      <th>2</th>\n",
       "      <td>0.501627</td>\n",
       "      <td>0.861926</td>\n",
       "      <td>0.032215</td>\n",
       "      <td>0.000061</td>\n",
       "      <td>0.006364</td>\n",
       "      <td>0.005979</td>\n",
       "      <td>0.12224</td>\n",
       "      <td>0.016141</td>\n",
       "      <td>0.000120</td>\n",
       "      <td>0.300359</td>\n",
       "      <td>0.00102</td>\n",
       "      <td>0.080266</td>\n",
       "      <td>83658000.0</td>\n",
       "      <td>0.000100</td>\n",
       "      <td>33000.0</td>\n",
       "      <td>0.264235</td>\n",
       "      <td>1.718261</td>\n",
       "      <td>1</td>\n",
       "    </tr>\n",
       "    <tr>\n",
       "      <th>3</th>\n",
       "      <td>0.500431</td>\n",
       "      <td>0.861926</td>\n",
       "      <td>0.031019</td>\n",
       "      <td>0.000061</td>\n",
       "      <td>0.006364</td>\n",
       "      <td>0.005979</td>\n",
       "      <td>0.12224</td>\n",
       "      <td>0.016141</td>\n",
       "      <td>0.000120</td>\n",
       "      <td>0.300359</td>\n",
       "      <td>0.00102</td>\n",
       "      <td>0.080266</td>\n",
       "      <td>83658000.0</td>\n",
       "      <td>0.001195</td>\n",
       "      <td>33000.0</td>\n",
       "      <td>0.265345</td>\n",
       "      <td>1.722365</td>\n",
       "      <td>1</td>\n",
       "    </tr>\n",
       "    <tr>\n",
       "      <th>4</th>\n",
       "      <td>0.500431</td>\n",
       "      <td>0.878067</td>\n",
       "      <td>0.031019</td>\n",
       "      <td>0.000061</td>\n",
       "      <td>0.006364</td>\n",
       "      <td>0.005979</td>\n",
       "      <td>0.12224</td>\n",
       "      <td>0.032282</td>\n",
       "      <td>0.000120</td>\n",
       "      <td>0.300359</td>\n",
       "      <td>0.00102</td>\n",
       "      <td>0.080266</td>\n",
       "      <td>83658000.0</td>\n",
       "      <td>0.001195</td>\n",
       "      <td>33000.0</td>\n",
       "      <td>0.273947</td>\n",
       "      <td>1.754620</td>\n",
       "      <td>1</td>\n",
       "    </tr>\n",
       "    <tr>\n",
       "      <th>...</th>\n",
       "      <td>...</td>\n",
       "      <td>...</td>\n",
       "      <td>...</td>\n",
       "      <td>...</td>\n",
       "      <td>...</td>\n",
       "      <td>...</td>\n",
       "      <td>...</td>\n",
       "      <td>...</td>\n",
       "      <td>...</td>\n",
       "      <td>...</td>\n",
       "      <td>...</td>\n",
       "      <td>...</td>\n",
       "      <td>...</td>\n",
       "      <td>...</td>\n",
       "      <td>...</td>\n",
       "      <td>...</td>\n",
       "      <td>...</td>\n",
       "      <td>...</td>\n",
       "    </tr>\n",
       "    <tr>\n",
       "      <th>8539356</th>\n",
       "      <td>0.964932</td>\n",
       "      <td>0.630721</td>\n",
       "      <td>0.020055</td>\n",
       "      <td>0.009224</td>\n",
       "      <td>0.020583</td>\n",
       "      <td>0.205333</td>\n",
       "      <td>0.10297</td>\n",
       "      <td>0.100730</td>\n",
       "      <td>0.131715</td>\n",
       "      <td>0.003442</td>\n",
       "      <td>0.04228</td>\n",
       "      <td>0.000434</td>\n",
       "      <td>115201000.0</td>\n",
       "      <td>0.000886</td>\n",
       "      <td>61000.0</td>\n",
       "      <td>-0.209451</td>\n",
       "      <td>0.653643</td>\n",
       "      <td>1</td>\n",
       "    </tr>\n",
       "    <tr>\n",
       "      <th>8539357</th>\n",
       "      <td>0.964932</td>\n",
       "      <td>0.630721</td>\n",
       "      <td>0.020055</td>\n",
       "      <td>0.009224</td>\n",
       "      <td>0.020583</td>\n",
       "      <td>0.205333</td>\n",
       "      <td>0.10297</td>\n",
       "      <td>0.100730</td>\n",
       "      <td>0.131715</td>\n",
       "      <td>0.003442</td>\n",
       "      <td>0.04228</td>\n",
       "      <td>0.000434</td>\n",
       "      <td>115201000.0</td>\n",
       "      <td>0.000886</td>\n",
       "      <td>61000.0</td>\n",
       "      <td>-0.209451</td>\n",
       "      <td>0.653643</td>\n",
       "      <td>1</td>\n",
       "    </tr>\n",
       "    <tr>\n",
       "      <th>8539358</th>\n",
       "      <td>0.964932</td>\n",
       "      <td>0.634150</td>\n",
       "      <td>0.020055</td>\n",
       "      <td>0.004341</td>\n",
       "      <td>0.020583</td>\n",
       "      <td>0.009224</td>\n",
       "      <td>0.10297</td>\n",
       "      <td>0.205333</td>\n",
       "      <td>0.131715</td>\n",
       "      <td>0.100730</td>\n",
       "      <td>0.04228</td>\n",
       "      <td>0.003442</td>\n",
       "      <td>115201000.0</td>\n",
       "      <td>0.000886</td>\n",
       "      <td>60000.0</td>\n",
       "      <td>-0.206858</td>\n",
       "      <td>0.657196</td>\n",
       "      <td>1</td>\n",
       "    </tr>\n",
       "    <tr>\n",
       "      <th>8539359</th>\n",
       "      <td>0.963627</td>\n",
       "      <td>0.588224</td>\n",
       "      <td>0.018750</td>\n",
       "      <td>0.004441</td>\n",
       "      <td>0.020583</td>\n",
       "      <td>0.009224</td>\n",
       "      <td>0.10297</td>\n",
       "      <td>0.205333</td>\n",
       "      <td>0.131715</td>\n",
       "      <td>0.100730</td>\n",
       "      <td>0.04228</td>\n",
       "      <td>0.003442</td>\n",
       "      <td>115262000.0</td>\n",
       "      <td>0.000652</td>\n",
       "      <td>60000.0</td>\n",
       "      <td>-0.241907</td>\n",
       "      <td>0.610427</td>\n",
       "      <td>1</td>\n",
       "    </tr>\n",
       "    <tr>\n",
       "      <th>8539360</th>\n",
       "      <td>0.963627</td>\n",
       "      <td>0.636571</td>\n",
       "      <td>0.018750</td>\n",
       "      <td>0.004441</td>\n",
       "      <td>0.020583</td>\n",
       "      <td>0.009224</td>\n",
       "      <td>0.10297</td>\n",
       "      <td>0.231360</td>\n",
       "      <td>0.131715</td>\n",
       "      <td>0.100730</td>\n",
       "      <td>0.04228</td>\n",
       "      <td>0.003442</td>\n",
       "      <td>115262000.0</td>\n",
       "      <td>0.000652</td>\n",
       "      <td>60000.0</td>\n",
       "      <td>-0.204385</td>\n",
       "      <td>0.660599</td>\n",
       "      <td>1</td>\n",
       "    </tr>\n",
       "  </tbody>\n",
       "</table>\n",
       "<p>8539361 rows × 18 columns</p>\n",
       "</div>"
      ],
      "text/plain": [
       "         total_ask_size  total_bid_size  1_ask_size  1_bid_size  2_ask_size  \\\n",
       "0              0.499237        0.925602    0.032215    0.005979    0.006364   \n",
       "1              0.501627        0.896695    0.032215    0.005979    0.006364   \n",
       "2              0.501627        0.861926    0.032215    0.000061    0.006364   \n",
       "3              0.500431        0.861926    0.031019    0.000061    0.006364   \n",
       "4              0.500431        0.878067    0.031019    0.000061    0.006364   \n",
       "...                 ...             ...         ...         ...         ...   \n",
       "8539356        0.964932        0.630721    0.020055    0.009224    0.020583   \n",
       "8539357        0.964932        0.630721    0.020055    0.009224    0.020583   \n",
       "8539358        0.964932        0.634150    0.020055    0.004341    0.020583   \n",
       "8539359        0.963627        0.588224    0.018750    0.004441    0.020583   \n",
       "8539360        0.963627        0.636571    0.018750    0.004441    0.020583   \n",
       "\n",
       "         2_bid_size  3_ask_size  3_bid_size  4_ask_size  4_bid_size  \\\n",
       "0          0.016141     0.12224    0.063830    0.000120    0.300359   \n",
       "1          0.016141     0.12224    0.300359    0.000120    0.080266   \n",
       "2          0.005979     0.12224    0.016141    0.000120    0.300359   \n",
       "3          0.005979     0.12224    0.016141    0.000120    0.300359   \n",
       "4          0.005979     0.12224    0.032282    0.000120    0.300359   \n",
       "...             ...         ...         ...         ...         ...   \n",
       "8539356    0.205333     0.10297    0.100730    0.131715    0.003442   \n",
       "8539357    0.205333     0.10297    0.100730    0.131715    0.003442   \n",
       "8539358    0.009224     0.10297    0.205333    0.131715    0.100730   \n",
       "8539359    0.009224     0.10297    0.205333    0.131715    0.100730   \n",
       "8539360    0.009224     0.10297    0.231360    0.131715    0.100730   \n",
       "\n",
       "         5_ask_size  5_bid_size  trade_price  trade_volume   spread  \\\n",
       "0           0.00102    0.080266   83658000.0      0.000100  36000.0   \n",
       "1           0.00102    0.142020   83658000.0      0.000100  36000.0   \n",
       "2           0.00102    0.080266   83658000.0      0.000100  33000.0   \n",
       "3           0.00102    0.080266   83658000.0      0.001195  33000.0   \n",
       "4           0.00102    0.080266   83658000.0      0.001195  33000.0   \n",
       "...             ...         ...          ...           ...      ...   \n",
       "8539356     0.04228    0.000434  115201000.0      0.000886  61000.0   \n",
       "8539357     0.04228    0.000434  115201000.0      0.000886  61000.0   \n",
       "8539358     0.04228    0.003442  115201000.0      0.000886  60000.0   \n",
       "8539359     0.04228    0.003442  115262000.0      0.000652  60000.0   \n",
       "8539360     0.04228    0.003442  115262000.0      0.000652  60000.0   \n",
       "\n",
       "         imbalance  totalSize_ratio  trade_price_10min_later  \n",
       "0         0.299237         1.854033                        1  \n",
       "1         0.282530         1.787573                        1  \n",
       "2         0.264235         1.718261                        1  \n",
       "3         0.265345         1.722365                        1  \n",
       "4         0.273947         1.754620                        1  \n",
       "...            ...              ...                      ...  \n",
       "8539356  -0.209451         0.653643                        1  \n",
       "8539357  -0.209451         0.653643                        1  \n",
       "8539358  -0.206858         0.657196                        1  \n",
       "8539359  -0.241907         0.610427                        1  \n",
       "8539360  -0.204385         0.660599                        1  \n",
       "\n",
       "[8539361 rows x 18 columns]"
      ]
     },
     "execution_count": 4,
     "metadata": {},
     "output_type": "execute_result"
    }
   ],
   "source": [
    "df_merged"
   ]
  },
  {
   "cell_type": "code",
   "execution_count": 5,
   "id": "0322a7b0",
   "metadata": {
    "scrolled": false
   },
   "outputs": [
    {
     "name": "stdout",
     "output_type": "stream",
     "text": [
      "Train set: (227716, 30, 17), Test set: (56929, 30, 17)\n"
     ]
    },
    {
     "name": "stderr",
     "output_type": "stream",
     "text": [
      "\r",
      "Training Progress:   0%|                                                                        | 0/20 [00:00<?, ?it/s]"
     ]
    },
    {
     "name": "stdout",
     "output_type": "stream",
     "text": [
      "Epoch 1/20\n",
      "7117/7117 [==============================] - ETA: 0s - loss: 0.6897 - accuracy: 0.5156"
     ]
    },
    {
     "name": "stderr",
     "output_type": "stream",
     "text": [
      "Training Progress:   5%|██▌                                               | 1/20 [04:01<1:16:22, 241.18s/it, loss=0.69]"
     ]
    },
    {
     "name": "stdout",
     "output_type": "stream",
     "text": [
      "7117/7117 [==============================] - 241s 33ms/step - loss: 0.6897 - accuracy: 0.5156 - val_loss: 0.6880 - val_accuracy: 0.5247\n",
      "Epoch 2/20\n",
      "7116/7117 [============================>.] - ETA: 0s - loss: 0.6883 - accuracy: 0.5185"
     ]
    },
    {
     "name": "stderr",
     "output_type": "stream",
     "text": [
      "Training Progress:  10%|████▉                                            | 2/20 [13:08<2:06:21, 421.17s/it, loss=0.688]"
     ]
    },
    {
     "name": "stdout",
     "output_type": "stream",
     "text": [
      "7117/7117 [==============================] - 547s 77ms/step - loss: 0.6883 - accuracy: 0.5185 - val_loss: 0.6884 - val_accuracy: 0.5213\n",
      "Epoch 3/20\n",
      "7116/7117 [============================>.] - ETA: 0s - loss: 0.6877 - accuracy: 0.5215"
     ]
    },
    {
     "name": "stderr",
     "output_type": "stream",
     "text": [
      "Training Progress:  15%|███████▎                                         | 3/20 [22:18<2:16:00, 480.04s/it, loss=0.688]"
     ]
    },
    {
     "name": "stdout",
     "output_type": "stream",
     "text": [
      "7117/7117 [==============================] - 550s 77ms/step - loss: 0.6877 - accuracy: 0.5215 - val_loss: 0.6876 - val_accuracy: 0.5241\n",
      "Epoch 4/20\n",
      "7116/7117 [============================>.] - ETA: 0s - loss: 0.6870 - accuracy: 0.5254"
     ]
    },
    {
     "name": "stderr",
     "output_type": "stream",
     "text": [
      "Training Progress:  20%|█████████▊                                       | 4/20 [31:31<2:15:43, 508.98s/it, loss=0.687]"
     ]
    },
    {
     "name": "stdout",
     "output_type": "stream",
     "text": [
      "7117/7117 [==============================] - 553s 78ms/step - loss: 0.6870 - accuracy: 0.5254 - val_loss: 0.6873 - val_accuracy: 0.5244\n",
      "Epoch 5/20\n",
      "7116/7117 [============================>.] - ETA: 0s - loss: 0.6868 - accuracy: 0.5276"
     ]
    },
    {
     "name": "stderr",
     "output_type": "stream",
     "text": [
      "Training Progress:  25%|████████████▎                                    | 5/20 [40:45<2:11:14, 524.99s/it, loss=0.687]"
     ]
    },
    {
     "name": "stdout",
     "output_type": "stream",
     "text": [
      "7117/7117 [==============================] - 553s 78ms/step - loss: 0.6868 - accuracy: 0.5276 - val_loss: 0.6881 - val_accuracy: 0.5244\n",
      "Epoch 6/20\n",
      "7116/7117 [============================>.] - ETA: 0s - loss: 0.6861 - accuracy: 0.5307"
     ]
    },
    {
     "name": "stderr",
     "output_type": "stream",
     "text": [
      "Training Progress:  30%|██████████████                                 | 6/20 [1:10:25<3:42:07, 951.97s/it, loss=0.686]"
     ]
    },
    {
     "name": "stdout",
     "output_type": "stream",
     "text": [
      "7117/7117 [==============================] - 1781s 250ms/step - loss: 0.6861 - accuracy: 0.5307 - val_loss: 0.6870 - val_accuracy: 0.5306\n",
      "Epoch 7/20\n",
      "7117/7117 [==============================] - ETA: 0s - loss: 0.6862 - accuracy: 0.5285"
     ]
    },
    {
     "name": "stderr",
     "output_type": "stream",
     "text": [
      "Training Progress:  35%|████████████████▍                              | 7/20 [1:19:30<2:57:23, 818.76s/it, loss=0.686]"
     ]
    },
    {
     "name": "stdout",
     "output_type": "stream",
     "text": [
      "7117/7117 [==============================] - 545s 77ms/step - loss: 0.6862 - accuracy: 0.5285 - val_loss: 0.6871 - val_accuracy: 0.5257\n",
      "Epoch 8/20\n",
      "7117/7117 [==============================] - ETA: 0s - loss: 0.6860 - accuracy: 0.5288"
     ]
    },
    {
     "name": "stderr",
     "output_type": "stream",
     "text": [
      "Training Progress:  40%|██████████████████▊                            | 8/20 [1:28:37<2:26:28, 732.38s/it, loss=0.686]"
     ]
    },
    {
     "name": "stdout",
     "output_type": "stream",
     "text": [
      "7117/7117 [==============================] - 547s 77ms/step - loss: 0.6860 - accuracy: 0.5288 - val_loss: 0.6868 - val_accuracy: 0.5285\n",
      "Epoch 9/20\n",
      "7117/7117 [==============================] - ETA: 0s - loss: 0.6859 - accuracy: 0.5284"
     ]
    },
    {
     "name": "stderr",
     "output_type": "stream",
     "text": [
      "Training Progress:  45%|█████████████████████▏                         | 9/20 [1:37:48<2:03:51, 675.61s/it, loss=0.686]"
     ]
    },
    {
     "name": "stdout",
     "output_type": "stream",
     "text": [
      "7117/7117 [==============================] - 551s 77ms/step - loss: 0.6859 - accuracy: 0.5284 - val_loss: 0.6872 - val_accuracy: 0.5283\n",
      "Epoch 10/20\n",
      "7116/7117 [============================>.] - ETA: 0s - loss: 0.6856 - accuracy: 0.5315"
     ]
    },
    {
     "name": "stderr",
     "output_type": "stream",
     "text": [
      "Training Progress:  50%|███████████████████████                       | 10/20 [1:46:42<1:45:18, 631.84s/it, loss=0.686]"
     ]
    },
    {
     "name": "stdout",
     "output_type": "stream",
     "text": [
      "7117/7117 [==============================] - 534s 75ms/step - loss: 0.6856 - accuracy: 0.5316 - val_loss: 0.6869 - val_accuracy: 0.5296\n",
      "Epoch 11/20\n",
      "7117/7117 [==============================] - ETA: 0s - loss: 0.6855 - accuracy: 0.5329"
     ]
    },
    {
     "name": "stderr",
     "output_type": "stream",
     "text": [
      "Training Progress:  55%|█████████████████████████▎                    | 11/20 [1:55:37<1:30:20, 602.28s/it, loss=0.686]"
     ]
    },
    {
     "name": "stdout",
     "output_type": "stream",
     "text": [
      "7117/7117 [==============================] - 535s 75ms/step - loss: 0.6855 - accuracy: 0.5329 - val_loss: 0.6869 - val_accuracy: 0.5297\n",
      "Epoch 12/20\n",
      "7117/7117 [==============================] - ETA: 0s - loss: 0.6848 - accuracy: 0.5364"
     ]
    },
    {
     "name": "stderr",
     "output_type": "stream",
     "text": [
      "Training Progress:  60%|███████████████████████████▌                  | 12/20 [2:04:46<1:18:06, 585.86s/it, loss=0.685]"
     ]
    },
    {
     "name": "stdout",
     "output_type": "stream",
     "text": [
      "7117/7117 [==============================] - 548s 77ms/step - loss: 0.6848 - accuracy: 0.5364 - val_loss: 0.6865 - val_accuracy: 0.5318\n",
      "Epoch 13/20\n",
      "7117/7117 [==============================] - ETA: 0s - loss: 0.6843 - accuracy: 0.5372"
     ]
    },
    {
     "name": "stderr",
     "output_type": "stream",
     "text": [
      "Training Progress:  65%|█████████████████████████████▉                | 13/20 [2:13:36<1:06:22, 568.94s/it, loss=0.684]"
     ]
    },
    {
     "name": "stdout",
     "output_type": "stream",
     "text": [
      "7117/7117 [==============================] - 530s 74ms/step - loss: 0.6843 - accuracy: 0.5372 - val_loss: 0.6864 - val_accuracy: 0.5336\n",
      "Epoch 14/20\n",
      "7117/7117 [==============================] - ETA: 0s - loss: 0.6838 - accuracy: 0.5396"
     ]
    },
    {
     "name": "stderr",
     "output_type": "stream",
     "text": [
      "Training Progress:  70%|█████████████████████████████████▌              | 14/20 [2:22:30<55:51, 558.54s/it, loss=0.684]"
     ]
    },
    {
     "name": "stdout",
     "output_type": "stream",
     "text": [
      "7117/7117 [==============================] - 535s 75ms/step - loss: 0.6838 - accuracy: 0.5396 - val_loss: 0.6859 - val_accuracy: 0.5329\n",
      "Epoch 15/20\n",
      "7117/7117 [==============================] - ETA: 0s - loss: 0.6835 - accuracy: 0.5406"
     ]
    },
    {
     "name": "stderr",
     "output_type": "stream",
     "text": [
      "Training Progress:  75%|████████████████████████████████████            | 15/20 [2:31:32<46:07, 553.52s/it, loss=0.684]"
     ]
    },
    {
     "name": "stdout",
     "output_type": "stream",
     "text": [
      "7117/7117 [==============================] - 542s 76ms/step - loss: 0.6835 - accuracy: 0.5406 - val_loss: 0.6857 - val_accuracy: 0.5333\n",
      "Epoch 16/20\n",
      "7116/7117 [============================>.] - ETA: 0s - loss: 0.6829 - accuracy: 0.5419"
     ]
    },
    {
     "name": "stderr",
     "output_type": "stream",
     "text": [
      "Training Progress:  80%|██████████████████████████████████████▍         | 16/20 [2:40:27<36:32, 548.03s/it, loss=0.683]"
     ]
    },
    {
     "name": "stdout",
     "output_type": "stream",
     "text": [
      "7117/7117 [==============================] - 535s 75ms/step - loss: 0.6829 - accuracy: 0.5419 - val_loss: 0.6854 - val_accuracy: 0.5368\n",
      "Epoch 17/20\n",
      "7117/7117 [==============================] - ETA: 0s - loss: 0.6824 - accuracy: 0.5437"
     ]
    },
    {
     "name": "stderr",
     "output_type": "stream",
     "text": [
      "Training Progress:  85%|████████████████████████████████████████▊       | 17/20 [2:49:10<27:01, 540.52s/it, loss=0.682]"
     ]
    },
    {
     "name": "stdout",
     "output_type": "stream",
     "text": [
      "7117/7117 [==============================] - 523s 73ms/step - loss: 0.6824 - accuracy: 0.5437 - val_loss: 0.6857 - val_accuracy: 0.5374\n",
      "Epoch 18/20\n",
      "7117/7117 [==============================] - ETA: 0s - loss: 0.6816 - accuracy: 0.5454"
     ]
    },
    {
     "name": "stderr",
     "output_type": "stream",
     "text": [
      "Training Progress:  90%|███████████████████████████████████████████▏    | 18/20 [2:58:14<18:03, 541.53s/it, loss=0.682]"
     ]
    },
    {
     "name": "stdout",
     "output_type": "stream",
     "text": [
      "7117/7117 [==============================] - 544s 76ms/step - loss: 0.6816 - accuracy: 0.5454 - val_loss: 0.6857 - val_accuracy: 0.5365\n",
      "Epoch 19/20\n",
      "7116/7117 [============================>.] - ETA: 0s - loss: 0.6814 - accuracy: 0.5471"
     ]
    },
    {
     "name": "stderr",
     "output_type": "stream",
     "text": [
      "Training Progress:  95%|█████████████████████████████████████████████▌  | 19/20 [3:07:23<09:03, 543.66s/it, loss=0.681]"
     ]
    },
    {
     "name": "stdout",
     "output_type": "stream",
     "text": [
      "7117/7117 [==============================] - 549s 77ms/step - loss: 0.6814 - accuracy: 0.5470 - val_loss: 0.6854 - val_accuracy: 0.5364\n",
      "Epoch 20/20\n",
      "7117/7117 [==============================] - ETA: 0s - loss: 0.6808 - accuracy: 0.5478"
     ]
    },
    {
     "name": "stderr",
     "output_type": "stream",
     "text": [
      "Training Progress: 100%|████████████████████████████████████████████████| 20/20 [3:16:13<00:00, 539.52s/it, loss=0.681]"
     ]
    },
    {
     "name": "stdout",
     "output_type": "stream",
     "text": [
      "\b\b\b\b\b\b\b\b\b\b\b\b\b\b\b\b\b\b\b\b\b\b\b\b\b\b\b\b\b\b\b\b\b\b\b\b\b\b\b\b\b\b\b\b\b\b\b\b\b\b\b\b\b\b\b\b\b\b\b\b\b\b\b\b\b\b\b\b\b\b\b\b\b\b\b\b\b\b\b\b\b\b\b\b\b\b\r",
      "7117/7117 [==============================] - 530s 74ms/step - loss: 0.6808 - accuracy: 0.5478 - val_loss: 0.6859 - val_accuracy: 0.5356\n"
     ]
    },
    {
     "name": "stderr",
     "output_type": "stream",
     "text": [
      "Training Progress: 100%|████████████████████████████████████████████████| 20/20 [3:16:13<00:00, 588.66s/it, loss=0.681]\n"
     ]
    },
    {
     "data": {
      "image/png": "[encoded data removed]",
      "text/plain": [
       "<Figure size 640x480 with 1 Axes>"
      ]
     },
     "metadata": {},
     "output_type": "display_data"
    },
    {
     "name": "stdout",
     "output_type": "stream",
     "text": [
      "Test Loss: 0.6859, Test Accuracy: 0.5356\n"
     ]
    }
   ],
   "source": [
    "from sklearn.model_selection import train_test_split\n",
    "from sklearn.preprocessing import StandardScaler\n",
    "from tensorflow.keras.models import Sequential\n",
    "from tensorflow.keras.layers import LSTM, Dense, Dropout\n",
    "from tensorflow.keras.callbacks import Callback\n",
    "import matplotlib.pyplot as plt\n",
    "from tqdm import tqdm\n",
    "import numpy as np\n",
    "import pandas as pd\n",
    "\n",
    "# 데이터 로드\n",
    "df_merged = pd.read_csv('final_data.csv')\n",
    "\n",
    "# 데이터 준비\n",
    "df = df_merged.copy()\n",
    "\n",
    "# Feature와 Target 분리\n",
    "X = df.drop(columns=['trade_price_10min_later']).values\n",
    "y = df['trade_price_10min_later'].values\n",
    "\n",
    "# 데이터 스케일링\n",
    "scaler = StandardScaler()\n",
    "X_scaled = scaler.fit_transform(X)\n",
    "\n",
    "# 시계열 데이터 형식으로 변환 (샘플 간 공유 없음)\n",
    "timesteps = 30\n",
    "X_sequences, y_sequences = [], []\n",
    "\n",
    "# i를 timesteps 크기만큼 건너뛰며 샘플 생성\n",
    "for i in range(0, len(X_scaled) - timesteps, timesteps):\n",
    "    X_sequences.append(X_scaled[i:i+timesteps])\n",
    "    y_sequences.append(y[i+timesteps])\n",
    "\n",
    "X_sequences = np.array(X_sequences, dtype=np.float32)\n",
    "y_sequences = np.array(y_sequences)\n",
    "\n",
    "# Train, Test 분할 (80% Train, 20% Test)\n",
    "X_train, X_test, y_train, y_test = train_test_split(X_sequences, y_sequences, test_size=0.2, random_state=1, shuffle=True)\n",
    "\n",
    "# 분할 비율 출력\n",
    "print(f\"Train set: {X_train.shape}, Test set: {X_test.shape}\")\n",
    "\n",
    "# LSTM 모델 구성\n",
    "model = Sequential([\n",
    "    LSTM(128, input_shape=(X_train.shape[1], X_train.shape[2]), return_sequences=True),\n",
    "    Dropout(0.2),\n",
    "    LSTM(64, return_sequences=False),\n",
    "    Dropout(0.2),\n",
    "    Dense(32, activation='relu'),\n",
    "    Dense(1, activation='sigmoid')\n",
    "])\n",
    "\n",
    "# 모델 컴파일\n",
    "model.compile(optimizer='adam', loss='binary_crossentropy', metrics=['accuracy'])\n",
    "\n",
    "# 학습 진행을 표시하기 위한 Callback 설정\n",
    "class TQDMProgressBar(Callback):\n",
    "    def on_train_begin(self, logs=None):\n",
    "        self.epochs = self.params['epochs']\n",
    "        self.tqdm = tqdm(total=self.epochs, desc='Training Progress')\n",
    "\n",
    "    def on_epoch_end(self, epoch, logs=None):\n",
    "        self.tqdm.update(1)\n",
    "        self.tqdm.set_postfix(loss=logs['loss'])\n",
    "\n",
    "    def on_train_end(self, logs=None):\n",
    "        self.tqdm.close()\n",
    "\n",
    "# 학습 과정 시각화 및 히스토리 저장\n",
    "tqdm_callback = TQDMProgressBar()\n",
    "history = model.fit(X_train, y_train, \n",
    "                    validation_data=(X_test, y_test),\n",
    "                    epochs=20, \n",
    "                    batch_size=32, \n",
    "                    callbacks=[tqdm_callback])\n",
    "\n",
    "# Epoch-Loss 그래프 시각화\n",
    "plt.plot(history.history['loss'], label='Training Loss')\n",
    "plt.plot(history.history['val_loss'], label='Test Loss')\n",
    "plt.title('Epoch-Loss Graph')\n",
    "plt.xlabel('Epochs')\n",
    "plt.ylabel('Loss')\n",
    "plt.legend()\n",
    "plt.show()\n",
    "\n",
    "# 최종 평가 (Test Set)\n",
    "test_loss, test_accuracy = model.evaluate(X_test, y_test, verbose=0)\n",
    "print(f\"Test Loss: {test_loss:.4f}, Test Accuracy: {test_accuracy:.4f}\")"
   ]
  },
  {
   "cell_type": "code",
   "execution_count": null,
   "id": "66ab8ce6",
   "metadata": {},
   "outputs": [],
   "source": []
  },
  {
   "cell_type": "markdown",
   "id": "cbdc4698",
   "metadata": {},
   "source": [
    "## Seq30, batch4, epoch10"
   ]
  },
  {
   "cell_type": "code",
   "execution_count": 6,
   "id": "887cb74d",
   "metadata": {
    "scrolled": true
   },
   "outputs": [
    {
     "name": "stdout",
     "output_type": "stream",
     "text": [
      "Train set: (227716, 30, 17), Test set: (56929, 30, 17)\n"
     ]
    },
    {
     "name": "stderr",
     "output_type": "stream",
     "text": [
      "\r",
      "Training Progress:   0%|                                                                        | 0/10 [00:00<?, ?it/s]"
     ]
    },
    {
     "name": "stdout",
     "output_type": "stream",
     "text": [
      "Epoch 1/10\n",
      "56928/56929 [============================>.] - ETA: 0s - loss: 0.6909 - accuracy: 0.5049"
     ]
    },
    {
     "name": "stderr",
     "output_type": "stream",
     "text": [
      "Training Progress:  10%|████▌                                        | 1/10 [2:38:05<23:42:53, 9485.98s/it, loss=0.691]"
     ]
    },
    {
     "name": "stdout",
     "output_type": "stream",
     "text": [
      "56929/56929 [==============================] - 9486s 167ms/step - loss: 0.6909 - accuracy: 0.5049 - val_loss: 0.6894 - val_accuracy: 0.5035\n",
      "Epoch 2/10\n",
      "56929/56929 [==============================] - ETA: 0s - loss: 0.6892 - accuracy: 0.5023"
     ]
    },
    {
     "name": "stderr",
     "output_type": "stream",
     "text": [
      "Training Progress:  20%|█████████                                    | 2/10 [3:26:20<12:27:50, 5608.81s/it, loss=0.689]"
     ]
    },
    {
     "name": "stdout",
     "output_type": "stream",
     "text": [
      "56929/56929 [==============================] - 2895s 51ms/step - loss: 0.6892 - accuracy: 0.5023 - val_loss: 0.6893 - val_accuracy: 0.5036\n",
      "Epoch 3/10\n",
      "56928/56929 [============================>.] - ETA: 0s - loss: 0.6894 - accuracy: 0.5047"
     ]
    },
    {
     "name": "stderr",
     "output_type": "stream",
     "text": [
      "Training Progress:  30%|█████████████▊                                | 3/10 [4:14:41<8:30:05, 4372.23s/it, loss=0.689]"
     ]
    },
    {
     "name": "stdout",
     "output_type": "stream",
     "text": [
      "56929/56929 [==============================] - 2901s 51ms/step - loss: 0.6894 - accuracy: 0.5047 - val_loss: 0.6892 - val_accuracy: 0.5036\n",
      "Epoch 4/10\n",
      "56929/56929 [==============================] - ETA: 0s - loss: 0.6892 - accuracy: 0.5028"
     ]
    },
    {
     "name": "stderr",
     "output_type": "stream",
     "text": [
      "Training Progress:  40%|██████████████████▍                           | 4/10 [6:06:31<8:49:30, 5295.03s/it, loss=0.689]"
     ]
    },
    {
     "name": "stdout",
     "output_type": "stream",
     "text": [
      "56929/56929 [==============================] - 6710s 118ms/step - loss: 0.6892 - accuracy: 0.5028 - val_loss: 0.6895 - val_accuracy: 0.5029\n",
      "Epoch 5/10\n",
      "56929/56929 [==============================] - ETA: 0s - loss: 0.6890 - accuracy: 0.5034"
     ]
    },
    {
     "name": "stderr",
     "output_type": "stream",
     "text": [
      "Training Progress:  50%|███████████████████████                       | 5/10 [6:30:04<5:24:35, 3895.19s/it, loss=0.689]"
     ]
    },
    {
     "name": "stdout",
     "output_type": "stream",
     "text": [
      "56929/56929 [==============================] - 1413s 25ms/step - loss: 0.6890 - accuracy: 0.5034 - val_loss: 0.6891 - val_accuracy: 0.5039\n",
      "Epoch 6/10\n",
      "56929/56929 [==============================] - ETA: 0s - loss: 0.6890 - accuracy: 0.5042"
     ]
    },
    {
     "name": "stderr",
     "output_type": "stream",
     "text": [
      "Training Progress:  60%|███████████████████████████▌                  | 6/10 [7:11:31<3:47:45, 3416.49s/it, loss=0.689]"
     ]
    },
    {
     "name": "stdout",
     "output_type": "stream",
     "text": [
      "56929/56929 [==============================] - 2487s 44ms/step - loss: 0.6890 - accuracy: 0.5042 - val_loss: 0.6892 - val_accuracy: 0.5033\n",
      "Epoch 7/10\n",
      "43963/56929 [======================>.......] - ETA: 9:11 - loss: 0.6892 - accuracy: 0.5076"
     ]
    },
    {
     "ename": "KeyboardInterrupt",
     "evalue": "",
     "output_type": "error",
     "traceback": [
      "\u001b[1;31m---------------------------------------------------------------------------\u001b[0m",
      "\u001b[1;31mKeyboardInterrupt\u001b[0m                         Traceback (most recent call last)",
      "Cell \u001b[1;32mIn[6], line 71\u001b[0m\n\u001b[0;32m     69\u001b[0m \u001b[38;5;66;03m# 학습 과정 시각화 및 히스토리 저장\u001b[39;00m\n\u001b[0;32m     70\u001b[0m tqdm_callback \u001b[38;5;241m=\u001b[39m TQDMProgressBar()\n\u001b[1;32m---> 71\u001b[0m history \u001b[38;5;241m=\u001b[39m \u001b[43mmodel\u001b[49m\u001b[38;5;241;43m.\u001b[39;49m\u001b[43mfit\u001b[49m\u001b[43m(\u001b[49m\u001b[43mX_train\u001b[49m\u001b[43m,\u001b[49m\u001b[43m \u001b[49m\u001b[43my_train\u001b[49m\u001b[43m,\u001b[49m\u001b[43m \u001b[49m\n\u001b[0;32m     72\u001b[0m \u001b[43m                    \u001b[49m\u001b[43mvalidation_data\u001b[49m\u001b[38;5;241;43m=\u001b[39;49m\u001b[43m(\u001b[49m\u001b[43mX_test\u001b[49m\u001b[43m,\u001b[49m\u001b[43m \u001b[49m\u001b[43my_test\u001b[49m\u001b[43m)\u001b[49m\u001b[43m,\u001b[49m\n\u001b[0;32m     73\u001b[0m \u001b[43m                    \u001b[49m\u001b[43mepochs\u001b[49m\u001b[38;5;241;43m=\u001b[39;49m\u001b[38;5;241;43m10\u001b[39;49m\u001b[43m,\u001b[49m\u001b[43m \u001b[49m\n\u001b[0;32m     74\u001b[0m \u001b[43m                    \u001b[49m\u001b[43mbatch_size\u001b[49m\u001b[38;5;241;43m=\u001b[39;49m\u001b[38;5;241;43m4\u001b[39;49m\u001b[43m,\u001b[49m\u001b[43m \u001b[49m\n\u001b[0;32m     75\u001b[0m \u001b[43m                    \u001b[49m\u001b[43mcallbacks\u001b[49m\u001b[38;5;241;43m=\u001b[39;49m\u001b[43m[\u001b[49m\u001b[43mtqdm_callback\u001b[49m\u001b[43m]\u001b[49m\u001b[43m)\u001b[49m\n\u001b[0;32m     77\u001b[0m \u001b[38;5;66;03m# Epoch-Loss 그래프 시각화\u001b[39;00m\n\u001b[0;32m     78\u001b[0m plt\u001b[38;5;241m.\u001b[39mplot(history\u001b[38;5;241m.\u001b[39mhistory[\u001b[38;5;124m'\u001b[39m\u001b[38;5;124mloss\u001b[39m\u001b[38;5;124m'\u001b[39m], label\u001b[38;5;241m=\u001b[39m\u001b[38;5;124m'\u001b[39m\u001b[38;5;124mTraining Loss\u001b[39m\u001b[38;5;124m'\u001b[39m)\n",
      "File \u001b[1;32m~\\miniconda3\\lib\\site-packages\\keras\\utils\\traceback_utils.py:65\u001b[0m, in \u001b[0;36mfilter_traceback.<locals>.error_handler\u001b[1;34m(*args, **kwargs)\u001b[0m\n\u001b[0;32m     63\u001b[0m filtered_tb \u001b[38;5;241m=\u001b[39m \u001b[38;5;28;01mNone\u001b[39;00m\n\u001b[0;32m     64\u001b[0m \u001b[38;5;28;01mtry\u001b[39;00m:\n\u001b[1;32m---> 65\u001b[0m     \u001b[38;5;28;01mreturn\u001b[39;00m fn(\u001b[38;5;241m*\u001b[39margs, \u001b[38;5;241m*\u001b[39m\u001b[38;5;241m*\u001b[39mkwargs)\n\u001b[0;32m     66\u001b[0m \u001b[38;5;28;01mexcept\u001b[39;00m \u001b[38;5;167;01mException\u001b[39;00m \u001b[38;5;28;01mas\u001b[39;00m e:\n\u001b[0;32m     67\u001b[0m     filtered_tb \u001b[38;5;241m=\u001b[39m _process_traceback_frames(e\u001b[38;5;241m.\u001b[39m__traceback__)\n",
      "File \u001b[1;32m~\\miniconda3\\lib\\site-packages\\keras\\engine\\training.py:1691\u001b[0m, in \u001b[0;36mModel.fit\u001b[1;34m(self, x, y, batch_size, epochs, verbose, callbacks, validation_split, validation_data, shuffle, class_weight, sample_weight, initial_epoch, steps_per_epoch, validation_steps, validation_batch_size, validation_freq, max_queue_size, workers, use_multiprocessing)\u001b[0m\n\u001b[0;32m   1689\u001b[0m logs \u001b[38;5;241m=\u001b[39m tmp_logs\n\u001b[0;32m   1690\u001b[0m end_step \u001b[38;5;241m=\u001b[39m step \u001b[38;5;241m+\u001b[39m data_handler\u001b[38;5;241m.\u001b[39mstep_increment\n\u001b[1;32m-> 1691\u001b[0m \u001b[43mcallbacks\u001b[49m\u001b[38;5;241;43m.\u001b[39;49m\u001b[43mon_train_batch_end\u001b[49m\u001b[43m(\u001b[49m\u001b[43mend_step\u001b[49m\u001b[43m,\u001b[49m\u001b[43m \u001b[49m\u001b[43mlogs\u001b[49m\u001b[43m)\u001b[49m\n\u001b[0;32m   1692\u001b[0m \u001b[38;5;28;01mif\u001b[39;00m \u001b[38;5;28mself\u001b[39m\u001b[38;5;241m.\u001b[39mstop_training:\n\u001b[0;32m   1693\u001b[0m     \u001b[38;5;28;01mbreak\u001b[39;00m\n",
      "File \u001b[1;32m~\\miniconda3\\lib\\site-packages\\keras\\callbacks.py:475\u001b[0m, in \u001b[0;36mCallbackList.on_train_batch_end\u001b[1;34m(self, batch, logs)\u001b[0m\n\u001b[0;32m    468\u001b[0m \u001b[38;5;250m\u001b[39m\u001b[38;5;124;03m\"\"\"Calls the `on_train_batch_end` methods of its callbacks.\u001b[39;00m\n\u001b[0;32m    469\u001b[0m \n\u001b[0;32m    470\u001b[0m \u001b[38;5;124;03mArgs:\u001b[39;00m\n\u001b[0;32m    471\u001b[0m \u001b[38;5;124;03m    batch: Integer, index of batch within the current epoch.\u001b[39;00m\n\u001b[0;32m    472\u001b[0m \u001b[38;5;124;03m    logs: Dict. Aggregated metric results up until this batch.\u001b[39;00m\n\u001b[0;32m    473\u001b[0m \u001b[38;5;124;03m\"\"\"\u001b[39;00m\n\u001b[0;32m    474\u001b[0m \u001b[38;5;28;01mif\u001b[39;00m \u001b[38;5;28mself\u001b[39m\u001b[38;5;241m.\u001b[39m_should_call_train_batch_hooks:\n\u001b[1;32m--> 475\u001b[0m     \u001b[38;5;28;43mself\u001b[39;49m\u001b[38;5;241;43m.\u001b[39;49m\u001b[43m_call_batch_hook\u001b[49m\u001b[43m(\u001b[49m\u001b[43mModeKeys\u001b[49m\u001b[38;5;241;43m.\u001b[39;49m\u001b[43mTRAIN\u001b[49m\u001b[43m,\u001b[49m\u001b[43m \u001b[49m\u001b[38;5;124;43m\"\u001b[39;49m\u001b[38;5;124;43mend\u001b[39;49m\u001b[38;5;124;43m\"\u001b[39;49m\u001b[43m,\u001b[49m\u001b[43m \u001b[49m\u001b[43mbatch\u001b[49m\u001b[43m,\u001b[49m\u001b[43m \u001b[49m\u001b[43mlogs\u001b[49m\u001b[38;5;241;43m=\u001b[39;49m\u001b[43mlogs\u001b[49m\u001b[43m)\u001b[49m\n",
      "File \u001b[1;32m~\\miniconda3\\lib\\site-packages\\keras\\callbacks.py:322\u001b[0m, in \u001b[0;36mCallbackList._call_batch_hook\u001b[1;34m(self, mode, hook, batch, logs)\u001b[0m\n\u001b[0;32m    320\u001b[0m     \u001b[38;5;28mself\u001b[39m\u001b[38;5;241m.\u001b[39m_call_batch_begin_hook(mode, batch, logs)\n\u001b[0;32m    321\u001b[0m \u001b[38;5;28;01melif\u001b[39;00m hook \u001b[38;5;241m==\u001b[39m \u001b[38;5;124m\"\u001b[39m\u001b[38;5;124mend\u001b[39m\u001b[38;5;124m\"\u001b[39m:\n\u001b[1;32m--> 322\u001b[0m     \u001b[38;5;28;43mself\u001b[39;49m\u001b[38;5;241;43m.\u001b[39;49m\u001b[43m_call_batch_end_hook\u001b[49m\u001b[43m(\u001b[49m\u001b[43mmode\u001b[49m\u001b[43m,\u001b[49m\u001b[43m \u001b[49m\u001b[43mbatch\u001b[49m\u001b[43m,\u001b[49m\u001b[43m \u001b[49m\u001b[43mlogs\u001b[49m\u001b[43m)\u001b[49m\n\u001b[0;32m    323\u001b[0m \u001b[38;5;28;01melse\u001b[39;00m:\n\u001b[0;32m    324\u001b[0m     \u001b[38;5;28;01mraise\u001b[39;00m \u001b[38;5;167;01mValueError\u001b[39;00m(\n\u001b[0;32m    325\u001b[0m         \u001b[38;5;124mf\u001b[39m\u001b[38;5;124m\"\u001b[39m\u001b[38;5;124mUnrecognized hook: \u001b[39m\u001b[38;5;132;01m{\u001b[39;00mhook\u001b[38;5;132;01m}\u001b[39;00m\u001b[38;5;124m. \u001b[39m\u001b[38;5;124m\"\u001b[39m\n\u001b[0;32m    326\u001b[0m         \u001b[38;5;124m'\u001b[39m\u001b[38;5;124mExpected values are [\u001b[39m\u001b[38;5;124m\"\u001b[39m\u001b[38;5;124mbegin\u001b[39m\u001b[38;5;124m\"\u001b[39m\u001b[38;5;124m, \u001b[39m\u001b[38;5;124m\"\u001b[39m\u001b[38;5;124mend\u001b[39m\u001b[38;5;124m\"\u001b[39m\u001b[38;5;124m]\u001b[39m\u001b[38;5;124m'\u001b[39m\n\u001b[0;32m    327\u001b[0m     )\n",
      "File \u001b[1;32m~\\miniconda3\\lib\\site-packages\\keras\\callbacks.py:345\u001b[0m, in \u001b[0;36mCallbackList._call_batch_end_hook\u001b[1;34m(self, mode, batch, logs)\u001b[0m\n\u001b[0;32m    342\u001b[0m     batch_time \u001b[38;5;241m=\u001b[39m time\u001b[38;5;241m.\u001b[39mtime() \u001b[38;5;241m-\u001b[39m \u001b[38;5;28mself\u001b[39m\u001b[38;5;241m.\u001b[39m_batch_start_time\n\u001b[0;32m    343\u001b[0m     \u001b[38;5;28mself\u001b[39m\u001b[38;5;241m.\u001b[39m_batch_times\u001b[38;5;241m.\u001b[39mappend(batch_time)\n\u001b[1;32m--> 345\u001b[0m \u001b[38;5;28;43mself\u001b[39;49m\u001b[38;5;241;43m.\u001b[39;49m\u001b[43m_call_batch_hook_helper\u001b[49m\u001b[43m(\u001b[49m\u001b[43mhook_name\u001b[49m\u001b[43m,\u001b[49m\u001b[43m \u001b[49m\u001b[43mbatch\u001b[49m\u001b[43m,\u001b[49m\u001b[43m \u001b[49m\u001b[43mlogs\u001b[49m\u001b[43m)\u001b[49m\n\u001b[0;32m    347\u001b[0m \u001b[38;5;28;01mif\u001b[39;00m \u001b[38;5;28mlen\u001b[39m(\u001b[38;5;28mself\u001b[39m\u001b[38;5;241m.\u001b[39m_batch_times) \u001b[38;5;241m>\u001b[39m\u001b[38;5;241m=\u001b[39m \u001b[38;5;28mself\u001b[39m\u001b[38;5;241m.\u001b[39m_num_batches_for_timing_check:\n\u001b[0;32m    348\u001b[0m     end_hook_name \u001b[38;5;241m=\u001b[39m hook_name\n",
      "File \u001b[1;32m~\\miniconda3\\lib\\site-packages\\keras\\callbacks.py:393\u001b[0m, in \u001b[0;36mCallbackList._call_batch_hook_helper\u001b[1;34m(self, hook_name, batch, logs)\u001b[0m\n\u001b[0;32m    391\u001b[0m \u001b[38;5;28;01mfor\u001b[39;00m callback \u001b[38;5;129;01min\u001b[39;00m \u001b[38;5;28mself\u001b[39m\u001b[38;5;241m.\u001b[39mcallbacks:\n\u001b[0;32m    392\u001b[0m     hook \u001b[38;5;241m=\u001b[39m \u001b[38;5;28mgetattr\u001b[39m(callback, hook_name)\n\u001b[1;32m--> 393\u001b[0m     \u001b[43mhook\u001b[49m\u001b[43m(\u001b[49m\u001b[43mbatch\u001b[49m\u001b[43m,\u001b[49m\u001b[43m \u001b[49m\u001b[43mlogs\u001b[49m\u001b[43m)\u001b[49m\n\u001b[0;32m    395\u001b[0m \u001b[38;5;28;01mif\u001b[39;00m \u001b[38;5;28mself\u001b[39m\u001b[38;5;241m.\u001b[39m_check_timing:\n\u001b[0;32m    396\u001b[0m     \u001b[38;5;28;01mif\u001b[39;00m hook_name \u001b[38;5;129;01mnot\u001b[39;00m \u001b[38;5;129;01min\u001b[39;00m \u001b[38;5;28mself\u001b[39m\u001b[38;5;241m.\u001b[39m_hook_times:\n",
      "File \u001b[1;32m~\\miniconda3\\lib\\site-packages\\keras\\callbacks.py:1093\u001b[0m, in \u001b[0;36mProgbarLogger.on_train_batch_end\u001b[1;34m(self, batch, logs)\u001b[0m\n\u001b[0;32m   1092\u001b[0m \u001b[38;5;28;01mdef\u001b[39;00m \u001b[38;5;21mon_train_batch_end\u001b[39m(\u001b[38;5;28mself\u001b[39m, batch, logs\u001b[38;5;241m=\u001b[39m\u001b[38;5;28;01mNone\u001b[39;00m):\n\u001b[1;32m-> 1093\u001b[0m     \u001b[38;5;28;43mself\u001b[39;49m\u001b[38;5;241;43m.\u001b[39;49m\u001b[43m_batch_update_progbar\u001b[49m\u001b[43m(\u001b[49m\u001b[43mbatch\u001b[49m\u001b[43m,\u001b[49m\u001b[43m \u001b[49m\u001b[43mlogs\u001b[49m\u001b[43m)\u001b[49m\n",
      "File \u001b[1;32m~\\miniconda3\\lib\\site-packages\\keras\\callbacks.py:1170\u001b[0m, in \u001b[0;36mProgbarLogger._batch_update_progbar\u001b[1;34m(self, batch, logs)\u001b[0m\n\u001b[0;32m   1167\u001b[0m \u001b[38;5;28;01mif\u001b[39;00m \u001b[38;5;28mself\u001b[39m\u001b[38;5;241m.\u001b[39mverbose \u001b[38;5;241m==\u001b[39m \u001b[38;5;241m1\u001b[39m:\n\u001b[0;32m   1168\u001b[0m     \u001b[38;5;66;03m# Only block async when verbose = 1.\u001b[39;00m\n\u001b[0;32m   1169\u001b[0m     logs \u001b[38;5;241m=\u001b[39m tf_utils\u001b[38;5;241m.\u001b[39msync_to_numpy_or_python_type(logs)\n\u001b[1;32m-> 1170\u001b[0m     \u001b[38;5;28;43mself\u001b[39;49m\u001b[38;5;241;43m.\u001b[39;49m\u001b[43mprogbar\u001b[49m\u001b[38;5;241;43m.\u001b[39;49m\u001b[43mupdate\u001b[49m\u001b[43m(\u001b[49m\u001b[38;5;28;43mself\u001b[39;49m\u001b[38;5;241;43m.\u001b[39;49m\u001b[43mseen\u001b[49m\u001b[43m,\u001b[49m\u001b[43m \u001b[49m\u001b[38;5;28;43mlist\u001b[39;49m\u001b[43m(\u001b[49m\u001b[43mlogs\u001b[49m\u001b[38;5;241;43m.\u001b[39;49m\u001b[43mitems\u001b[49m\u001b[43m(\u001b[49m\u001b[43m)\u001b[49m\u001b[43m)\u001b[49m\u001b[43m,\u001b[49m\u001b[43m \u001b[49m\u001b[43mfinalize\u001b[49m\u001b[38;5;241;43m=\u001b[39;49m\u001b[38;5;28;43;01mFalse\u001b[39;49;00m\u001b[43m)\u001b[49m\n",
      "File \u001b[1;32m~\\miniconda3\\lib\\site-packages\\keras\\utils\\generic_utils.py:296\u001b[0m, in \u001b[0;36mProgbar.update\u001b[1;34m(self, current, values, finalize)\u001b[0m\n\u001b[0;32m    293\u001b[0m         info \u001b[38;5;241m+\u001b[39m\u001b[38;5;241m=\u001b[39m \u001b[38;5;124m\"\u001b[39m\u001b[38;5;130;01m\\n\u001b[39;00m\u001b[38;5;124m\"\u001b[39m\n\u001b[0;32m    295\u001b[0m     message \u001b[38;5;241m+\u001b[39m\u001b[38;5;241m=\u001b[39m info\n\u001b[1;32m--> 296\u001b[0m     \u001b[43mio_utils\u001b[49m\u001b[38;5;241;43m.\u001b[39;49m\u001b[43mprint_msg\u001b[49m\u001b[43m(\u001b[49m\u001b[43mmessage\u001b[49m\u001b[43m,\u001b[49m\u001b[43m \u001b[49m\u001b[43mline_break\u001b[49m\u001b[38;5;241;43m=\u001b[39;49m\u001b[38;5;28;43;01mFalse\u001b[39;49;00m\u001b[43m)\u001b[49m\n\u001b[0;32m    297\u001b[0m     message \u001b[38;5;241m=\u001b[39m \u001b[38;5;124m\"\u001b[39m\u001b[38;5;124m\"\u001b[39m\n\u001b[0;32m    299\u001b[0m \u001b[38;5;28;01melif\u001b[39;00m \u001b[38;5;28mself\u001b[39m\u001b[38;5;241m.\u001b[39mverbose \u001b[38;5;241m==\u001b[39m \u001b[38;5;241m2\u001b[39m:\n",
      "File \u001b[1;32m~\\miniconda3\\lib\\site-packages\\keras\\utils\\io_utils.py:79\u001b[0m, in \u001b[0;36mprint_msg\u001b[1;34m(message, line_break)\u001b[0m\n\u001b[0;32m     77\u001b[0m         sys\u001b[38;5;241m.\u001b[39mstdout\u001b[38;5;241m.\u001b[39mwrite(message \u001b[38;5;241m+\u001b[39m \u001b[38;5;124m\"\u001b[39m\u001b[38;5;130;01m\\n\u001b[39;00m\u001b[38;5;124m\"\u001b[39m)\n\u001b[0;32m     78\u001b[0m     \u001b[38;5;28;01melse\u001b[39;00m:\n\u001b[1;32m---> 79\u001b[0m         \u001b[43msys\u001b[49m\u001b[38;5;241;43m.\u001b[39;49m\u001b[43mstdout\u001b[49m\u001b[38;5;241;43m.\u001b[39;49m\u001b[43mwrite\u001b[49m\u001b[43m(\u001b[49m\u001b[43mmessage\u001b[49m\u001b[43m)\u001b[49m\n\u001b[0;32m     80\u001b[0m     sys\u001b[38;5;241m.\u001b[39mstdout\u001b[38;5;241m.\u001b[39mflush()\n\u001b[0;32m     81\u001b[0m \u001b[38;5;28;01melse\u001b[39;00m:\n",
      "File \u001b[1;32m~\\miniconda3\\lib\\site-packages\\ipykernel\\iostream.py:573\u001b[0m, in \u001b[0;36mOutStream.write\u001b[1;34m(self, string)\u001b[0m\n\u001b[0;32m    571\u001b[0m         \u001b[38;5;28mself\u001b[39m\u001b[38;5;241m.\u001b[39mpub_thread\u001b[38;5;241m.\u001b[39mschedule(\u001b[38;5;28mself\u001b[39m\u001b[38;5;241m.\u001b[39m_flush)\n\u001b[0;32m    572\u001b[0m     \u001b[38;5;28;01melse\u001b[39;00m:\n\u001b[1;32m--> 573\u001b[0m         \u001b[38;5;28;43mself\u001b[39;49m\u001b[38;5;241;43m.\u001b[39;49m\u001b[43m_schedule_flush\u001b[49m\u001b[43m(\u001b[49m\u001b[43m)\u001b[49m\n\u001b[0;32m    575\u001b[0m \u001b[38;5;28;01mreturn\u001b[39;00m \u001b[38;5;28mlen\u001b[39m(string)\n",
      "File \u001b[1;32m~\\miniconda3\\lib\\site-packages\\ipykernel\\iostream.py:478\u001b[0m, in \u001b[0;36mOutStream._schedule_flush\u001b[1;34m(self)\u001b[0m\n\u001b[0;32m    475\u001b[0m \u001b[38;5;28;01mdef\u001b[39;00m \u001b[38;5;21m_schedule_in_thread\u001b[39m():\n\u001b[0;32m    476\u001b[0m     \u001b[38;5;28mself\u001b[39m\u001b[38;5;241m.\u001b[39m_io_loop\u001b[38;5;241m.\u001b[39mcall_later(\u001b[38;5;28mself\u001b[39m\u001b[38;5;241m.\u001b[39mflush_interval, \u001b[38;5;28mself\u001b[39m\u001b[38;5;241m.\u001b[39m_flush)\n\u001b[1;32m--> 478\u001b[0m \u001b[38;5;28;43mself\u001b[39;49m\u001b[38;5;241;43m.\u001b[39;49m\u001b[43mpub_thread\u001b[49m\u001b[38;5;241;43m.\u001b[39;49m\u001b[43mschedule\u001b[49m\u001b[43m(\u001b[49m\u001b[43m_schedule_in_thread\u001b[49m\u001b[43m)\u001b[49m\n",
      "File \u001b[1;32m~\\miniconda3\\lib\\site-packages\\ipykernel\\iostream.py:211\u001b[0m, in \u001b[0;36mIOPubThread.schedule\u001b[1;34m(self, f)\u001b[0m\n\u001b[0;32m    209\u001b[0m     \u001b[38;5;28mself\u001b[39m\u001b[38;5;241m.\u001b[39m_events\u001b[38;5;241m.\u001b[39mappend(f)\n\u001b[0;32m    210\u001b[0m     \u001b[38;5;66;03m# wake event thread (message content is ignored)\u001b[39;00m\n\u001b[1;32m--> 211\u001b[0m     \u001b[38;5;28;43mself\u001b[39;49m\u001b[38;5;241;43m.\u001b[39;49m\u001b[43m_event_pipe\u001b[49m\u001b[38;5;241;43m.\u001b[39;49m\u001b[43msend\u001b[49m\u001b[43m(\u001b[49m\u001b[38;5;124;43mb\u001b[39;49m\u001b[38;5;124;43m\"\u001b[39;49m\u001b[38;5;124;43m\"\u001b[39;49m\u001b[43m)\u001b[49m\n\u001b[0;32m    212\u001b[0m \u001b[38;5;28;01melse\u001b[39;00m:\n\u001b[0;32m    213\u001b[0m     f()\n",
      "File \u001b[1;32m~\\miniconda3\\lib\\site-packages\\zmq\\sugar\\socket.py:688\u001b[0m, in \u001b[0;36mSocket.send\u001b[1;34m(self, data, flags, copy, track, routing_id, group)\u001b[0m\n\u001b[0;32m    681\u001b[0m         data \u001b[38;5;241m=\u001b[39m zmq\u001b[38;5;241m.\u001b[39mFrame(\n\u001b[0;32m    682\u001b[0m             data,\n\u001b[0;32m    683\u001b[0m             track\u001b[38;5;241m=\u001b[39mtrack,\n\u001b[0;32m    684\u001b[0m             copy\u001b[38;5;241m=\u001b[39mcopy \u001b[38;5;129;01mor\u001b[39;00m \u001b[38;5;28;01mNone\u001b[39;00m,\n\u001b[0;32m    685\u001b[0m             copy_threshold\u001b[38;5;241m=\u001b[39m\u001b[38;5;28mself\u001b[39m\u001b[38;5;241m.\u001b[39mcopy_threshold,\n\u001b[0;32m    686\u001b[0m         )\n\u001b[0;32m    687\u001b[0m     data\u001b[38;5;241m.\u001b[39mgroup \u001b[38;5;241m=\u001b[39m group\n\u001b[1;32m--> 688\u001b[0m \u001b[38;5;28;01mreturn\u001b[39;00m \u001b[38;5;28;43msuper\u001b[39;49m\u001b[43m(\u001b[49m\u001b[43m)\u001b[49m\u001b[38;5;241;43m.\u001b[39;49m\u001b[43msend\u001b[49m\u001b[43m(\u001b[49m\u001b[43mdata\u001b[49m\u001b[43m,\u001b[49m\u001b[43m \u001b[49m\u001b[43mflags\u001b[49m\u001b[38;5;241;43m=\u001b[39;49m\u001b[43mflags\u001b[49m\u001b[43m,\u001b[49m\u001b[43m \u001b[49m\u001b[43mcopy\u001b[49m\u001b[38;5;241;43m=\u001b[39;49m\u001b[43mcopy\u001b[49m\u001b[43m,\u001b[49m\u001b[43m \u001b[49m\u001b[43mtrack\u001b[49m\u001b[38;5;241;43m=\u001b[39;49m\u001b[43mtrack\u001b[49m\u001b[43m)\u001b[49m\n",
      "File \u001b[1;32mzmq\\backend\\cython\\socket.pyx:742\u001b[0m, in \u001b[0;36mzmq.backend.cython.socket.Socket.send\u001b[1;34m()\u001b[0m\n",
      "File \u001b[1;32mzmq\\backend\\cython\\socket.pyx:789\u001b[0m, in \u001b[0;36mzmq.backend.cython.socket.Socket.send\u001b[1;34m()\u001b[0m\n",
      "File \u001b[1;32mzmq\\backend\\cython\\socket.pyx:250\u001b[0m, in \u001b[0;36mzmq.backend.cython.socket._send_copy\u001b[1;34m()\u001b[0m\n",
      "File \u001b[1;32m~\\miniconda3\\lib\\site-packages\\zmq\\backend\\cython\\checkrc.pxd:13\u001b[0m, in \u001b[0;36mzmq.backend.cython.checkrc._check_rc\u001b[1;34m()\u001b[0m\n",
      "\u001b[1;31mKeyboardInterrupt\u001b[0m: "
     ]
    }
   ],
   "source": [
    "from sklearn.model_selection import train_test_split\n",
    "from sklearn.preprocessing import StandardScaler\n",
    "from tensorflow.keras.models import Sequential\n",
    "from tensorflow.keras.layers import LSTM, Dense, Dropout\n",
    "from tensorflow.keras.callbacks import Callback\n",
    "import matplotlib.pyplot as plt\n",
    "from tqdm import tqdm\n",
    "import numpy as np\n",
    "import pandas as pd\n",
    "\n",
    "# 데이터 로드\n",
    "df_merged = pd.read_csv('final_data.csv')\n",
    "\n",
    "# 데이터 준비\n",
    "df = df_merged.copy()\n",
    "\n",
    "# Feature와 Target 분리\n",
    "X = df.drop(columns=['trade_price_10min_later']).values\n",
    "y = df['trade_price_10min_later'].values\n",
    "\n",
    "# 데이터 스케일링\n",
    "scaler = StandardScaler()\n",
    "X_scaled = scaler.fit_transform(X)\n",
    "\n",
    "# 시계열 데이터 형식으로 변환 (샘플 간 공유 없음)\n",
    "timesteps = 30\n",
    "X_sequences, y_sequences = [], []\n",
    "\n",
    "# i를 timesteps 크기만큼 건너뛰며 샘플 생성\n",
    "for i in range(0, len(X_scaled) - timesteps, timesteps):\n",
    "    X_sequences.append(X_scaled[i:i+timesteps])\n",
    "    y_sequences.append(y[i+timesteps])\n",
    "\n",
    "X_sequences = np.array(X_sequences, dtype=np.float32)\n",
    "y_sequences = np.array(y_sequences)\n",
    "\n",
    "# Train, Test 분할 (80% Train, 20% Test)\n",
    "X_train, X_test, y_train, y_test = train_test_split(X_sequences, y_sequences, test_size=0.2, random_state=1, shuffle=True)\n",
    "\n",
    "# 분할 비율 출력\n",
    "print(f\"Train set: {X_train.shape}, Test set: {X_test.shape}\")\n",
    "\n",
    "# LSTM 모델 구성\n",
    "model = Sequential([\n",
    "    LSTM(128, input_shape=(X_train.shape[1], X_train.shape[2]), return_sequences=True),\n",
    "    Dropout(0.2),\n",
    "    LSTM(64, return_sequences=False),\n",
    "    Dropout(0.2),\n",
    "    Dense(32, activation='relu'),\n",
    "    Dense(1, activation='sigmoid')\n",
    "])\n",
    "\n",
    "# 모델 컴파일\n",
    "model.compile(optimizer='adam', loss='binary_crossentropy', metrics=['accuracy'])\n",
    "\n",
    "# 학습 진행을 표시하기 위한 Callback 설정\n",
    "class TQDMProgressBar(Callback):\n",
    "    def on_train_begin(self, logs=None):\n",
    "        self.epochs = self.params['epochs']\n",
    "        self.tqdm = tqdm(total=self.epochs, desc='Training Progress')\n",
    "\n",
    "    def on_epoch_end(self, epoch, logs=None):\n",
    "        self.tqdm.update(1)\n",
    "        self.tqdm.set_postfix(loss=logs['loss'])\n",
    "\n",
    "    def on_train_end(self, logs=None):\n",
    "        self.tqdm.close()\n",
    "\n",
    "# 학습 과정 시각화 및 히스토리 저장\n",
    "tqdm_callback = TQDMProgressBar()\n",
    "history = model.fit(X_train, y_train, \n",
    "                    validation_data=(X_test, y_test),\n",
    "                    epochs=10, \n",
    "                    batch_size=4, \n",
    "                    callbacks=[tqdm_callback])\n",
    "\n",
    "# Epoch-Loss 그래프 시각화\n",
    "plt.plot(history.history['loss'], label='Training Loss')\n",
    "plt.plot(history.history['val_loss'], label='Test Loss')\n",
    "plt.title('Epoch-Loss Graph')\n",
    "plt.xlabel('Epochs')\n",
    "plt.ylabel('Loss')\n",
    "plt.legend()\n",
    "plt.show()\n",
    "\n",
    "# 최종 평가 (Test Set)\n",
    "test_loss, test_accuracy = model.evaluate(X_test, y_test, verbose=0)\n",
    "print(f\"Test Loss: {test_loss:.4f}, Test Accuracy: {test_accuracy:.4f}\")"
   ]
  },
  {
   "cell_type": "markdown",
   "id": "1134da4f",
   "metadata": {},
   "source": [
    "## per day"
   ]
  },
  {
   "cell_type": "code",
   "execution_count": null,
   "id": "0631169c",
   "metadata": {},
   "outputs": [],
   "source": [
    "from sklearn.model_selection import train_test_split\n",
    "from sklearn.preprocessing import StandardScaler\n",
    "from tensorflow.keras.models import Sequential\n",
    "from tensorflow.keras.layers import LSTM, Dense, Dropout\n",
    "from tensorflow.keras.callbacks import Callback\n",
    "import matplotlib.pyplot as plt\n",
    "from tqdm import tqdm\n",
    "import numpy as np\n",
    "import pandas as pd\n",
    "\n",
    "# 데이터 로드\n",
    "df_merged = pd.read_csv('final_data_d.csv')\n",
    "\n",
    "# 데이터 준비\n",
    "df = df_merged.copy()\n",
    "\n",
    "# Feature와 Target 분리\n",
    "X = df.drop(columns=['trade_price_10min_later']).values\n",
    "y = df['trade_price_10min_later'].values\n",
    "\n",
    "# 데이터 스케일링\n",
    "scaler = StandardScaler()\n",
    "X_scaled = scaler.fit_transform(X)\n",
    "\n",
    "# 시계열 데이터 형식으로 변환 (샘플 간 공유 없음)\n",
    "timesteps = 30\n",
    "X_sequences, y_sequences = [], []\n",
    "\n",
    "# i를 timesteps 크기만큼 건너뛰며 샘플 생성\n",
    "for i in range(0, len(X_scaled) - timesteps, timesteps):\n",
    "    X_sequences.append(X_scaled[i:i+timesteps])\n",
    "    y_sequences.append(y[i+timesteps])\n",
    "\n",
    "X_sequences = np.array(X_sequences, dtype=np.float32)\n",
    "y_sequences = np.array(y_sequences)\n",
    "\n",
    "# Train, Test 분할 (80% Train, 20% Test)\n",
    "X_train, X_test, y_train, y_test = train_test_split(X_sequences, y_sequences, test_size=0.2, random_state=1, shuffle=True)\n",
    "\n",
    "# 분할 비율 출력\n",
    "print(f\"Train set: {X_train.shape}, Test set: {X_test.shape}\")\n",
    "\n",
    "# LSTM 모델 구성\n",
    "model = Sequential([\n",
    "    LSTM(128, input_shape=(X_train.shape[1], X_train.shape[2]), return_sequences=True),\n",
    "    Dropout(0.2),\n",
    "    LSTM(64, return_sequences=False),\n",
    "    Dropout(0.2),\n",
    "    Dense(32, activation='relu'),\n",
    "    Dense(1, activation='sigmoid')\n",
    "])\n",
    "\n",
    "# 모델 컴파일\n",
    "model.compile(optimizer='adam', loss='binary_crossentropy', metrics=['accuracy'])\n",
    "\n",
    "# 학습 진행을 표시하기 위한 Callback 설정\n",
    "class TQDMProgressBar(Callback):\n",
    "    def on_train_begin(self, logs=None):\n",
    "        self.epochs = self.params['epochs']\n",
    "        self.tqdm = tqdm(total=self.epochs, desc='Training Progress')\n",
    "\n",
    "    def on_epoch_end(self, epoch, logs=None):\n",
    "        self.tqdm.update(1)\n",
    "        self.tqdm.set_postfix(loss=logs['loss'])\n",
    "\n",
    "    def on_train_end(self, logs=None):\n",
    "        self.tqdm.close()\n",
    "\n",
    "# 학습 과정 시각화 및 히스토리 저장\n",
    "tqdm_callback = TQDMProgressBar()\n",
    "history = model.fit(X_train, y_train, \n",
    "                    validation_data=(X_test, y_test),\n",
    "                    epochs=10, \n",
    "                    batch_size=4, \n",
    "                    callbacks=[tqdm_callback])\n",
    "\n",
    "# Epoch-Loss 그래프 시각화\n",
    "plt.plot(history.history['loss'], label='Training Loss')\n",
    "plt.plot(history.history['val_loss'], label='Test Loss')\n",
    "plt.title('Epoch-Loss Graph')\n",
    "plt.xlabel('Epochs')\n",
    "plt.ylabel('Loss')\n",
    "plt.legend()\n",
    "plt.show()\n",
    "\n",
    "# 최종 평가 (Test Set)\n",
    "test_loss, test_accuracy = model.evaluate(X_test, y_test, verbose=0)\n",
    "print(f\"Test Loss: {test_loss:.4f}, Test Accuracy: {test_accuracy:.4f}\")"
   ]
  }
 ],
 "metadata": {
  "kernelspec": {
   "display_name": "sol",
   "language": "python",
   "name": "sol"
  },
  "language_info": {
   "codemirror_mode": {
    "name": "ipython",
    "version": 3
   },
   "file_extension": ".py",
   "mimetype": "text/x-python",
   "name": "python",
   "nbconvert_exporter": "python",
   "pygments_lexer": "ipython3",
   "version": "3.10.13"
  }
 },
 "nbformat": 4,
 "nbformat_minor": 5
}
