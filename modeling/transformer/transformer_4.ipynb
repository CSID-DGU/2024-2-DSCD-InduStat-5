{
 "cells": [
  {
   "cell_type": "markdown",
   "id": "732ea7a1",
   "metadata": {},
   "source": [
    "# 상위 5호가씩 사용한 ordexe 데이터로 학습한 Transformer 모델"
   ]
  },
  {
   "cell_type": "markdown",
   "id": "2583df28",
   "metadata": {},
   "source": [
    "# (1) 라이브러리 import"
   ]
  },
  {
   "cell_type": "code",
   "execution_count": 1,
   "id": "6010028a",
   "metadata": {},
   "outputs": [],
   "source": [
    "import os\n",
    "import glob\n",
    "import numpy as np\n",
    "import pandas as pd\n",
    "pd.set_option('display.max_rows', 500)\n",
    "pd.set_option('display.max_columns', 50)\n",
    "import seaborn as sns\n",
    "import matplotlib.pyplot as plt\n",
    "\n",
    "from tqdm import tqdm\n",
    "import time\n",
    "\n",
    "from sklearn.metrics import confusion_matrix, classification_report\n",
    "from sklearn.model_selection import train_test_split\n",
    "from sklearn.preprocessing import StandardScaler\n",
    "\n",
    "from tensorflow.keras import layers, models\n",
    "from tensorflow.keras.callbacks import Callback, EarlyStopping"
   ]
  },
  {
   "cell_type": "markdown",
   "id": "e96a2b28",
   "metadata": {},
   "source": [
    "# (2) 데이터 불러오기"
   ]
  },
  {
   "cell_type": "code",
   "execution_count": 2,
   "id": "a103507e",
   "metadata": {},
   "outputs": [
    {
     "data": {
      "text/plain": [
       "'C:\\\\Users\\\\user\\\\Downloads'"
      ]
     },
     "execution_count": 2,
     "metadata": {},
     "output_type": "execute_result"
    }
   ],
   "source": [
    "#현재 디렉토리 확인\n",
    "os.getcwd()"
   ]
  },
  {
   "cell_type": "code",
   "execution_count": 3,
   "id": "98b85e2f",
   "metadata": {},
   "outputs": [
    {
     "data": {
      "text/html": [
       "<div>\n",
       "<style scoped>\n",
       "    .dataframe tbody tr th:only-of-type {\n",
       "        vertical-align: middle;\n",
       "    }\n",
       "\n",
       "    .dataframe tbody tr th {\n",
       "        vertical-align: top;\n",
       "    }\n",
       "\n",
       "    .dataframe thead th {\n",
       "        text-align: right;\n",
       "    }\n",
       "</style>\n",
       "<table border=\"1\" class=\"dataframe\">\n",
       "  <thead>\n",
       "    <tr style=\"text-align: right;\">\n",
       "      <th></th>\n",
       "      <th>total_ask_size</th>\n",
       "      <th>total_bid_size</th>\n",
       "      <th>1_ask_size</th>\n",
       "      <th>1_bid_size</th>\n",
       "      <th>2_ask_size</th>\n",
       "      <th>2_bid_size</th>\n",
       "      <th>3_ask_size</th>\n",
       "      <th>3_bid_size</th>\n",
       "      <th>4_ask_size</th>\n",
       "      <th>4_bid_size</th>\n",
       "      <th>5_ask_size</th>\n",
       "      <th>5_bid_size</th>\n",
       "      <th>trade_price</th>\n",
       "      <th>trade_volume</th>\n",
       "      <th>spread</th>\n",
       "      <th>imbalance</th>\n",
       "      <th>totalSize_ratio</th>\n",
       "      <th>trade_price_10min_later</th>\n",
       "    </tr>\n",
       "  </thead>\n",
       "  <tbody>\n",
       "    <tr>\n",
       "      <th>0</th>\n",
       "      <td>0.499237</td>\n",
       "      <td>0.925602</td>\n",
       "      <td>0.032215</td>\n",
       "      <td>0.005979</td>\n",
       "      <td>0.006364</td>\n",
       "      <td>0.016141</td>\n",
       "      <td>0.122240</td>\n",
       "      <td>0.063830</td>\n",
       "      <td>0.000120</td>\n",
       "      <td>0.300359</td>\n",
       "      <td>0.001020</td>\n",
       "      <td>0.080266</td>\n",
       "      <td>83658000.0</td>\n",
       "      <td>0.000100</td>\n",
       "      <td>36000.0</td>\n",
       "      <td>0.658003</td>\n",
       "      <td>4.848005</td>\n",
       "      <td>1</td>\n",
       "    </tr>\n",
       "    <tr>\n",
       "      <th>1</th>\n",
       "      <td>0.501627</td>\n",
       "      <td>0.896695</td>\n",
       "      <td>0.032215</td>\n",
       "      <td>0.005979</td>\n",
       "      <td>0.006364</td>\n",
       "      <td>0.016141</td>\n",
       "      <td>0.122240</td>\n",
       "      <td>0.300359</td>\n",
       "      <td>0.000120</td>\n",
       "      <td>0.080266</td>\n",
       "      <td>0.001020</td>\n",
       "      <td>0.142020</td>\n",
       "      <td>83658000.0</td>\n",
       "      <td>0.000100</td>\n",
       "      <td>36000.0</td>\n",
       "      <td>0.636619</td>\n",
       "      <td>4.503863</td>\n",
       "      <td>1</td>\n",
       "    </tr>\n",
       "    <tr>\n",
       "      <th>2</th>\n",
       "      <td>0.501627</td>\n",
       "      <td>0.861926</td>\n",
       "      <td>0.032215</td>\n",
       "      <td>0.000061</td>\n",
       "      <td>0.006364</td>\n",
       "      <td>0.005979</td>\n",
       "      <td>0.122240</td>\n",
       "      <td>0.016141</td>\n",
       "      <td>0.000120</td>\n",
       "      <td>0.300359</td>\n",
       "      <td>0.001020</td>\n",
       "      <td>0.080266</td>\n",
       "      <td>83658000.0</td>\n",
       "      <td>0.000100</td>\n",
       "      <td>33000.0</td>\n",
       "      <td>0.634520</td>\n",
       "      <td>4.472258</td>\n",
       "      <td>1</td>\n",
       "    </tr>\n",
       "    <tr>\n",
       "      <th>3</th>\n",
       "      <td>0.500431</td>\n",
       "      <td>0.861926</td>\n",
       "      <td>0.031019</td>\n",
       "      <td>0.000061</td>\n",
       "      <td>0.006364</td>\n",
       "      <td>0.005979</td>\n",
       "      <td>0.122240</td>\n",
       "      <td>0.016141</td>\n",
       "      <td>0.000120</td>\n",
       "      <td>0.300359</td>\n",
       "      <td>0.001020</td>\n",
       "      <td>0.080266</td>\n",
       "      <td>83658000.0</td>\n",
       "      <td>0.001195</td>\n",
       "      <td>33000.0</td>\n",
       "      <td>0.636627</td>\n",
       "      <td>4.503981</td>\n",
       "      <td>1</td>\n",
       "    </tr>\n",
       "    <tr>\n",
       "      <th>4</th>\n",
       "      <td>0.500431</td>\n",
       "      <td>0.878067</td>\n",
       "      <td>0.031019</td>\n",
       "      <td>0.000061</td>\n",
       "      <td>0.006364</td>\n",
       "      <td>0.005979</td>\n",
       "      <td>0.122240</td>\n",
       "      <td>0.032282</td>\n",
       "      <td>0.000120</td>\n",
       "      <td>0.300359</td>\n",
       "      <td>0.001020</td>\n",
       "      <td>0.080266</td>\n",
       "      <td>83658000.0</td>\n",
       "      <td>0.001195</td>\n",
       "      <td>33000.0</td>\n",
       "      <td>0.642842</td>\n",
       "      <td>4.599765</td>\n",
       "      <td>1</td>\n",
       "    </tr>\n",
       "    <tr>\n",
       "      <th>...</th>\n",
       "      <td>...</td>\n",
       "      <td>...</td>\n",
       "      <td>...</td>\n",
       "      <td>...</td>\n",
       "      <td>...</td>\n",
       "      <td>...</td>\n",
       "      <td>...</td>\n",
       "      <td>...</td>\n",
       "      <td>...</td>\n",
       "      <td>...</td>\n",
       "      <td>...</td>\n",
       "      <td>...</td>\n",
       "      <td>...</td>\n",
       "      <td>...</td>\n",
       "      <td>...</td>\n",
       "      <td>...</td>\n",
       "      <td>...</td>\n",
       "      <td>...</td>\n",
       "    </tr>\n",
       "    <tr>\n",
       "      <th>5986348</th>\n",
       "      <td>2.895852</td>\n",
       "      <td>1.073478</td>\n",
       "      <td>0.042948</td>\n",
       "      <td>0.012691</td>\n",
       "      <td>0.486217</td>\n",
       "      <td>0.024640</td>\n",
       "      <td>0.293135</td>\n",
       "      <td>0.072440</td>\n",
       "      <td>0.659504</td>\n",
       "      <td>0.006471</td>\n",
       "      <td>0.990263</td>\n",
       "      <td>0.148616</td>\n",
       "      <td>96238000.0</td>\n",
       "      <td>0.000829</td>\n",
       "      <td>20000.0</td>\n",
       "      <td>-0.567196</td>\n",
       "      <td>0.276165</td>\n",
       "      <td>0</td>\n",
       "    </tr>\n",
       "    <tr>\n",
       "      <th>5986349</th>\n",
       "      <td>2.894194</td>\n",
       "      <td>1.073478</td>\n",
       "      <td>0.041290</td>\n",
       "      <td>0.012691</td>\n",
       "      <td>0.486217</td>\n",
       "      <td>0.024640</td>\n",
       "      <td>0.293135</td>\n",
       "      <td>0.072440</td>\n",
       "      <td>0.659504</td>\n",
       "      <td>0.006471</td>\n",
       "      <td>0.990263</td>\n",
       "      <td>0.148616</td>\n",
       "      <td>96238000.0</td>\n",
       "      <td>0.001658</td>\n",
       "      <td>20000.0</td>\n",
       "      <td>-0.566991</td>\n",
       "      <td>0.276331</td>\n",
       "      <td>0</td>\n",
       "    </tr>\n",
       "    <tr>\n",
       "      <th>5986350</th>\n",
       "      <td>2.899389</td>\n",
       "      <td>1.068375</td>\n",
       "      <td>0.046486</td>\n",
       "      <td>0.012691</td>\n",
       "      <td>0.486217</td>\n",
       "      <td>0.024640</td>\n",
       "      <td>0.293135</td>\n",
       "      <td>0.000200</td>\n",
       "      <td>0.659504</td>\n",
       "      <td>0.072440</td>\n",
       "      <td>0.990263</td>\n",
       "      <td>0.006471</td>\n",
       "      <td>96238000.0</td>\n",
       "      <td>0.001658</td>\n",
       "      <td>20000.0</td>\n",
       "      <td>-0.701932</td>\n",
       "      <td>0.175135</td>\n",
       "      <td>0</td>\n",
       "    </tr>\n",
       "    <tr>\n",
       "      <th>5986351</th>\n",
       "      <td>2.910013</td>\n",
       "      <td>1.068375</td>\n",
       "      <td>0.057109</td>\n",
       "      <td>0.012691</td>\n",
       "      <td>0.486217</td>\n",
       "      <td>0.024640</td>\n",
       "      <td>0.293135</td>\n",
       "      <td>0.000200</td>\n",
       "      <td>0.659504</td>\n",
       "      <td>0.072440</td>\n",
       "      <td>0.990263</td>\n",
       "      <td>0.006471</td>\n",
       "      <td>96238000.0</td>\n",
       "      <td>0.001658</td>\n",
       "      <td>20000.0</td>\n",
       "      <td>-0.702908</td>\n",
       "      <td>0.174462</td>\n",
       "      <td>0</td>\n",
       "    </tr>\n",
       "    <tr>\n",
       "      <th>5986352</th>\n",
       "      <td>2.899617</td>\n",
       "      <td>1.068375</td>\n",
       "      <td>0.046714</td>\n",
       "      <td>0.012691</td>\n",
       "      <td>0.486217</td>\n",
       "      <td>0.024640</td>\n",
       "      <td>0.293135</td>\n",
       "      <td>0.000200</td>\n",
       "      <td>0.659504</td>\n",
       "      <td>0.072440</td>\n",
       "      <td>0.990263</td>\n",
       "      <td>0.006471</td>\n",
       "      <td>96238000.0</td>\n",
       "      <td>0.010395</td>\n",
       "      <td>20000.0</td>\n",
       "      <td>-0.701953</td>\n",
       "      <td>0.175120</td>\n",
       "      <td>0</td>\n",
       "    </tr>\n",
       "  </tbody>\n",
       "</table>\n",
       "<p>5986353 rows × 18 columns</p>\n",
       "</div>"
      ],
      "text/plain": [
       "         total_ask_size  total_bid_size  1_ask_size  1_bid_size  2_ask_size  \\\n",
       "0              0.499237        0.925602    0.032215    0.005979    0.006364   \n",
       "1              0.501627        0.896695    0.032215    0.005979    0.006364   \n",
       "2              0.501627        0.861926    0.032215    0.000061    0.006364   \n",
       "3              0.500431        0.861926    0.031019    0.000061    0.006364   \n",
       "4              0.500431        0.878067    0.031019    0.000061    0.006364   \n",
       "...                 ...             ...         ...         ...         ...   \n",
       "5986348        2.895852        1.073478    0.042948    0.012691    0.486217   \n",
       "5986349        2.894194        1.073478    0.041290    0.012691    0.486217   \n",
       "5986350        2.899389        1.068375    0.046486    0.012691    0.486217   \n",
       "5986351        2.910013        1.068375    0.057109    0.012691    0.486217   \n",
       "5986352        2.899617        1.068375    0.046714    0.012691    0.486217   \n",
       "\n",
       "         2_bid_size  3_ask_size  3_bid_size  4_ask_size  4_bid_size  \\\n",
       "0          0.016141    0.122240    0.063830    0.000120    0.300359   \n",
       "1          0.016141    0.122240    0.300359    0.000120    0.080266   \n",
       "2          0.005979    0.122240    0.016141    0.000120    0.300359   \n",
       "3          0.005979    0.122240    0.016141    0.000120    0.300359   \n",
       "4          0.005979    0.122240    0.032282    0.000120    0.300359   \n",
       "...             ...         ...         ...         ...         ...   \n",
       "5986348    0.024640    0.293135    0.072440    0.659504    0.006471   \n",
       "5986349    0.024640    0.293135    0.072440    0.659504    0.006471   \n",
       "5986350    0.024640    0.293135    0.000200    0.659504    0.072440   \n",
       "5986351    0.024640    0.293135    0.000200    0.659504    0.072440   \n",
       "5986352    0.024640    0.293135    0.000200    0.659504    0.072440   \n",
       "\n",
       "         5_ask_size  5_bid_size  trade_price  trade_volume   spread  \\\n",
       "0          0.001020    0.080266   83658000.0      0.000100  36000.0   \n",
       "1          0.001020    0.142020   83658000.0      0.000100  36000.0   \n",
       "2          0.001020    0.080266   83658000.0      0.000100  33000.0   \n",
       "3          0.001020    0.080266   83658000.0      0.001195  33000.0   \n",
       "4          0.001020    0.080266   83658000.0      0.001195  33000.0   \n",
       "...             ...         ...          ...           ...      ...   \n",
       "5986348    0.990263    0.148616   96238000.0      0.000829  20000.0   \n",
       "5986349    0.990263    0.148616   96238000.0      0.001658  20000.0   \n",
       "5986350    0.990263    0.006471   96238000.0      0.001658  20000.0   \n",
       "5986351    0.990263    0.006471   96238000.0      0.001658  20000.0   \n",
       "5986352    0.990263    0.006471   96238000.0      0.010395  20000.0   \n",
       "\n",
       "         imbalance  totalSize_ratio  trade_price_10min_later  \n",
       "0         0.658003         4.848005                        1  \n",
       "1         0.636619         4.503863                        1  \n",
       "2         0.634520         4.472258                        1  \n",
       "3         0.636627         4.503981                        1  \n",
       "4         0.642842         4.599765                        1  \n",
       "...            ...              ...                      ...  \n",
       "5986348  -0.567196         0.276165                        0  \n",
       "5986349  -0.566991         0.276331                        0  \n",
       "5986350  -0.701932         0.175135                        0  \n",
       "5986351  -0.702908         0.174462                        0  \n",
       "5986352  -0.701953         0.175120                        0  \n",
       "\n",
       "[5986353 rows x 18 columns]"
      ]
     },
     "execution_count": 3,
     "metadata": {},
     "output_type": "execute_result"
    }
   ],
   "source": [
    "df = pd.read_csv(\"final_data.csv\")\n",
    "df"
   ]
  },
  {
   "cell_type": "code",
   "execution_count": 4,
   "id": "9bca1871",
   "metadata": {},
   "outputs": [
    {
     "name": "stdout",
     "output_type": "stream",
     "text": [
      "<class 'pandas.core.frame.DataFrame'>\n",
      "RangeIndex: 5986353 entries, 0 to 5986352\n",
      "Data columns (total 18 columns):\n",
      " #   Column                   Dtype  \n",
      "---  ------                   -----  \n",
      " 0   total_ask_size           float64\n",
      " 1   total_bid_size           float64\n",
      " 2   1_ask_size               float64\n",
      " 3   1_bid_size               float64\n",
      " 4   2_ask_size               float64\n",
      " 5   2_bid_size               float64\n",
      " 6   3_ask_size               float64\n",
      " 7   3_bid_size               float64\n",
      " 8   4_ask_size               float64\n",
      " 9   4_bid_size               float64\n",
      " 10  5_ask_size               float64\n",
      " 11  5_bid_size               float64\n",
      " 12  trade_price              float64\n",
      " 13  trade_volume             float64\n",
      " 14  spread                   float64\n",
      " 15  imbalance                float64\n",
      " 16  totalSize_ratio          float64\n",
      " 17  trade_price_10min_later  int64  \n",
      "dtypes: float64(17), int64(1)\n",
      "memory usage: 822.1 MB\n"
     ]
    }
   ],
   "source": [
    "df.info()"
   ]
  },
  {
   "cell_type": "markdown",
   "id": "bdc38500",
   "metadata": {},
   "source": [
    "# (3) 데이터 전처리"
   ]
  },
  {
   "cell_type": "markdown",
   "id": "6bf08a64",
   "metadata": {},
   "source": [
    "## (3-1) X와 y 데이터셋 분리"
   ]
  },
  {
   "cell_type": "code",
   "execution_count": 5,
   "id": "dace63df",
   "metadata": {},
   "outputs": [],
   "source": [
    "#X와 y 데이터셋 분리\n",
    "X = df.drop(columns=['trade_price_10min_later']).values\n",
    "y = df['trade_price_10min_later'].values #trade_price_10min_later가 target"
   ]
  },
  {
   "cell_type": "markdown",
   "id": "13c46c34",
   "metadata": {},
   "source": [
    "## (3-2) 데이터 스케일링"
   ]
  },
  {
   "cell_type": "code",
   "execution_count": 6,
   "id": "61c450a5",
   "metadata": {},
   "outputs": [
    {
     "data": {
      "text/plain": [
       "array([[-0.83970395, -0.47916167, -0.24206646, ...,  0.62393175,\n",
       "         1.65643757,  0.37191828],\n",
       "       [-0.83885299, -0.49232116, -0.24206646, ...,  0.62393175,\n",
       "         1.61298039,  0.33100242],\n",
       "       [-0.83885299, -0.50814929, -0.24206646, ...,  0.49482269,\n",
       "         1.60871529,  0.32724475],\n",
       "       ...,\n",
       "       [ 0.01487833, -0.41416574, -0.22858168, ..., -0.0646499 ,\n",
       "        -1.10724542, -0.18365127],\n",
       "       [ 0.01866088, -0.41416574, -0.21854347, ..., -0.0646499 ,\n",
       "        -1.10922769, -0.1837313 ],\n",
       "       [ 0.01495956, -0.41416574, -0.22836611, ..., -0.0646499 ,\n",
       "        -1.10728813, -0.183653  ]])"
      ]
     },
     "execution_count": 6,
     "metadata": {},
     "output_type": "execute_result"
    }
   ],
   "source": [
    "scaler = StandardScaler()\n",
    "X_scaled = scaler.fit_transform(X)\n",
    "X_scaled"
   ]
  },
  {
   "cell_type": "markdown",
   "id": "301df72f",
   "metadata": {},
   "source": [
    "## (3-3) 시퀀스 데이터 생성"
   ]
  },
  {
   "cell_type": "code",
   "execution_count": 7,
   "id": "66bf7436",
   "metadata": {},
   "outputs": [
    {
     "name": "stdout",
     "output_type": "stream",
     "text": [
      "X_sequences 차원: (5986333, 20, 17)\n",
      "y_sequences 차원: (5986333,)\n"
     ]
    }
   ],
   "source": [
    "timesteps = 20 #20개 행씩 묶어서 진행 (이 부분은 hyper-parameter로 조정 가능)\n",
    "X_sequences, y_sequences = [], []\n",
    "\n",
    "for i in range(len(X_scaled) - timesteps):\n",
    "    X_sequences.append(X_scaled[i:i+timesteps]) #현재부터 다음 20개까지 데이터를 슬라이싱하여 한 묶음으로\n",
    "    y_sequences.append(y[i+timesteps])\n",
    "\n",
    "#dtype을 float64 -> float32로 변경 (메모리 문제 방지를 위해)\n",
    "#float32는 소수점 7자리까지 보장\n",
    "X_sequences = np.array(X_sequences, dtype=np.float32) #10개 시점의 X 데이터\n",
    "y_sequences = np.array(y_sequences, dtype=np.float32) #그 다음 시점의 y값\n",
    "\n",
    "#차원 확인\n",
    "print(f'X_sequences 차원: {X_sequences.shape}')\n",
    "print(f'y_sequences 차원: {y_sequences.shape}')"
   ]
  },
  {
   "cell_type": "markdown",
   "id": "8b042eee",
   "metadata": {},
   "source": [
    "## (3-4) train, test 셋 분리"
   ]
  },
  {
   "cell_type": "code",
   "execution_count": 8,
   "id": "dd8e3af2",
   "metadata": {},
   "outputs": [
    {
     "name": "stdout",
     "output_type": "stream",
     "text": [
      "X_train 차원: (4789066, 20, 17)\n",
      "y_train 차원: (4789066,)\n",
      "X_test 차원: (1197267, 20, 17)\n",
      "y_test 차원: (1197267,)\n"
     ]
    }
   ],
   "source": [
    "#시퀀스 데이터의 train, test 분리는 시간 패턴에 따른 과적합 방지를 위해 비시계열성 데이터처럼 섞어서 진행해야 함\n",
    "X_train, X_test, y_train, y_test = train_test_split(X_sequences, y_sequences, test_size=0.2, random_state=42) #8:2 분리\n",
    "\n",
    "#차원 확인\n",
    "print(f'X_train 차원: {X_train.shape}')\n",
    "print(f'y_train 차원: {y_train.shape}')\n",
    "print(f'X_test 차원: {X_test.shape}')\n",
    "print(f'y_test 차원: {y_test.shape}')"
   ]
  },
  {
   "cell_type": "markdown",
   "id": "c5d64c30",
   "metadata": {},
   "source": [
    "# (4) Transformer 모델링"
   ]
  },
  {
   "cell_type": "markdown",
   "id": "8ae7ee85",
   "metadata": {},
   "source": [
    "## (4-1) 모델 구조 설정"
   ]
  },
  {
   "cell_type": "code",
   "execution_count": 9,
   "id": "9170b8fa",
   "metadata": {},
   "outputs": [
    {
     "name": "stdout",
     "output_type": "stream",
     "text": [
      "Model: \"model\"\n",
      "__________________________________________________________________________________________________\n",
      " Layer (type)                   Output Shape         Param #     Connected to                     \n",
      "==================================================================================================\n",
      " input_1 (InputLayer)           [(None, 20, 17)]     0           []                               \n",
      "                                                                                                  \n",
      " dense (Dense)                  (None, 20, 64)       1152        ['input_1[0][0]']                \n",
      "                                                                                                  \n",
      " layer_normalization (LayerNorm  (None, 20, 64)      128         ['dense[0][0]']                  \n",
      " alization)                                                                                       \n",
      "                                                                                                  \n",
      " dropout (Dropout)              (None, 20, 64)       0           ['layer_normalization[0][0]']    \n",
      "                                                                                                  \n",
      " multi_head_attention (MultiHea  (None, 20, 64)      66368       ['dropout[0][0]',                \n",
      " dAttention)                                                      'dropout[0][0]']                \n",
      "                                                                                                  \n",
      " add (Add)                      (None, 20, 64)       0           ['dropout[0][0]',                \n",
      "                                                                  'multi_head_attention[0][0]']   \n",
      "                                                                                                  \n",
      " layer_normalization_1 (LayerNo  (None, 20, 64)      128         ['add[0][0]']                    \n",
      " rmalization)                                                                                     \n",
      "                                                                                                  \n",
      " dropout_1 (Dropout)            (None, 20, 64)       0           ['layer_normalization_1[0][0]']  \n",
      "                                                                                                  \n",
      " global_average_pooling1d (Glob  (None, 64)          0           ['dropout_1[0][0]']              \n",
      " alAveragePooling1D)                                                                              \n",
      "                                                                                                  \n",
      " dense_1 (Dense)                (None, 32)           2080        ['global_average_pooling1d[0][0]'\n",
      "                                                                 ]                                \n",
      "                                                                                                  \n",
      " dropout_2 (Dropout)            (None, 32)           0           ['dense_1[0][0]']                \n",
      "                                                                                                  \n",
      " dense_2 (Dense)                (None, 1)            33          ['dropout_2[0][0]']              \n",
      "                                                                                                  \n",
      "==================================================================================================\n",
      "Total params: 69,889\n",
      "Trainable params: 69,889\n",
      "Non-trainable params: 0\n",
      "__________________________________________________________________________________________________\n"
     ]
    }
   ],
   "source": [
    "#Transformer 모델 정의\n",
    "inputs = layers.Input(shape=(timesteps, X_train.shape[2]))\n",
    "\n",
    "#[첫 번째 완전연결층]\n",
    "x = layers.Dense(64, activation='relu')(inputs) #64개 유닛 사용\n",
    "x = layers.LayerNormalization()(x) #입력 차원을 표준화하여 학습을 안정화시킴\n",
    "x = layers.Dropout(0.3)(x)  #과적합 방지를 위한 Dropout\n",
    "\n",
    "#Transformer block\n",
    "attn_output = layers.MultiHeadAttention(num_heads=4, key_dim=64)(x, x) #4개의 헤드를 가지는 다중 헤드 어텐션 레이어\n",
    "x = layers.Add()([x, attn_output])  #원본 입력값(x)와 어텐션 출력을 더하는 잔차 연결 사용하여 정보 손실 방지하고 학습을 더 원활하게 함\n",
    "x = layers.LayerNormalization()(x)\n",
    "x = layers.Dropout(0.3)(x)\n",
    "\n",
    "#시퀀스 차원을 축소하여 단일 값으로 만듦\n",
    "x = layers.GlobalAveragePooling1D()(x)  #10개의 타임스텝에서 평균값을 취해 하나의 값으로 축소\n",
    "\n",
    "#[두 번째 완전연결층]\n",
    "x = layers.Dense(32, activation='relu')(x) #32개 유닛 사용\n",
    "x = layers.Dropout(0.3)(x)\n",
    "\n",
    "#[출력층]\n",
    "outputs = layers.Dense(1, activation='sigmoid')(x)  # 이진 분류 문제이므로 sigmoid 사용\n",
    "\n",
    "#모델 구성\n",
    "transformer_model = models.Model(inputs=inputs, outputs=outputs)\n",
    "\n",
    "transformer_model.summary()"
   ]
  },
  {
   "cell_type": "markdown",
   "id": "81052153",
   "metadata": {},
   "source": [
    "## (4-2) 모델 학습"
   ]
  },
  {
   "cell_type": "code",
   "execution_count": 10,
   "id": "a7b4e744",
   "metadata": {},
   "outputs": [
    {
     "name": "stderr",
     "output_type": "stream",
     "text": [
      "\r",
      "Training Progress:   0%|                                                                        | 0/10 [00:00<?, ?it/s]"
     ]
    },
    {
     "name": "stdout",
     "output_type": "stream",
     "text": [
      "Epoch 1/10\n",
      "74830/74830 [==============================] - ETA: 0s - loss: 0.6895 - accuracy: 0.5308"
     ]
    },
    {
     "name": "stderr",
     "output_type": "stream",
     "text": [
      "Training Progress:  10%|███▏                            | 1/10 [20:24<3:03:43, 1224.83s/it, loss=0.689, val_loss=0.687]"
     ]
    },
    {
     "name": "stdout",
     "output_type": "stream",
     "text": [
      "74830/74830 [==============================] - 1224s 16ms/step - loss: 0.6895 - accuracy: 0.5308 - val_loss: 0.6867 - val_accuracy: 0.5375\n",
      "Epoch 2/10\n",
      "74830/74830 [==============================] - ETA: 0s - loss: 0.6844 - accuracy: 0.5460"
     ]
    },
    {
     "name": "stderr",
     "output_type": "stream",
     "text": [
      "Training Progress:  20%|██████▍                         | 2/10 [40:22<2:41:08, 1208.58s/it, loss=0.684, val_loss=0.684]"
     ]
    },
    {
     "name": "stdout",
     "output_type": "stream",
     "text": [
      "74830/74830 [==============================] - 1197s 16ms/step - loss: 0.6844 - accuracy: 0.5460 - val_loss: 0.6844 - val_accuracy: 0.5454\n",
      "Epoch 3/10\n",
      "74830/74830 [==============================] - ETA: 0s - loss: 0.6820 - accuracy: 0.5520"
     ]
    },
    {
     "name": "stderr",
     "output_type": "stream",
     "text": [
      "Training Progress:  30%|█████████                     | 3/10 [1:00:24<2:20:42, 1206.01s/it, loss=0.682, val_loss=0.684]"
     ]
    },
    {
     "name": "stdout",
     "output_type": "stream",
     "text": [
      "74830/74830 [==============================] - 1203s 16ms/step - loss: 0.6820 - accuracy: 0.5520 - val_loss: 0.6842 - val_accuracy: 0.5476\n",
      "Epoch 4/10\n",
      "74828/74830 [============================>.] - ETA: 0s - loss: 0.6804 - accuracy: 0.5552"
     ]
    },
    {
     "name": "stderr",
     "output_type": "stream",
     "text": [
      "Training Progress:  40%|████████████▍                  | 4/10 [1:20:31<2:00:37, 1206.32s/it, loss=0.68, val_loss=0.683]"
     ]
    },
    {
     "name": "stdout",
     "output_type": "stream",
     "text": [
      "74830/74830 [==============================] - 1207s 16ms/step - loss: 0.6804 - accuracy: 0.5552 - val_loss: 0.6830 - val_accuracy: 0.5499\n",
      "Epoch 5/10\n",
      "74830/74830 [==============================] - ETA: 0s - loss: 0.6793 - accuracy: 0.5571"
     ]
    },
    {
     "name": "stderr",
     "output_type": "stream",
     "text": [
      "Training Progress:  50%|███████████████               | 5/10 [1:40:21<1:40:01, 1200.27s/it, loss=0.679, val_loss=0.684]"
     ]
    },
    {
     "name": "stdout",
     "output_type": "stream",
     "text": [
      "74830/74830 [==============================] - 1190s 16ms/step - loss: 0.6793 - accuracy: 0.5571 - val_loss: 0.6840 - val_accuracy: 0.5509\n",
      "Epoch 6/10\n",
      "74828/74830 [============================>.] - ETA: 0s - loss: 0.6786 - accuracy: 0.5584"
     ]
    },
    {
     "name": "stderr",
     "output_type": "stream",
     "text": [
      "Training Progress:  60%|██████████████████            | 6/10 [2:00:06<1:19:39, 1194.97s/it, loss=0.679, val_loss=0.682]"
     ]
    },
    {
     "name": "stdout",
     "output_type": "stream",
     "text": [
      "74830/74830 [==============================] - 1185s 16ms/step - loss: 0.6786 - accuracy: 0.5584 - val_loss: 0.6823 - val_accuracy: 0.5510\n",
      "Epoch 7/10\n",
      "74830/74830 [==============================] - ETA: 0s - loss: 0.6782 - accuracy: 0.5592"
     ]
    },
    {
     "name": "stderr",
     "output_type": "stream",
     "text": [
      "Training Progress:  70%|██████████████████████▍         | 7/10 [2:19:39<59:23, 1187.99s/it, loss=0.678, val_loss=0.683]"
     ]
    },
    {
     "name": "stdout",
     "output_type": "stream",
     "text": [
      "74830/74830 [==============================] - 1174s 16ms/step - loss: 0.6782 - accuracy: 0.5592 - val_loss: 0.6825 - val_accuracy: 0.5529\n",
      "Epoch 8/10\n",
      "74828/74830 [============================>.] - ETA: 0s - loss: 0.6779 - accuracy: 0.5601"
     ]
    },
    {
     "name": "stderr",
     "output_type": "stream",
     "text": [
      "Training Progress:  80%|█████████████████████████▌      | 8/10 [2:39:11<39:25, 1182.92s/it, loss=0.678, val_loss=0.682]"
     ]
    },
    {
     "name": "stdout",
     "output_type": "stream",
     "text": [
      "74830/74830 [==============================] - 1172s 16ms/step - loss: 0.6779 - accuracy: 0.5601 - val_loss: 0.6818 - val_accuracy: 0.5525\n",
      "Epoch 9/10\n",
      "74829/74830 [============================>.] - ETA: 0s - loss: 0.6776 - accuracy: 0.5605"
     ]
    },
    {
     "name": "stderr",
     "output_type": "stream",
     "text": [
      "Training Progress:  90%|████████████████████████████▊   | 9/10 [2:58:41<19:38, 1178.68s/it, loss=0.678, val_loss=0.683]"
     ]
    },
    {
     "name": "stdout",
     "output_type": "stream",
     "text": [
      "74830/74830 [==============================] - 1169s 16ms/step - loss: 0.6776 - accuracy: 0.5605 - val_loss: 0.6834 - val_accuracy: 0.5538\n",
      "Epoch 10/10\n",
      "74830/74830 [==============================] - ETA: 0s - loss: 0.6772 - accuracy: 0.5611"
     ]
    },
    {
     "name": "stderr",
     "output_type": "stream",
     "text": [
      "Training Progress: 100%|███████████████████████████████| 10/10 [3:18:03<00:00, 1173.63s/it, loss=0.677, val_loss=0.682]"
     ]
    },
    {
     "name": "stdout",
     "output_type": "stream",
     "text": [
      "\b\b\b\b\b\b\b\b\b\b\b\b\b\b\b\b\b\b\b\b\b\b\b\b\b\b\b\b\b\b\b\b\b\b\b\b\b\b\b\b\b\b\b\b\b\b\b\b\b\b\b\b\b\b\b\b\b\b\b\b\b\b\b\b\b\b\b\b\b\b\b\b\b\b\b\b\b\b\b\b\b\b\b\b\b\b\b\b\r",
      "74830/74830 [==============================] - 1162s 16ms/step - loss: 0.6772 - accuracy: 0.5611 - val_loss: 0.6825 - val_accuracy: 0.5522\n"
     ]
    },
    {
     "name": "stderr",
     "output_type": "stream",
     "text": [
      "Training Progress: 100%|███████████████████████████████| 10/10 [3:18:03<00:00, 1188.34s/it, loss=0.677, val_loss=0.682]\n"
     ]
    },
    {
     "data": {
      "image/png": "[encoded data removed]",
      "text/plain": [
       "<Figure size 640x480 with 1 Axes>"
      ]
     },
     "metadata": {},
     "output_type": "display_data"
    }
   ],
   "source": [
    "#모델 compile\n",
    "transformer_model.compile(optimizer='adam', loss='binary_crossentropy', metrics=['accuracy'])\n",
    "\n",
    "#조기 종료(EarlyStopping) 콜백 설정\n",
    "early_stopping = EarlyStopping(monitor='val_accuracy', patience=2, restore_best_weights=True)\n",
    "\n",
    "#학습 시각화 및 진행 표시를 위한 Callback 설정\n",
    "class TQDMProgressBar(Callback):\n",
    "    def on_train_begin(self, logs=None):\n",
    "        self.epochs = self.params['epochs']\n",
    "        self.tqdm = tqdm(total=self.epochs, desc='Training Progress')\n",
    "\n",
    "    def on_epoch_end(self, epoch, logs=None):\n",
    "        self.tqdm.update(1)\n",
    "        self.tqdm.set_postfix(loss=logs['loss'], val_loss=logs['val_loss'])\n",
    "\n",
    "    def on_train_end(self, logs=None):\n",
    "        self.tqdm.close()\n",
    "\n",
    "#학습 진행\n",
    "history = transformer_model.fit(X_train, y_train, epochs=10, batch_size=64, validation_data=(X_test, y_test),\n",
    "                                callbacks=[TQDMProgressBar(), early_stopping])\n",
    "\n",
    "#Epoch-Loss 그래프 시각화\n",
    "plt.plot(history.history['loss'], label='Training Loss')\n",
    "plt.plot(history.history['val_loss'], label='Validation Loss')\n",
    "plt.title('Epoch-Loss Graph')\n",
    "plt.xlabel('Epochs')\n",
    "plt.ylabel('Loss')\n",
    "plt.legend()\n",
    "plt.show()"
   ]
  },
  {
   "cell_type": "markdown",
   "id": "96e93205",
   "metadata": {},
   "source": [
    "## (4-3) 모델 평가"
   ]
  },
  {
   "cell_type": "code",
   "execution_count": 12,
   "id": "b9136610",
   "metadata": {},
   "outputs": [
    {
     "name": "stdout",
     "output_type": "stream",
     "text": [
      "37415/37415 [==============================] - 166s 4ms/step - loss: 0.6825 - accuracy: 0.5522\n",
      "Test Loss: 0.6825, Test Accuracy: 0.5522\n",
      "37415/37415 [==============================] - 156s 4ms/step\n"
     ]
    },
    {
     "data": {
      "image/png": "[encoded data removed]",
      "text/plain": [
       "<Figure size 600x400 with 2 Axes>"
      ]
     },
     "metadata": {},
     "output_type": "display_data"
    },
    {
     "name": "stdout",
     "output_type": "stream",
     "text": [
      "              precision    recall  f1-score   support\n",
      "\n",
      "    Negative       0.57      0.47      0.51    606727\n",
      "    Positive       0.54      0.64      0.59    590540\n",
      "\n",
      "    accuracy                           0.55   1197267\n",
      "   macro avg       0.56      0.55      0.55   1197267\n",
      "weighted avg       0.56      0.55      0.55   1197267\n",
      "\n"
     ]
    }
   ],
   "source": [
    "#모델 평가\n",
    "loss, accuracy = transformer_model.evaluate(X_test, y_test)\n",
    "print(f\"Test Loss: {loss:.4f}, Test Accuracy: {accuracy:.4f}\")\n",
    "\n",
    "#예측값 생성\n",
    "y_pred = transformer_model.predict(X_test)\n",
    "y_pred = (y_pred > 0.5).astype(int) #확률을 0과 1로 변환\n",
    "\n",
    "#혼동 행렬 시각화\n",
    "conf_matrix = confusion_matrix(y_test, y_pred)\n",
    "plt.figure(figsize=(6, 4))\n",
    "sns.heatmap(conf_matrix, annot=True, fmt='d', cmap='Blues', xticklabels=['Negative', 'Positive'], yticklabels=['Negative', 'Positive'])\n",
    "plt.xlabel('Predicted Label')\n",
    "plt.ylabel('True Label')\n",
    "plt.title('Confusion Matrix')\n",
    "plt.show()\n",
    "\n",
    "# 정밀도, 재현율, F1-스코어 출력\n",
    "print(classification_report(y_test, y_pred, target_names=['Negative', 'Positive']))"
   ]
  },
  {
   "cell_type": "code",
   "execution_count": null,
   "id": "46b791a9",
   "metadata": {},
   "outputs": [],
   "source": [
    "#예측된 클래스 출력\n",
    "#print(\"Predicted class labels (0 or 1):\", y_pred.flatten())"
   ]
  },
  {
   "cell_type": "code",
   "execution_count": null,
   "id": "cb815db4",
   "metadata": {},
   "outputs": [],
   "source": [
    "#모델 예측값\n",
    "#transformer_model.predict(X_test)"
   ]
  },
  {
   "cell_type": "markdown",
   "id": "1ec245d3",
   "metadata": {},
   "source": [
    "# (5) 모델 저장"
   ]
  },
  {
   "cell_type": "code",
   "execution_count": 13,
   "id": "9b4e9c78",
   "metadata": {},
   "outputs": [],
   "source": [
    "#모델 저장\n",
    "transformer_model.save(\"transformer_4.h5\")"
   ]
  },
  {
   "cell_type": "code",
   "execution_count": null,
   "id": "b7b7927d",
   "metadata": {},
   "outputs": [],
   "source": []
  }
 ],
 "metadata": {
  "kernelspec": {
   "display_name": "Python 3 (ipykernel)",
   "language": "python",
   "name": "python3"
  },
  "language_info": {
   "codemirror_mode": {
    "name": "ipython",
    "version": 3
   },
   "file_extension": ".py",
   "mimetype": "text/x-python",
   "name": "python",
   "nbconvert_exporter": "python",
   "pygments_lexer": "ipython3",
   "version": "3.11.9"
  }
 },
 "nbformat": 4,
 "nbformat_minor": 5
}
