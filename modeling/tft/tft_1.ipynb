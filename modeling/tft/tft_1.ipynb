{
 "cells": [
  {
   "cell_type": "markdown",
   "id": "8f1b6417-af1f-4cb7-b78a-55a86540c32f",
   "metadata": {},
   "source": [
    "# 상위 5호가씩 사용한 ordexe 데이터로 학습한 Transformer 모델"
   ]
  },
  {
   "cell_type": "markdown",
   "id": "2386aa6e-ee9f-43eb-8219-02c439b90a6b",
   "metadata": {},
   "source": [
    "# (1) 라이브러리 import"
   ]
  },
  {
   "cell_type": "code",
   "execution_count": 1,
   "id": "9f75e2a8-abd8-4565-83cc-87f59fa99fb4",
   "metadata": {},
   "outputs": [],
   "source": [
    "import os\n",
    "import glob\n",
    "import numpy as np\n",
    "import pandas as pd\n",
    "pd.set_option('display.max_rows', 500)\n",
    "pd.set_option('display.max_columns', 50)\n",
    "import seaborn as sns\n",
    "import matplotlib.pyplot as plt\n",
    "\n",
    "from tqdm import tqdm\n",
    "import time\n",
    "\n",
    "from sklearn.metrics import confusion_matrix, classification_report\n",
    "from sklearn.model_selection import train_test_split\n",
    "from sklearn.preprocessing import StandardScaler\n",
    "\n",
    "from tensorflow.keras import layers, models\n",
    "from tensorflow.keras.callbacks import Callback, EarlyStopping"
   ]
  },
  {
   "cell_type": "markdown",
   "id": "d3cf720b-0c88-4545-a087-fa935d045421",
   "metadata": {},
   "source": [
    "# (2) 데이터 불러오기"
   ]
  },
  {
   "cell_type": "code",
   "execution_count": 3,
   "id": "fd1fc1a1-56e0-4892-b5f4-65d2a824db4e",
   "metadata": {},
   "outputs": [
    {
     "data": {
      "text/plain": [
       "'C:\\\\Users\\\\lys17\\\\Desktop\\\\InduStat\\\\code'"
      ]
     },
     "execution_count": 3,
     "metadata": {},
     "output_type": "execute_result"
    }
   ],
   "source": [
    "#현재 디렉토리 확인\n",
    "os.getcwd()"
   ]
  },
  {
   "cell_type": "code",
   "execution_count": 4,
   "id": "9dcf5abe-5f4d-4602-910f-fb61a3a4be4d",
   "metadata": {},
   "outputs": [
    {
     "data": {
      "text/html": [
       "<div>\n",
       "<style scoped>\n",
       "    .dataframe tbody tr th:only-of-type {\n",
       "        vertical-align: middle;\n",
       "    }\n",
       "\n",
       "    .dataframe tbody tr th {\n",
       "        vertical-align: top;\n",
       "    }\n",
       "\n",
       "    .dataframe thead th {\n",
       "        text-align: right;\n",
       "    }\n",
       "</style>\n",
       "<table border=\"1\" class=\"dataframe\">\n",
       "  <thead>\n",
       "    <tr style=\"text-align: right;\">\n",
       "      <th></th>\n",
       "      <th>total_ask_size</th>\n",
       "      <th>total_bid_size</th>\n",
       "      <th>1_ask_size</th>\n",
       "      <th>1_bid_size</th>\n",
       "      <th>2_ask_size</th>\n",
       "      <th>2_bid_size</th>\n",
       "      <th>3_ask_size</th>\n",
       "      <th>3_bid_size</th>\n",
       "      <th>4_ask_size</th>\n",
       "      <th>4_bid_size</th>\n",
       "      <th>5_ask_size</th>\n",
       "      <th>5_bid_size</th>\n",
       "      <th>trade_price</th>\n",
       "      <th>trade_volume</th>\n",
       "      <th>spread</th>\n",
       "      <th>imbalance</th>\n",
       "      <th>totalSize_ratio</th>\n",
       "      <th>trade_price_10min_later</th>\n",
       "    </tr>\n",
       "  </thead>\n",
       "  <tbody>\n",
       "    <tr>\n",
       "      <th>0</th>\n",
       "      <td>0.499237</td>\n",
       "      <td>0.925602</td>\n",
       "      <td>0.032215</td>\n",
       "      <td>0.005979</td>\n",
       "      <td>0.006364</td>\n",
       "      <td>0.016141</td>\n",
       "      <td>0.12224</td>\n",
       "      <td>0.063830</td>\n",
       "      <td>0.000120</td>\n",
       "      <td>0.300359</td>\n",
       "      <td>0.00102</td>\n",
       "      <td>0.080266</td>\n",
       "      <td>83658000.0</td>\n",
       "      <td>0.000100</td>\n",
       "      <td>36000.0</td>\n",
       "      <td>0.299237</td>\n",
       "      <td>1.854033</td>\n",
       "      <td>1</td>\n",
       "    </tr>\n",
       "    <tr>\n",
       "      <th>1</th>\n",
       "      <td>0.501627</td>\n",
       "      <td>0.896695</td>\n",
       "      <td>0.032215</td>\n",
       "      <td>0.005979</td>\n",
       "      <td>0.006364</td>\n",
       "      <td>0.016141</td>\n",
       "      <td>0.12224</td>\n",
       "      <td>0.300359</td>\n",
       "      <td>0.000120</td>\n",
       "      <td>0.080266</td>\n",
       "      <td>0.00102</td>\n",
       "      <td>0.142020</td>\n",
       "      <td>83658000.0</td>\n",
       "      <td>0.000100</td>\n",
       "      <td>36000.0</td>\n",
       "      <td>0.282530</td>\n",
       "      <td>1.787573</td>\n",
       "      <td>1</td>\n",
       "    </tr>\n",
       "    <tr>\n",
       "      <th>2</th>\n",
       "      <td>0.501627</td>\n",
       "      <td>0.861926</td>\n",
       "      <td>0.032215</td>\n",
       "      <td>0.000061</td>\n",
       "      <td>0.006364</td>\n",
       "      <td>0.005979</td>\n",
       "      <td>0.12224</td>\n",
       "      <td>0.016141</td>\n",
       "      <td>0.000120</td>\n",
       "      <td>0.300359</td>\n",
       "      <td>0.00102</td>\n",
       "      <td>0.080266</td>\n",
       "      <td>83658000.0</td>\n",
       "      <td>0.000100</td>\n",
       "      <td>33000.0</td>\n",
       "      <td>0.264235</td>\n",
       "      <td>1.718261</td>\n",
       "      <td>1</td>\n",
       "    </tr>\n",
       "    <tr>\n",
       "      <th>3</th>\n",
       "      <td>0.500431</td>\n",
       "      <td>0.861926</td>\n",
       "      <td>0.031019</td>\n",
       "      <td>0.000061</td>\n",
       "      <td>0.006364</td>\n",
       "      <td>0.005979</td>\n",
       "      <td>0.12224</td>\n",
       "      <td>0.016141</td>\n",
       "      <td>0.000120</td>\n",
       "      <td>0.300359</td>\n",
       "      <td>0.00102</td>\n",
       "      <td>0.080266</td>\n",
       "      <td>83658000.0</td>\n",
       "      <td>0.001195</td>\n",
       "      <td>33000.0</td>\n",
       "      <td>0.265345</td>\n",
       "      <td>1.722365</td>\n",
       "      <td>1</td>\n",
       "    </tr>\n",
       "    <tr>\n",
       "      <th>4</th>\n",
       "      <td>0.500431</td>\n",
       "      <td>0.878067</td>\n",
       "      <td>0.031019</td>\n",
       "      <td>0.000061</td>\n",
       "      <td>0.006364</td>\n",
       "      <td>0.005979</td>\n",
       "      <td>0.12224</td>\n",
       "      <td>0.032282</td>\n",
       "      <td>0.000120</td>\n",
       "      <td>0.300359</td>\n",
       "      <td>0.00102</td>\n",
       "      <td>0.080266</td>\n",
       "      <td>83658000.0</td>\n",
       "      <td>0.001195</td>\n",
       "      <td>33000.0</td>\n",
       "      <td>0.273947</td>\n",
       "      <td>1.754620</td>\n",
       "      <td>1</td>\n",
       "    </tr>\n",
       "    <tr>\n",
       "      <th>...</th>\n",
       "      <td>...</td>\n",
       "      <td>...</td>\n",
       "      <td>...</td>\n",
       "      <td>...</td>\n",
       "      <td>...</td>\n",
       "      <td>...</td>\n",
       "      <td>...</td>\n",
       "      <td>...</td>\n",
       "      <td>...</td>\n",
       "      <td>...</td>\n",
       "      <td>...</td>\n",
       "      <td>...</td>\n",
       "      <td>...</td>\n",
       "      <td>...</td>\n",
       "      <td>...</td>\n",
       "      <td>...</td>\n",
       "      <td>...</td>\n",
       "      <td>...</td>\n",
       "    </tr>\n",
       "    <tr>\n",
       "      <th>8539356</th>\n",
       "      <td>0.964932</td>\n",
       "      <td>0.630721</td>\n",
       "      <td>0.020055</td>\n",
       "      <td>0.009224</td>\n",
       "      <td>0.020583</td>\n",
       "      <td>0.205333</td>\n",
       "      <td>0.10297</td>\n",
       "      <td>0.100730</td>\n",
       "      <td>0.131715</td>\n",
       "      <td>0.003442</td>\n",
       "      <td>0.04228</td>\n",
       "      <td>0.000434</td>\n",
       "      <td>115201000.0</td>\n",
       "      <td>0.000886</td>\n",
       "      <td>61000.0</td>\n",
       "      <td>-0.209451</td>\n",
       "      <td>0.653643</td>\n",
       "      <td>1</td>\n",
       "    </tr>\n",
       "    <tr>\n",
       "      <th>8539357</th>\n",
       "      <td>0.964932</td>\n",
       "      <td>0.630721</td>\n",
       "      <td>0.020055</td>\n",
       "      <td>0.009224</td>\n",
       "      <td>0.020583</td>\n",
       "      <td>0.205333</td>\n",
       "      <td>0.10297</td>\n",
       "      <td>0.100730</td>\n",
       "      <td>0.131715</td>\n",
       "      <td>0.003442</td>\n",
       "      <td>0.04228</td>\n",
       "      <td>0.000434</td>\n",
       "      <td>115201000.0</td>\n",
       "      <td>0.000886</td>\n",
       "      <td>61000.0</td>\n",
       "      <td>-0.209451</td>\n",
       "      <td>0.653643</td>\n",
       "      <td>1</td>\n",
       "    </tr>\n",
       "    <tr>\n",
       "      <th>8539358</th>\n",
       "      <td>0.964932</td>\n",
       "      <td>0.634150</td>\n",
       "      <td>0.020055</td>\n",
       "      <td>0.004341</td>\n",
       "      <td>0.020583</td>\n",
       "      <td>0.009224</td>\n",
       "      <td>0.10297</td>\n",
       "      <td>0.205333</td>\n",
       "      <td>0.131715</td>\n",
       "      <td>0.100730</td>\n",
       "      <td>0.04228</td>\n",
       "      <td>0.003442</td>\n",
       "      <td>115201000.0</td>\n",
       "      <td>0.000886</td>\n",
       "      <td>60000.0</td>\n",
       "      <td>-0.206858</td>\n",
       "      <td>0.657196</td>\n",
       "      <td>1</td>\n",
       "    </tr>\n",
       "    <tr>\n",
       "      <th>8539359</th>\n",
       "      <td>0.963627</td>\n",
       "      <td>0.588224</td>\n",
       "      <td>0.018750</td>\n",
       "      <td>0.004441</td>\n",
       "      <td>0.020583</td>\n",
       "      <td>0.009224</td>\n",
       "      <td>0.10297</td>\n",
       "      <td>0.205333</td>\n",
       "      <td>0.131715</td>\n",
       "      <td>0.100730</td>\n",
       "      <td>0.04228</td>\n",
       "      <td>0.003442</td>\n",
       "      <td>115262000.0</td>\n",
       "      <td>0.000652</td>\n",
       "      <td>60000.0</td>\n",
       "      <td>-0.241907</td>\n",
       "      <td>0.610427</td>\n",
       "      <td>1</td>\n",
       "    </tr>\n",
       "    <tr>\n",
       "      <th>8539360</th>\n",
       "      <td>0.963627</td>\n",
       "      <td>0.636571</td>\n",
       "      <td>0.018750</td>\n",
       "      <td>0.004441</td>\n",
       "      <td>0.020583</td>\n",
       "      <td>0.009224</td>\n",
       "      <td>0.10297</td>\n",
       "      <td>0.231360</td>\n",
       "      <td>0.131715</td>\n",
       "      <td>0.100730</td>\n",
       "      <td>0.04228</td>\n",
       "      <td>0.003442</td>\n",
       "      <td>115262000.0</td>\n",
       "      <td>0.000652</td>\n",
       "      <td>60000.0</td>\n",
       "      <td>-0.204385</td>\n",
       "      <td>0.660599</td>\n",
       "      <td>1</td>\n",
       "    </tr>\n",
       "  </tbody>\n",
       "</table>\n",
       "<p>8539361 rows × 18 columns</p>\n",
       "</div>"
      ],
      "text/plain": [
       "         total_ask_size  total_bid_size  1_ask_size  1_bid_size  2_ask_size  \\\n",
       "0              0.499237        0.925602    0.032215    0.005979    0.006364   \n",
       "1              0.501627        0.896695    0.032215    0.005979    0.006364   \n",
       "2              0.501627        0.861926    0.032215    0.000061    0.006364   \n",
       "3              0.500431        0.861926    0.031019    0.000061    0.006364   \n",
       "4              0.500431        0.878067    0.031019    0.000061    0.006364   \n",
       "...                 ...             ...         ...         ...         ...   \n",
       "8539356        0.964932        0.630721    0.020055    0.009224    0.020583   \n",
       "8539357        0.964932        0.630721    0.020055    0.009224    0.020583   \n",
       "8539358        0.964932        0.634150    0.020055    0.004341    0.020583   \n",
       "8539359        0.963627        0.588224    0.018750    0.004441    0.020583   \n",
       "8539360        0.963627        0.636571    0.018750    0.004441    0.020583   \n",
       "\n",
       "         2_bid_size  3_ask_size  3_bid_size  4_ask_size  4_bid_size  \\\n",
       "0          0.016141     0.12224    0.063830    0.000120    0.300359   \n",
       "1          0.016141     0.12224    0.300359    0.000120    0.080266   \n",
       "2          0.005979     0.12224    0.016141    0.000120    0.300359   \n",
       "3          0.005979     0.12224    0.016141    0.000120    0.300359   \n",
       "4          0.005979     0.12224    0.032282    0.000120    0.300359   \n",
       "...             ...         ...         ...         ...         ...   \n",
       "8539356    0.205333     0.10297    0.100730    0.131715    0.003442   \n",
       "8539357    0.205333     0.10297    0.100730    0.131715    0.003442   \n",
       "8539358    0.009224     0.10297    0.205333    0.131715    0.100730   \n",
       "8539359    0.009224     0.10297    0.205333    0.131715    0.100730   \n",
       "8539360    0.009224     0.10297    0.231360    0.131715    0.100730   \n",
       "\n",
       "         5_ask_size  5_bid_size  trade_price  trade_volume   spread  \\\n",
       "0           0.00102    0.080266   83658000.0      0.000100  36000.0   \n",
       "1           0.00102    0.142020   83658000.0      0.000100  36000.0   \n",
       "2           0.00102    0.080266   83658000.0      0.000100  33000.0   \n",
       "3           0.00102    0.080266   83658000.0      0.001195  33000.0   \n",
       "4           0.00102    0.080266   83658000.0      0.001195  33000.0   \n",
       "...             ...         ...          ...           ...      ...   \n",
       "8539356     0.04228    0.000434  115201000.0      0.000886  61000.0   \n",
       "8539357     0.04228    0.000434  115201000.0      0.000886  61000.0   \n",
       "8539358     0.04228    0.003442  115201000.0      0.000886  60000.0   \n",
       "8539359     0.04228    0.003442  115262000.0      0.000652  60000.0   \n",
       "8539360     0.04228    0.003442  115262000.0      0.000652  60000.0   \n",
       "\n",
       "         imbalance  totalSize_ratio  trade_price_10min_later  \n",
       "0         0.299237         1.854033                        1  \n",
       "1         0.282530         1.787573                        1  \n",
       "2         0.264235         1.718261                        1  \n",
       "3         0.265345         1.722365                        1  \n",
       "4         0.273947         1.754620                        1  \n",
       "...            ...              ...                      ...  \n",
       "8539356  -0.209451         0.653643                        1  \n",
       "8539357  -0.209451         0.653643                        1  \n",
       "8539358  -0.206858         0.657196                        1  \n",
       "8539359  -0.241907         0.610427                        1  \n",
       "8539360  -0.204385         0.660599                        1  \n",
       "\n",
       "[8539361 rows x 18 columns]"
      ]
     },
     "execution_count": 4,
     "metadata": {},
     "output_type": "execute_result"
    }
   ],
   "source": [
    "df = pd.read_csv(\"../data/final_data.csv\")\n",
    "df"
   ]
  },
  {
   "cell_type": "code",
   "execution_count": 5,
   "id": "8c1ede41-04b9-485d-a492-3be72263cdc5",
   "metadata": {},
   "outputs": [
    {
     "name": "stdout",
     "output_type": "stream",
     "text": [
      "<class 'pandas.core.frame.DataFrame'>\n",
      "RangeIndex: 8539361 entries, 0 to 8539360\n",
      "Data columns (total 18 columns):\n",
      " #   Column                   Dtype  \n",
      "---  ------                   -----  \n",
      " 0   total_ask_size           float64\n",
      " 1   total_bid_size           float64\n",
      " 2   1_ask_size               float64\n",
      " 3   1_bid_size               float64\n",
      " 4   2_ask_size               float64\n",
      " 5   2_bid_size               float64\n",
      " 6   3_ask_size               float64\n",
      " 7   3_bid_size               float64\n",
      " 8   4_ask_size               float64\n",
      " 9   4_bid_size               float64\n",
      " 10  5_ask_size               float64\n",
      " 11  5_bid_size               float64\n",
      " 12  trade_price              float64\n",
      " 13  trade_volume             float64\n",
      " 14  spread                   float64\n",
      " 15  imbalance                float64\n",
      " 16  totalSize_ratio          float64\n",
      " 17  trade_price_10min_later  int64  \n",
      "dtypes: float64(17), int64(1)\n",
      "memory usage: 1.1 GB\n"
     ]
    }
   ],
   "source": [
    "df.info()"
   ]
  },
  {
   "cell_type": "markdown",
   "id": "738bbe50-2774-4f25-a99a-d7716d51ce47",
   "metadata": {},
   "source": [
    "# (3) 데이터 전처리"
   ]
  },
  {
   "cell_type": "markdown",
   "id": "055b4e70-ad72-42d3-a27c-5e78b326d20e",
   "metadata": {},
   "source": [
    "## (3-1) X와 y 데이터셋 분리"
   ]
  },
  {
   "cell_type": "code",
   "execution_count": 8,
   "id": "ebb4fdb0-de2e-43bf-9559-946ed2b6621b",
   "metadata": {},
   "outputs": [],
   "source": [
    "#X와 y 데이터셋 분리\n",
    "X = df.drop(columns=['trade_price_10min_later']).values\n",
    "y = df['trade_price_10min_later'].values #trade_price_10min_later가 target"
   ]
  },
  {
   "cell_type": "markdown",
   "id": "523137dd-8303-4fdb-beb9-b4cf349479b5",
   "metadata": {},
   "source": [
    "## (3-2) 데이터 스케일링"
   ]
  },
  {
   "cell_type": "code",
   "execution_count": 10,
   "id": "ced3e5a9-0cab-48a9-9d9b-f3b54a126064",
   "metadata": {},
   "outputs": [
    {
     "data": {
      "text/plain": [
       "array([[-0.46864885, -0.48818751, -0.16774026, ...,  0.63178415,\n",
       "         1.07748541,  0.27778769],\n",
       "       [-0.46821369, -0.50177367, -0.16774026, ...,  0.63178415,\n",
       "         1.04007341,  0.24741268],\n",
       "       [-0.46821369, -0.51811499, -0.16774026, ...,  0.50459123,\n",
       "         0.99910666,  0.21573386],\n",
       "       ...,\n",
       "       [-0.38385642, -0.62516894, -0.17473259, ...,  1.64932751,\n",
       "        -0.05579929, -0.2692184 ],\n",
       "       [-0.384094  , -0.64675385, -0.17548293, ...,  1.64932751,\n",
       "        -0.13428358, -0.29059398],\n",
       "       [-0.384094  , -0.62403104, -0.17548293, ...,  1.64932751,\n",
       "        -0.05026221, -0.26766337]])"
      ]
     },
     "execution_count": 10,
     "metadata": {},
     "output_type": "execute_result"
    }
   ],
   "source": [
    "scaler = StandardScaler()\n",
    "X_scaled = scaler.fit_transform(X)\n",
    "X_scaled"
   ]
  },
  {
   "cell_type": "markdown",
   "id": "b1082e57-9550-4be2-bdb0-f035ad5e80e2",
   "metadata": {},
   "source": [
    "## (3-3) 시퀀스 데이터 생성"
   ]
  },
  {
   "cell_type": "code",
   "execution_count": 12,
   "id": "a34a048e-8ee3-4d96-9a06-c48b9c7bc025",
   "metadata": {},
   "outputs": [
    {
     "name": "stdout",
     "output_type": "stream",
     "text": [
      "X_sequences 차원: (8539351, 10, 17)\n",
      "y_sequences 차원: (8539351,)\n"
     ]
    }
   ],
   "source": [
    "timesteps = 10 #10개 행씩 묶어서 진행 (이 부분은 hyper-parameter로 조정 가능)\n",
    "X_sequences, y_sequences = [], []\n",
    "\n",
    "for i in range(len(X_scaled) - timesteps):\n",
    "    X_sequences.append(X_scaled[i:i+timesteps]) #현재부터 다음 10개까지 데이터를 슬라이싱하여 한 묶음으로\n",
    "    y_sequences.append(y[i+timesteps])\n",
    "\n",
    "#dtype을 float64 -> float32로 변경 (메모리 문제 방지를 위해)\n",
    "#float32는 소수점 7자리까지 보장\n",
    "X_sequences = np.array(X_sequences, dtype=np.float32) #10개 시점의 X 데이터\n",
    "y_sequences = np.array(y_sequences, dtype=np.float32) #그 다음 시점의 y값\n",
    "\n",
    "#차원 확인\n",
    "print(f'X_sequences 차원: {X_sequences.shape}')\n",
    "print(f'y_sequences 차원: {y_sequences.shape}')"
   ]
  },
  {
   "cell_type": "markdown",
   "id": "9cb01bf2-ff6c-425f-ac5d-5bafe873eb1c",
   "metadata": {},
   "source": [
    "## (3-4) train, test 셋 분리"
   ]
  },
  {
   "cell_type": "code",
   "execution_count": 14,
   "id": "2fd2d4f2-bf5c-4f22-87a2-77c1f3206a30",
   "metadata": {},
   "outputs": [
    {
     "name": "stdout",
     "output_type": "stream",
     "text": [
      "X_train 차원: (6831480, 10, 17)\n",
      "y_train 차원: (6831480,)\n",
      "X_test 차원: (1707871, 10, 17)\n",
      "y_test 차원: (1707871,)\n"
     ]
    }
   ],
   "source": [
    "#시퀀스 데이터의 train, test 분리는 시간 패턴에 따른 과적합 방지를 위해 비시계열성 데이터처럼 섞어서 진행해야 함\n",
    "X_train, X_test, y_train, y_test = train_test_split(X_sequences, y_sequences, test_size=0.2, random_state=42) #8:2 분리\n",
    "\n",
    "#차원 확인\n",
    "print(f'X_train 차원: {X_train.shape}')\n",
    "print(f'y_train 차원: {y_train.shape}')\n",
    "print(f'X_test 차원: {X_test.shape}')\n",
    "print(f'y_test 차원: {y_test.shape}')"
   ]
  },
  {
   "cell_type": "markdown",
   "id": "8b236c80-9ecf-4d40-a6ee-ed4f54b35515",
   "metadata": {},
   "source": [
    "# (4) TFT 모델링"
   ]
  },
  {
   "cell_type": "markdown",
   "id": "d9109fdf-303e-41d7-9d52-abc914f6784e",
   "metadata": {},
   "source": [
    "## (4-1) 모델 구조 설정"
   ]
  },
  {
   "cell_type": "code",
   "execution_count": 17,
   "id": "44946730-5055-4f6b-ba84-79dd402d1890",
   "metadata": {},
   "outputs": [
    {
     "name": "stdout",
     "output_type": "stream",
     "text": [
      "Model: \"model\"\n",
      "__________________________________________________________________________________________________\n",
      " Layer (type)                   Output Shape         Param #     Connected to                     \n",
      "==================================================================================================\n",
      " input_1 (InputLayer)           [(None, 10, 17)]     0           []                               \n",
      "                                                                                                  \n",
      " time_distributed (TimeDistribu  (None, 10, 64)      1152        ['input_1[0][0]']                \n",
      " ted)                                                                                             \n",
      "                                                                                                  \n",
      " lstm (LSTM)                    (None, 10, 64)       33024       ['time_distributed[0][0]']       \n",
      "                                                                                                  \n",
      " multi_head_attention (MultiHea  (None, 10, 64)      66368       ['lstm[0][0]',                   \n",
      " dAttention)                                                      'lstm[0][0]']                   \n",
      "                                                                                                  \n",
      " layer_normalization (LayerNorm  (None, 10, 64)      128         ['multi_head_attention[0][0]']   \n",
      " alization)                                                                                       \n",
      "                                                                                                  \n",
      " add (Add)                      (None, 10, 64)       0           ['lstm[0][0]',                   \n",
      "                                                                  'layer_normalization[0][0]']    \n",
      "                                                                                                  \n",
      " layer_normalization_1 (LayerNo  (None, 10, 64)      128         ['add[0][0]']                    \n",
      " rmalization)                                                                                     \n",
      "                                                                                                  \n",
      " flatten (Flatten)              (None, 640)          0           ['layer_normalization_1[0][0]']  \n",
      "                                                                                                  \n",
      " dense_1 (Dense)                (None, 32)           20512       ['flatten[0][0]']                \n",
      "                                                                                                  \n",
      " dropout (Dropout)              (None, 32)           0           ['dense_1[0][0]']                \n",
      "                                                                                                  \n",
      " dense_2 (Dense)                (None, 1)            33          ['dropout[0][0]']                \n",
      "                                                                                                  \n",
      "==================================================================================================\n",
      "Total params: 121,345\n",
      "Trainable params: 121,345\n",
      "Non-trainable params: 0\n",
      "__________________________________________________________________________________________________\n"
     ]
    }
   ],
   "source": [
    "#TFT 모델 구성\n",
    "inputs = layers.Input(shape=(timesteps, X_train.shape[2]))\n",
    "\n",
    "#Input processing (variable selection)\n",
    "processed_inputs = layers.TimeDistributed(layers.Dense(64, activation='relu'))(inputs)\n",
    "\n",
    "# LSTM block\n",
    "lstm_output = layers.LSTM(64, return_sequences=True)(processed_inputs)\n",
    "\n",
    "#Temporal attention block\n",
    "attn_output = layers.MultiHeadAttention(num_heads=4, key_dim=64)(lstm_output, lstm_output)\n",
    "attn_output = layers.LayerNormalization()(attn_output)\n",
    "\n",
    "#Skip connection & fusion\n",
    "lstm_and_attn = layers.Add()([lstm_output, attn_output])\n",
    "lstm_and_attn = layers.LayerNormalization()(lstm_and_attn)\n",
    "\n",
    "#Fully connected layers for output\n",
    "flatten = layers.Flatten()(lstm_and_attn)\n",
    "dense1 = layers.Dense(32, activation='relu')(flatten)\n",
    "dense1 = layers.Dropout(0.3)(dense1)\n",
    "outputs = layers.Dense(1, activation='sigmoid')(dense1)\n",
    "\n",
    "#모델 생성\n",
    "tft_model = models.Model(inputs=inputs, outputs=outputs)\n",
    "\n",
    "tft_model.summary()"
   ]
  },
  {
   "cell_type": "markdown",
   "id": "da029c04-d002-42e0-ad00-2f54465614fe",
   "metadata": {},
   "source": [
    "## (4-2) 모델 학습"
   ]
  },
  {
   "cell_type": "code",
   "execution_count": 19,
   "id": "7c802501-39ea-485f-82c4-80a6fae1362a",
   "metadata": {},
   "outputs": [
    {
     "name": "stderr",
     "output_type": "stream",
     "text": [
      "Training Progress:   0%|                                                                        | 0/10 [00:00<?, ?it/s]"
     ]
    },
    {
     "name": "stdout",
     "output_type": "stream",
     "text": [
      "Epoch 1/10\n",
      "106742/106742 [==============================] - ETA: 0s - loss: 0.6932 - accuracy: 0.5025"
     ]
    },
    {
     "name": "stderr",
     "output_type": "stream",
     "text": [
      "Training Progress:  10%|███▏                            | 1/10 [40:29<6:04:28, 2429.84s/it, loss=0.693, val_loss=0.693]"
     ]
    },
    {
     "name": "stdout",
     "output_type": "stream",
     "text": [
      "106742/106742 [==============================] - 2430s 23ms/step - loss: 0.6932 - accuracy: 0.5025 - val_loss: 0.6931 - val_accuracy: 0.5036\n",
      "Epoch 2/10\n",
      "106742/106742 [==============================] - ETA: 0s - loss: 0.6932 - accuracy: 0.5023"
     ]
    },
    {
     "name": "stderr",
     "output_type": "stream",
     "text": [
      "Training Progress:  20%|██████                        | 2/10 [1:21:55<5:28:21, 2462.64s/it, loss=0.693, val_loss=0.693]"
     ]
    },
    {
     "name": "stdout",
     "output_type": "stream",
     "text": [
      "106742/106742 [==============================] - 2486s 23ms/step - loss: 0.6932 - accuracy: 0.5023 - val_loss: 0.6931 - val_accuracy: 0.5036\n",
      "Epoch 3/10\n",
      "106742/106742 [==============================] - ETA: 0s - loss: 0.6932 - accuracy: 0.5024"
     ]
    },
    {
     "name": "stderr",
     "output_type": "stream",
     "text": [
      "Training Progress:  30%|█████████                     | 3/10 [2:14:23<5:23:50, 2775.74s/it, loss=0.693, val_loss=0.693]"
     ]
    },
    {
     "name": "stdout",
     "output_type": "stream",
     "text": [
      "106742/106742 [==============================] - 3148s 29ms/step - loss: 0.6932 - accuracy: 0.5024 - val_loss: 0.6931 - val_accuracy: 0.5036\n"
     ]
    },
    {
     "name": "stderr",
     "output_type": "stream",
     "text": [
      "Training Progress:  30%|█████████                     | 3/10 [2:14:23<5:13:35, 2687.97s/it, loss=0.693, val_loss=0.693]\n"
     ]
    },
    {
     "data": {
      "image/png": "[encoded data removed]",
      "text/plain": [
       "<Figure size 640x480 with 1 Axes>"
      ]
     },
     "metadata": {},
     "output_type": "display_data"
    }
   ],
   "source": [
    "#모델 compile\n",
    "tft_model.compile(optimizer='adam', loss='binary_crossentropy', metrics=['accuracy'])\n",
    "\n",
    "#조기 종료(EarlyStopping) 콜백 설정\n",
    "early_stopping = EarlyStopping(monitor='val_accuracy', patience=2, restore_best_weights=True)\n",
    "\n",
    "#학습 시각화 및 진행 표시를 위한 Callback 설정\n",
    "class TQDMProgressBar(Callback):\n",
    "    def on_train_begin(self, logs=None):\n",
    "        self.epochs = self.params['epochs']\n",
    "        self.tqdm = tqdm(total=self.epochs, desc='Training Progress')\n",
    "\n",
    "    def on_epoch_end(self, epoch, logs=None):\n",
    "        self.tqdm.update(1)\n",
    "        self.tqdm.set_postfix(loss=logs['loss'], val_loss=logs['val_loss'])\n",
    "\n",
    "    def on_train_end(self, logs=None):\n",
    "        self.tqdm.close()\n",
    "\n",
    "#학습 진행\n",
    "history = tft_model.fit(X_train, y_train, epochs=10, batch_size=64, validation_data=(X_test, y_test),\n",
    "                                callbacks=[TQDMProgressBar(), early_stopping])\n",
    "\n",
    "#Epoch-Loss 그래프 시각화\n",
    "plt.plot(history.history['loss'], label='Training Loss')\n",
    "plt.plot(history.history['val_loss'], label='Validation Loss')\n",
    "plt.title('Epoch-Loss Graph')\n",
    "plt.xlabel('Epochs')\n",
    "plt.ylabel('Loss')\n",
    "plt.legend()\n",
    "plt.show()"
   ]
  },
  {
   "cell_type": "markdown",
   "id": "49de880f-11c9-4a21-8e31-be796b9d42cd",
   "metadata": {},
   "source": [
    "## (4-3) 모델 평가"
   ]
  },
  {
   "cell_type": "code",
   "execution_count": 26,
   "id": "53011164-59cf-421b-b652-cebd8784493f",
   "metadata": {},
   "outputs": [
    {
     "name": "stdout",
     "output_type": "stream",
     "text": [
      "53371/53371 [==============================] - 655s 12ms/step - loss: 0.6931 - accuracy: 0.5036\n",
      "Test Loss: 0.6931, Test Accuracy: 0.5036\n",
      "53371/53371 [==============================] - 467s 9ms/step\n"
     ]
    },
    {
     "data": {
      "image/png": "[encoded data removed]",
      "text/plain": [
       "<Figure size 600x400 with 2 Axes>"
      ]
     },
     "metadata": {},
     "output_type": "display_data"
    },
    {
     "name": "stderr",
     "output_type": "stream",
     "text": [
      "C:\\Users\\lys17\\anaconda3\\envs\\tensorflow\\lib\\site-packages\\sklearn\\metrics\\_classification.py:1531: UndefinedMetricWarning: Precision is ill-defined and being set to 0.0 in labels with no predicted samples. Use `zero_division` parameter to control this behavior.\n",
      "  _warn_prf(average, modifier, f\"{metric.capitalize()} is\", len(result))\n",
      "C:\\Users\\lys17\\anaconda3\\envs\\tensorflow\\lib\\site-packages\\sklearn\\metrics\\_classification.py:1531: UndefinedMetricWarning: Precision is ill-defined and being set to 0.0 in labels with no predicted samples. Use `zero_division` parameter to control this behavior.\n",
      "  _warn_prf(average, modifier, f\"{metric.capitalize()} is\", len(result))\n"
     ]
    },
    {
     "name": "stdout",
     "output_type": "stream",
     "text": [
      "              precision    recall  f1-score   support\n",
      "\n",
      "    Negative       0.50      1.00      0.67    860169\n",
      "    Positive       0.00      0.00      0.00    847702\n",
      "\n",
      "    accuracy                           0.50   1707871\n",
      "   macro avg       0.25      0.50      0.33   1707871\n",
      "weighted avg       0.25      0.50      0.34   1707871\n",
      "\n"
     ]
    },
    {
     "name": "stderr",
     "output_type": "stream",
     "text": [
      "C:\\Users\\lys17\\anaconda3\\envs\\tensorflow\\lib\\site-packages\\sklearn\\metrics\\_classification.py:1531: UndefinedMetricWarning: Precision is ill-defined and being set to 0.0 in labels with no predicted samples. Use `zero_division` parameter to control this behavior.\n",
      "  _warn_prf(average, modifier, f\"{metric.capitalize()} is\", len(result))\n"
     ]
    }
   ],
   "source": [
    "#모델 평가\n",
    "loss, accuracy = tft_model.evaluate(X_test, y_test)\n",
    "print(f\"Test Loss: {loss:.4f}, Test Accuracy: {accuracy:.4f}\")\n",
    "\n",
    "#예측값 생성\n",
    "y_pred = tft_model.predict(X_test)\n",
    "y_pred = (y_pred > 0.5).astype(int) #확률을 0과 1로 변환\n",
    "\n",
    "#혼동 행렬 시각화\n",
    "conf_matrix = confusion_matrix(y_test, y_pred)\n",
    "plt.figure(figsize=(6, 4))\n",
    "sns.heatmap(conf_matrix, annot=True, fmt='d', cmap='Blues', xticklabels=['Negative', 'Positive'], yticklabels=['Negative', 'Positive'])\n",
    "plt.xlabel('Predicted Label')\n",
    "plt.ylabel('True Label')\n",
    "plt.title('Confusion Matrix')\n",
    "plt.show()\n",
    "\n",
    "# 정밀도, 재현율, F1-스코어 출력\n",
    "print(classification_report(y_test, y_pred, target_names=['Negative', 'Positive']))"
   ]
  },
  {
   "cell_type": "code",
   "execution_count": 27,
   "id": "feb42de9-e7d9-4aea-8f14-0b05c41907aa",
   "metadata": {},
   "outputs": [
    {
     "name": "stdout",
     "output_type": "stream",
     "text": [
      "Predicted class labels (0 or 1): [0 0 0 ... 0 0 0]\n"
     ]
    }
   ],
   "source": [
    "#예측된 클래스 출력\n",
    "print(\"Predicted class labels (0 or 1):\", y_pred.flatten())"
   ]
  },
  {
   "cell_type": "code",
   "execution_count": 28,
   "id": "587ffc19-4888-42a2-a37e-a94b59edf7fd",
   "metadata": {},
   "outputs": [
    {
     "name": "stdout",
     "output_type": "stream",
     "text": [
      "53371/53371 [==============================] - 526s 10ms/step\n"
     ]
    },
    {
     "data": {
      "text/plain": [
       "array([[0.49745712],\n",
       "       [0.49745712],\n",
       "       [0.49745712],\n",
       "       ...,\n",
       "       [0.49745712],\n",
       "       [0.49745712],\n",
       "       [0.49745712]], dtype=float32)"
      ]
     },
     "execution_count": 28,
     "metadata": {},
     "output_type": "execute_result"
    }
   ],
   "source": [
    "#모델 예측값\n",
    "tft_model.predict(X_test)"
   ]
  },
  {
   "cell_type": "markdown",
   "id": "c920a95c-bf14-4480-be03-4d56cdadb222",
   "metadata": {},
   "source": [
    "# (5) 모델 저장"
   ]
  },
  {
   "cell_type": "code",
   "execution_count": 29,
   "id": "d3aa97e0-959c-4157-8635-8bede19c06d7",
   "metadata": {},
   "outputs": [],
   "source": [
    "#첫 번째 파라미터 조합의 tft 모델 저장\n",
    "tft_model.save(\"tft_1.h5\")"
   ]
  },
  {
   "cell_type": "code",
   "execution_count": null,
   "id": "3e20e31d-0135-4df2-b18e-4ccbf1dc37c2",
   "metadata": {},
   "outputs": [],
   "source": []
  }
 ],
 "metadata": {
  "kernelspec": {
   "display_name": "tensorflow",
   "language": "python",
   "name": "tensorflow"
  },
  "language_info": {
   "codemirror_mode": {
    "name": "ipython",
    "version": 3
   },
   "file_extension": ".py",
   "mimetype": "text/x-python",
   "name": "python",
   "nbconvert_exporter": "python",
   "pygments_lexer": "ipython3",
   "version": "3.9.15"
  }
 },
 "nbformat": 4,
 "nbformat_minor": 5
}
